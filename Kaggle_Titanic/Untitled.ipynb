{
 "cells": [
  {
   "cell_type": "code",
   "execution_count": 1,
   "metadata": {
    "collapsed": true
   },
   "outputs": [],
   "source": [
    "import pandas as pd\n",
    "import numpy as np\n",
    "import matplotlib.pyplot as plt\n",
    "import seaborn as sns\n",
    "sns.set()\n",
    "sns.set_style(\"whitegrid\")\n",
    "from scipy.stats import norm\n",
    "from scipy import stats\n",
    "import re\n",
    "from sklearn.preprocessing import StandardScaler,MinMaxScaler\n",
    "from sklearn.model_selection import train_test_split"
   ]
  },
  {
   "cell_type": "code",
   "execution_count": 2,
   "metadata": {
    "collapsed": true,
    "scrolled": true
   },
   "outputs": [],
   "source": [
    "train_data=pd.read_csv('train.csv',index_col='PassengerId')\n",
    "answer_data=pd.read_csv('test.csv',index_col='PassengerId')\n"
   ]
  },
  {
   "cell_type": "raw",
   "metadata": {},
   "source": [
    "pd.pivot_table(train_set.fillna('missing'),\n",
    "               index='Embarked',columns='Survived',\n",
    "               values='Pclass',aggfunc='count',fill_value=0)"
   ]
  },
  {
   "cell_type": "code",
   "execution_count": 3,
   "metadata": {},
   "outputs": [
    {
     "name": "stdout",
     "output_type": "stream",
     "text": [
      "                survived  notSurvived\n",
      "(-10.001, 0.0]         1         14.0\n",
      "(0.0, 10.0]           66        255.0\n",
      "(10.0, 20.0]          76        103.0\n",
      "(20.0, 30.0]          63         79.0\n",
      "(30.0, 40.0]          23         35.0\n",
      "(40.0, 50.0]           4         12.0\n",
      "(50.0, 60.0]          27         11.0\n",
      "(60.0, 70.0]           6         11.0\n",
      "(70.0, 80.0]          19         12.0\n",
      "(80.0, 90.0]          14          3.0\n",
      "(90.0, 100.0]          4          0.0\n",
      "(100.0, 110.0]         2          2.0\n",
      "(110.0, 120.0]         9          2.0\n",
      "(120.0, 130.0]         0          0.0\n",
      "(130.0, 140.0]         6          1.0\n",
      "(140.0, 150.0]         2          0.0\n",
      "(150.0, 160.0]         4          3.0\n",
      "(160.0, 170.0]         2          0.0\n",
      "(170.0, 180.0]         0          0.0\n",
      "(180.0, 190.0]         0          0.0\n",
      "(190.0, 200.0]         0          0.0\n",
      "(200.0, 210.0]         0          0.0\n",
      "(210.0, 220.0]         3          1.0\n",
      "(220.0, 230.0]         3          2.0\n",
      "(230.0, 240.0]         0          0.0\n",
      "(240.0, 250.0]         1          1.0\n",
      "(250.0, 260.0]         0          0.0\n",
      "(260.0, 270.0]         4          2.0\n",
      "(270.0, 280.0]         0          0.0\n",
      "(280.0, 290.0]         0          0.0\n",
      "(290.0, 300.0]         0          0.0\n",
      "(300.0, 310.0]         0          0.0\n",
      "(310.0, 320.0]         0          0.0\n",
      "(320.0, 330.0]         0          0.0\n",
      "(330.0, 340.0]         0          0.0\n",
      "(340.0, 350.0]         0          0.0\n",
      "(350.0, 360.0]         0          0.0\n",
      "(360.0, 370.0]         0          0.0\n",
      "(370.0, 380.0]         0          0.0\n",
      "(380.0, 390.0]         0          0.0\n",
      "(390.0, 400.0]         0          0.0\n",
      "(400.0, 410.0]         0          0.0\n",
      "(410.0, 420.0]         0          0.0\n",
      "(420.0, 430.0]         0          0.0\n",
      "(430.0, 440.0]         0          0.0\n",
      "(440.0, 450.0]         0          0.0\n",
      "(450.0, 460.0]         0          0.0\n",
      "(460.0, 470.0]         0          0.0\n",
      "(470.0, 480.0]         0          0.0\n",
      "(480.0, 490.0]         0          0.0\n",
      "(490.0, 500.0]         0          0.0\n",
      "(500.0, 510.0]         0          0.0\n",
      "(510.0, 520.0]         3          0.0\n"
     ]
    }
   ],
   "source": [
    "data=train_data[train_data['Survived']==1].fillna(-1)['Fare']\n",
    "a=pd.DataFrame(pd.value_counts(data,bins=range(-10,int(data.max()+10),10),sort=False,dropna=False))\n",
    "data=train_data[train_data['Survived']==0].fillna(-1)['Fare']\n",
    "b=pd.DataFrame(pd.value_counts(data,bins=range(-10,int(data.max()+10),10),sort=False,dropna=False))\n",
    "c=pd.concat([a,b],axis=1,).fillna(0)\n",
    "c.columns=['survived','notSurvived']\n",
    "print(c)"
   ]
  },
  {
   "cell_type": "code",
   "execution_count": 4,
   "metadata": {},
   "outputs": [
    {
     "name": "stdout",
     "output_type": "stream",
     "text": [
      "               survived  notSurvived\n",
      "(-5.001, 0.0]        52        125.0\n",
      "(0.0, 5.0]           31         13.0\n",
      "(5.0, 10.0]           7         13.0\n",
      "(10.0, 15.0]         11          8.0\n",
      "(15.0, 20.0]         33         63.0\n",
      "(20.0, 25.0]         42         80.0\n",
      "(25.0, 30.0]         42         66.0\n",
      "(30.0, 35.0]         41         47.0\n",
      "(35.0, 40.0]         28         39.0\n",
      "(40.0, 45.0]         17         30.0\n",
      "(45.0, 50.0]         16         23.0\n",
      "(50.0, 55.0]         10         14.0\n",
      "(55.0, 60.0]          7         11.0\n",
      "(60.0, 65.0]          4         10.0\n",
      "(65.0, 70.0]          0          3.0\n",
      "(70.0, 75.0]          0          4.0\n",
      "(75.0, 80.0]          1          0.0\n"
     ]
    },
    {
     "data": {
      "image/png": "[encoded data removed]",
      "text/plain": [
       "<matplotlib.figure.Figure at 0xa594978>"
      ]
     },
     "metadata": {},
     "output_type": "display_data"
    },
    {
     "data": {
      "image/png": "[encoded data removed]",
      "text/plain": [
       "<matplotlib.figure.Figure at 0xa673470>"
      ]
     },
     "metadata": {},
     "output_type": "display_data"
    }
   ],
   "source": [
    "#data=train_data.fillna(-1)['Age']\n",
    "#pd.DataFrame(pd.value_counts(data,bins=range(-50,int(data.max()+50),50),sort=False,dropna=False))\n",
    "\n",
    "data=train_data[train_data['Survived']==1].fillna(-1)['Age']\n",
    "a=pd.DataFrame(pd.value_counts(data,bins=range(-5,int(data.max()+5),5),sort=False,dropna=False))\n",
    "data=train_data[train_data['Survived']==0].fillna(-1)['Age']\n",
    "b=pd.DataFrame(pd.value_counts(data,bins=range(-5,int(data.max()+5),5),sort=False,dropna=False))\n",
    "c=pd.concat([a,b],axis=1,).fillna(0)\n",
    "c.columns=['survived','notSurvived']\n",
    "print(c)\n",
    "\n",
    "plt.hist(train_data[train_data['Survived']==1].fillna(-1)['Age'],bins=range(0,85,5))\n",
    "plt.title('Survived')\n",
    "plt.show()\n",
    "plt.hist(train_data[train_data['Survived']==0].fillna(-1)['Age'],bins=range(0,85,5))\n",
    "plt.title('Not Survived')\n",
    "plt.show()\n"
   ]
  },
  {
   "cell_type": "code",
   "execution_count": 5,
   "metadata": {},
   "outputs": [
    {
     "name": "stdout",
     "output_type": "stream",
     "text": [
      "(624, 11)\n",
      "(267, 11)\n",
      "(418, 10)\n",
      "(624, 13)\n",
      "(267, 13)\n",
      "(418, 12)\n"
     ]
    }
   ],
   "source": [
    "test_set=train_data.sample(frac=0.3,random_state=20)\n",
    "train_set=train_data.drop(test_set.index)\n",
    "answer_set=answer_data\n",
    "\n",
    "print(train_set.shape)\n",
    "print(test_set.shape)\n",
    "print(answer_set.shape)\n",
    "\n",
    "train_set=train_set.replace({'Pclass': {1: '1st',2:'2nd',3:'3rd'}})\n",
    "test_set=test_set.replace({'Pclass': {1: '1st',2:'2nd',3:'3rd'}})\n",
    "answer_set=answer_set.replace({'Pclass': {1: '1st',2:'2nd',3:'3rd'}})\n",
    "\n",
    "#Embarked遺缺值刪除\n",
    "train_set['Embarked']=train_set['Embarked'].fillna('S')\n",
    "train_set=train_set[train_set['Embarked']!='missing']\n",
    "#Age遺缺值根據存活與否給平均數\n",
    "avg_age0=train_set['Age'].mean()\n",
    "train_set.loc[train_set['Sex']=='male','Age']=train_set.loc[train_set['Sex']=='male','Age'].fillna(avg_age0)\n",
    "train_set.loc[train_set['Sex']=='female','Age']=train_set.loc[train_set['Sex']=='female','Age'].fillna(avg_age0)\n",
    "\n",
    "train_set['Fare']=train_set['Fare'].fillna(train_set['Fare'].mean())\n",
    "avg_age0=train_set.loc[train_set['Sex']=='male','Fare'].mean()\n",
    "avg_age1=train_set.loc[train_set['Sex']=='female','Fare'].mean()\n",
    "train_set.loc[train_set['Sex']=='male','Fare']=train_set.loc[train_set['Sex']=='male','Fare'].fillna(avg_age0)\n",
    "train_set.loc[train_set['Sex']=='female','Fare']=train_set.loc[train_set['Sex']=='female','Fare'].fillna(avg_age1)\n",
    "\n",
    "train_set['Cabin']=train_set['Cabin'].fillna('Missing')\n",
    "train_set['Cabin']=[x[:1] for x in train_set['Cabin']]\n",
    "train_set=train_set.replace({'Cabin': {'T': 'M'}})\n",
    "train_set['totalFamily']=train_set['Parch']+train_set['SibSp']\n",
    "train_set.loc[train_set['totalFamily']!=0,'isAlone']=1\n",
    "train_set.loc[train_set['totalFamily']==0,'isAlone']=0\n",
    "\n",
    "#---------------------------------------------------------------------\n",
    "test_set['Embarked']=test_set['Embarked'].fillna('S')\n",
    "test_set=test_set[test_set['Embarked']!='missing']\n",
    "#test_set['Age']=test_set['Age'].fillna(test_set['Age'].mean())\n",
    "test_set['Fare']=test_set['Fare'].fillna(test_set['Fare'].mean())\n",
    "test_set['Cabin']=test_set['Cabin'].fillna('Missing')\n",
    "test_set['Cabin']=[x[:1] for x in test_set['Cabin']]\n",
    "test_set=test_set.replace({'Cabin': {'T': 'M'}})\n",
    "avg_age0=test_set['Age'].mean()\n",
    "test_set.loc[test_set['Sex']=='male','Age']=test_set.loc[test_set['Sex']=='male','Age'].fillna(avg_age0)\n",
    "test_set.loc[test_set['Sex']=='female','Age']=test_set.loc[test_set['Sex']=='female','Age'].fillna(avg_age0)\n",
    "\n",
    "avg_age0=test_set.loc[test_set['Sex']=='male','Fare'].mean()\n",
    "avg_age1=test_set.loc[test_set['Sex']=='female','Fare'].mean()\n",
    "test_set.loc[test_set['Sex']=='male','Fare']=test_set.loc[test_set['Sex']=='male','Fare'].fillna(avg_age0)\n",
    "test_set.loc[test_set['Sex']=='female','Fare']=test_set.loc[test_set['Sex']=='female','Fare'].fillna(avg_age1)\n",
    "test_set['totalFamily']=test_set['Parch']+test_set['SibSp']\n",
    "test_set.loc[test_set['totalFamily']!=0,'isAlone']=1\n",
    "test_set.loc[test_set['totalFamily']==0,'isAlone']=0\n",
    "\n",
    "\n",
    "#---------------------------------------------------------------------\n",
    "#answer_set['Embarked']=answer_set['Embarked'].fillna('missing')\n",
    "#answer_set['Age']=answer_set['Age'].fillna(answer_set['Age'].mean())\n",
    "answer_set['Fare']=answer_set['Fare'].fillna(answer_set['Fare'].mean())\n",
    "answer_set['Cabin']=answer_set['Cabin'].fillna('Missing')\n",
    "answer_set['Cabin']=[x[:1] for x in answer_set['Cabin']]\n",
    "avg_age0=answer_set.loc[answer_set['Sex']=='male','Age'].mean()\n",
    "avg_age1=answer_set.loc[answer_set['Sex']=='female','Age'].mean()\n",
    "answer_set.loc[answer_set['Sex']=='male','Age']=answer_set.loc[answer_set['Sex']=='male','Age'].fillna(avg_age0)\n",
    "answer_set.loc[answer_set['Sex']=='female','Age']=answer_set.loc[answer_set['Sex']=='female','Age'].fillna(avg_age1)\n",
    "\n",
    "avg_age0=answer_set['Fare'].mean()\n",
    "\n",
    "answer_set.loc[answer_set['Sex']=='male','Fare']=answer_set.loc[answer_set['Sex']=='male','Fare'].fillna(avg_age0)\n",
    "answer_set.loc[answer_set['Sex']=='female','Fare']=answer_set.loc[answer_set['Sex']=='female','Fare'].fillna(avg_age0)\n",
    "answer_set['totalFamily']=answer_set['Parch']+answer_set['SibSp']\n",
    "answer_set.loc[answer_set['totalFamily']!=0,'isAlone']=1\n",
    "answer_set.loc[answer_set['totalFamily']==0,'isAlone']=0\n",
    "\n",
    "print(train_set.shape)\n",
    "print(test_set.shape)\n",
    "print(answer_set.shape)"
   ]
  },
  {
   "cell_type": "code",
   "execution_count": 6,
   "metadata": {
    "collapsed": true
   },
   "outputs": [],
   "source": [
    "train_set=train_set.drop(['Name','Ticket'],axis=1)\n",
    "test_set=test_set.drop(['Name','Ticket'],axis=1)\n",
    "answer_set=answer_set.drop(['Name','Ticket'],axis=1)\n",
    "\n",
    "X_train=train_set.iloc[:,1:]\n",
    "y_train=train_set['Survived']\n",
    "X_test=test_set.iloc[:,1:]\n",
    "y_test=test_set['Survived']\n",
    "X_answer=answer_set"
   ]
  },
  {
   "cell_type": "code",
   "execution_count": 7,
   "metadata": {},
   "outputs": [
    {
     "data": {
      "text/plain": [
       "Survived       0\n",
       "Pclass         0\n",
       "Sex            0\n",
       "Age            0\n",
       "SibSp          0\n",
       "Parch          0\n",
       "Fare           0\n",
       "Cabin          0\n",
       "Embarked       0\n",
       "totalFamily    0\n",
       "isAlone        0\n",
       "dtype: int64"
      ]
     },
     "execution_count": 7,
     "metadata": {},
     "output_type": "execute_result"
    }
   ],
   "source": [
    "#train_data.info()\n",
    "train_set.isnull().sum()"
   ]
  },
  {
   "cell_type": "code",
   "execution_count": 8,
   "metadata": {},
   "outputs": [
    {
     "data": {
      "text/plain": [
       "Survived       0\n",
       "Pclass         0\n",
       "Sex            0\n",
       "Age            0\n",
       "SibSp          0\n",
       "Parch          0\n",
       "Fare           0\n",
       "Cabin          0\n",
       "Embarked       0\n",
       "totalFamily    0\n",
       "isAlone        0\n",
       "dtype: int64"
      ]
     },
     "execution_count": 8,
     "metadata": {},
     "output_type": "execute_result"
    }
   ],
   "source": [
    "test_set.isnull().sum()"
   ]
  },
  {
   "cell_type": "code",
   "execution_count": 9,
   "metadata": {},
   "outputs": [
    {
     "data": {
      "text/plain": [
       "Pclass         0\n",
       "Sex            0\n",
       "Age            0\n",
       "SibSp          0\n",
       "Parch          0\n",
       "Fare           0\n",
       "Cabin          0\n",
       "Embarked       0\n",
       "totalFamily    0\n",
       "isAlone        0\n",
       "dtype: int64"
      ]
     },
     "execution_count": 9,
     "metadata": {},
     "output_type": "execute_result"
    }
   ],
   "source": [
    "answer_set.isnull().sum()"
   ]
  },
  {
   "cell_type": "code",
   "execution_count": 10,
   "metadata": {
    "collapsed": true
   },
   "outputs": [],
   "source": [
    "num_list=['Age','Fare','SibSp','Parch','totalFamily','isAlone']\n",
    "cat_list=['Pclass','Sex','Embarked','Cabin']"
   ]
  },
  {
   "cell_type": "code",
   "execution_count": 11,
   "metadata": {},
   "outputs": [
    {
     "name": "stdout",
     "output_type": "stream",
     "text": [
      "dummy shape: (624, 15)\n",
      "new_train shape: (624, 21)\n",
      "Index(['Pclass_1st', 'Pclass_2nd', 'Pclass_3rd', 'Sex_male', 'Embarked_C',\n",
      "       'Embarked_Q', 'Embarked_S', 'Cabin_A', 'Cabin_B', 'Cabin_C', 'Cabin_D',\n",
      "       'Cabin_E', 'Cabin_F', 'Cabin_G', 'Cabin_M'],\n",
      "      dtype='object')\n",
      "------------------------------------\n",
      "dummy shape: (267, 15)\n",
      "new_test shape: (267, 21)\n",
      "Index(['Pclass_1st', 'Pclass_2nd', 'Pclass_3rd', 'Sex_male', 'Embarked_C',\n",
      "       'Embarked_Q', 'Embarked_S', 'Cabin_A', 'Cabin_B', 'Cabin_C', 'Cabin_D',\n",
      "       'Cabin_E', 'Cabin_F', 'Cabin_G', 'Cabin_M'],\n",
      "      dtype='object')\n"
     ]
    }
   ],
   "source": [
    "num_train=X_train[num_list]\n",
    "cat_train=X_train[cat_list]\n",
    "\n",
    "dummy=pd.get_dummies(cat_train)\n",
    "del dummy['Sex_female']\n",
    "print('dummy shape:',dummy.shape)\n",
    "\n",
    "new_train=pd.concat([num_train,dummy],axis=1)\n",
    "print('new_train shape:',new_train.shape)\n",
    "print(dummy.columns)\n",
    "print('------------------------------------')\n",
    "\n",
    "num_test=X_test[num_list]\n",
    "cat_test=X_test[cat_list]\n",
    "\n",
    "dummy=pd.get_dummies(cat_test)\n",
    "del dummy['Sex_female']\n",
    "print('dummy shape:',dummy.shape)\n",
    "\n",
    "new_test=pd.concat([num_test,dummy],axis=1)\n",
    "print('new_test shape:',new_test.shape)\n",
    "print(dummy.columns)"
   ]
  },
  {
   "cell_type": "code",
   "execution_count": 12,
   "metadata": {},
   "outputs": [
    {
     "name": "stdout",
     "output_type": "stream",
     "text": [
      "dummy shape: (418, 15)\n",
      "new_answer shape: (418, 21)\n",
      "Index(['Pclass_1st', 'Pclass_2nd', 'Pclass_3rd', 'Sex_male', 'Embarked_C',\n",
      "       'Embarked_Q', 'Embarked_S', 'Cabin_A', 'Cabin_B', 'Cabin_C', 'Cabin_D',\n",
      "       'Cabin_E', 'Cabin_F', 'Cabin_G', 'Cabin_M'],\n",
      "      dtype='object')\n"
     ]
    }
   ],
   "source": [
    "num_answer=X_answer[num_list]\n",
    "cat_answer=X_answer[cat_list]\n",
    "\n",
    "dummy=pd.get_dummies(cat_answer)\n",
    "del dummy['Sex_female']\n",
    "print('dummy shape:',dummy.shape)\n",
    "\n",
    "new_answer=pd.concat([num_answer,dummy],axis=1)\n",
    "print('new_answer shape:',new_answer.shape)\n",
    "print(dummy.columns)"
   ]
  },
  {
   "cell_type": "code",
   "execution_count": 19,
   "metadata": {
    "collapsed": true
   },
   "outputs": [],
   "source": [
    "X_train_train,X_train_test,y_train_train,y_train_test=train_test_split(new_train,y_train,test_size=0.3,random_state=10)\n",
    "\n",
    "#X_test=new_test\n",
    "sc=MinMaxScaler()\n",
    "X_train_train=sc.fit_transform(X_train_train)\n",
    "X_train_test=sc.fit_transform(X_train_test)\n",
    "X_test=sc.fit_transform(new_test)"
   ]
  },
  {
   "cell_type": "code",
   "execution_count": 18,
   "metadata": {
    "scrolled": false
   },
   "outputs": [
    {
     "name": "stdout",
     "output_type": "stream",
     "text": [
      "(624,)\n",
      "(624, 2)\n",
      "[0.52592568250184646, 0.78277153535728594]\n"
     ]
    }
   ],
   "source": [
    "from keras.models import Sequential\n",
    "from keras.layers import Dense,Dropout, Activation, Flatten\n",
    "from keras.utils import np_utils\n",
    "from keras.optimizers import Adam\n",
    "import keras\n",
    "X_train=np.array(new_train)\n",
    "X_test=np.array(new_test)\n",
    "\n",
    "from keras.utils.np_utils import to_categorical\n",
    "Y_train=np_utils.to_categorical(y_train,0)\n",
    "Y_test=np_utils.to_categorical(y_test,0)\n",
    "\n",
    "print(y_train.shape)\n",
    "print(Y_train.shape)\n",
    "model=Sequential()\n",
    "model.add(Dense(10,activation='linear',input_shape=(21,)))\n",
    "model.add(Dense(2,activation='softmax'))\n",
    "\n",
    "keras.optimizers.Adam(lr=0.001, beta_1=0.9, beta_2=0.999, epsilon=1e-08, decay=0.0)\n",
    "model.compile(loss='categorical_crossentropy',optimizer='Adam',metrics=['accuracy'])\n",
    "model.fit(X_train,Y_train,batch_size=32,epochs=1000,verbose=0)\n",
    "score=model.evaluate(X_test,Y_test,verbose=0)\n",
    "print(score)"
   ]
  },
  {
   "cell_type": "code",
   "execution_count": null,
   "metadata": {},
   "outputs": [],
   "source": [
    "test=np.array(new_answer)\n",
    "predict=model.predict(test)\n",
    "ans=[]\n",
    "for i in range(test.shape[0]):\n",
    "    ans.append(np.where(predict[i]==predict[i].max())[0][0])\n",
    "np.savetxt('result.csv',ans,fmt='%i',delimiter=',')"
   ]
  },
  {
   "cell_type": "code",
   "execution_count": null,
   "metadata": {
    "collapsed": true
   },
   "outputs": [],
   "source": [
    "import numpy as np\n",
    "#for reproducibility\n",
    "np.random.seed(123)\n",
    "from keras.models import Sequential\n",
    "from keras.layers import Dense,Dropout, Activation, Flatten\n",
    "from keras.layers import Conv2D, MaxPooling2D\n",
    "from keras.utils import np_utils\n",
    "\n",
    "from keras.datasets import mnist\n",
    "(X_train,y_train),(X_test,y_test)=mnist.load_data()\n",
    "#(60000, 28, 28)\n",
    "\n",
    "from matplotlib import pyplot as plt\n",
    "plt.imshow(X_train[0])\n",
    "\n",
    "X_train=X_train.reshape(X_train.shape[0],28,28,1)\n",
    "X_test=X_test.reshape(X_test.shape[0],28,28,1)\n",
    "#print(X_train.shape)\n",
    "\n",
    "\n",
    "X_train=X_train.astype('float32')\n",
    "X_test=X_test.astype('float32')\n",
    "X_train/=255\n",
    "X_test/=255\n",
    "\n",
    "#flatten y_train and y_test into categorical class\n",
    "Y_train=np_utils.to_categorical(y_train,10)\n",
    "Y_test=np_utils.to_categorical(y_test,10)\n",
    "\n",
    "#construct model\n",
    "model=Sequential()\n",
    "#first-layer -> convolution layer\n",
    "model.add(Conv2D(32,(3,3),activation='relu',input_shape=(28,28,1)))\n",
    "#second-layer -> convolution layer\n",
    "model.add(Conv2D(32,(3,3),activation='relu'))\n",
    "#third-layer -> maxpooling layer\n",
    "model.add(MaxPooling2D(pool_size=(2,2)))\n",
    "#fourth-layer -> dropout layer\n",
    "model.add(Dropout(0.25))\n",
    "#flatten\n",
    "model.add(Flatten())\n",
    "\n",
    "#fully-connected neural network\n",
    "model.add(Dense(128,activation='relu'))\n",
    "model.add(Dropout(0.5))\n",
    "model.add(Dense(10,activation='softmax'))\n",
    "\n",
    "#define loss fct and optimizer\n",
    "model.compile(loss='categorical_crossentropy',optimizer='adam',metrics=['accuracy'])\n",
    "\n",
    "#fitting\n",
    "model.fit(X_train,Y_train,batch_size=32,epochs=10,verbose=1)\n",
    "\n",
    "#using testing data\n",
    "score=model.evaluate(X_test,Y_test,verbose=0)\n",
    "predict=model.predict(X_test)\n",
    "\n",
    "import pandas as pd\n",
    "test=pd.read_csv('test.csv')\n",
    "test=np.array(test)\n",
    "test=test.reshape(test.shape[0],28,28,1)\n",
    "predict=model.predict(test)\n",
    "ans=[]\n",
    "for i in range(test.shape[0]):\n",
    "    ans.append(np.where(predict[i]==predict[i].max())[0][0])\n",
    "np.savetxt('result.csv',ans,fmt='%i',delimiter=',')\n"
   ]
  },
  {
   "cell_type": "code",
   "execution_count": 20,
   "metadata": {},
   "outputs": [
    {
     "name": "stdout",
     "output_type": "stream",
     "text": [
      "training accuracy= 0.839449541284\n",
      "testing accuracy= 0.797872340426\n",
      "unseen testing accuracy 0.801498127341\n"
     ]
    }
   ],
   "source": [
    "from sklearn.tree import DecisionTreeClassifier\n",
    "tree=DecisionTreeClassifier(max_depth=3)\n",
    "tree.fit(X_train_train,y_train_train)\n",
    "print('training accuracy=',tree.score(X_train_train,y_train_train))\n",
    "print('testing accuracy=',tree.score(X_train_test,y_train_test))\n",
    "print('unseen testing accuracy',tree.score(X_test,y_test))"
   ]
  },
  {
   "cell_type": "code",
   "execution_count": 21,
   "metadata": {},
   "outputs": [
    {
     "name": "stdout",
     "output_type": "stream",
     "text": [
      "training accuracy= 0.878440366972\n",
      "testing accuracy= 0.835106382979\n",
      "unseen testing accuracy 0.812734082397\n"
     ]
    }
   ],
   "source": [
    "from sklearn.ensemble import RandomForestClassifier\n",
    "forest=RandomForestClassifier(n_estimators=100,max_depth=5)\n",
    "forest.fit(X_train_train,y_train_train)\n",
    "print('training accuracy=',forest.score(X_train_train,y_train_train))\n",
    "print('testing accuracy=',forest.score(X_train_test,y_train_test))\n",
    "print('unseen testing accuracy',forest.score(X_test,y_test))"
   ]
  },
  {
   "cell_type": "code",
   "execution_count": 28,
   "metadata": {},
   "outputs": [
    {
     "name": "stdout",
     "output_type": "stream",
     "text": [
      "training accuracy= 0.933486238532\n",
      "testing accuracy= 0.813829787234\n",
      "unseen testing accuracy 0.805243445693\n"
     ]
    }
   ],
   "source": [
    "from sklearn.ensemble import GradientBoostingClassifier\n",
    "gbc=GradientBoostingClassifier(n_estimators=100,learning_rate=0.1,max_depth=3,loss='deviance')\n",
    "gbc.fit(X_train_train,y_train_train)\n",
    "print('training accuracy=',gbc.score(X_train_train,y_train_train))\n",
    "print('testing accuracy=',gbc.score(X_train_test,y_train_test))\n",
    "print('unseen testing accuracy',gbc.score(X_test,y_test))"
   ]
  },
  {
   "cell_type": "code",
   "execution_count": 25,
   "metadata": {},
   "outputs": [
    {
     "name": "stdout",
     "output_type": "stream",
     "text": [
      "best_param: {'learning_rate': 0.1, 'loss': 'deviance', 'max_depth': 3}\n",
      "scores= 0.839449541284\n"
     ]
    }
   ],
   "source": [
    "from sklearn.model_selection import GridSearchCV\n",
    "gbc=GradientBoostingClassifier(n_estimators=100,learning_rate=0.1,max_depth=1)\n",
    "parameters = {'max_depth' : (1,2,3,4,5),'learning_rate':(1,0.5,0.1,0.05,0.01),'loss':('deviance','exponential')}\n",
    "clf=GridSearchCV(gbc,parameters)\n",
    "clf.fit(X_train_train,y_train_train)\n",
    "print('best_param:',clf.best_params_)\n",
    "print('scores=',clf.best_score_)"
   ]
  },
  {
   "cell_type": "code",
   "execution_count": 23,
   "metadata": {},
   "outputs": [
    {
     "name": "stdout",
     "output_type": "stream",
     "text": [
      "Sex_male       0.277974\n",
      "Age            0.276164\n",
      "Fare           0.198709\n",
      "Cabin_M        0.087580\n",
      "totalFamily    0.069453\n",
      "Pclass_3rd     0.045501\n",
      "Embarked_S     0.020462\n",
      "Parch          0.006954\n",
      "SibSp          0.006736\n",
      "Cabin_C        0.003869\n",
      "Cabin_E        0.003342\n",
      "Embarked_Q     0.002881\n",
      "Pclass_1st     0.000373\n",
      "isAlone        0.000000\n",
      "Cabin_F        0.000000\n",
      "Cabin_D        0.000000\n",
      "Pclass_2nd     0.000000\n",
      "Cabin_G        0.000000\n",
      "Cabin_A        0.000000\n",
      "Cabin_B        0.000000\n",
      "Embarked_C     0.000000\n",
      "dtype: float64\n",
      "eliminating terms: 8\n",
      "total terms: 21\n"
     ]
    }
   ],
   "source": [
    "coefs = pd.Series(gbc.feature_importances_, index = new_train.columns)\n",
    "print(coefs.sort_values(ascending=False))\n",
    "print('eliminating terms:',(coefs==0).sum())\n",
    "print('total terms:',(coefs==0).count())"
   ]
  },
  {
   "cell_type": "code",
   "execution_count": 29,
   "metadata": {
    "collapsed": true,
    "scrolled": false
   },
   "outputs": [],
   "source": [
    "sc=MinMaxScaler()\n",
    "testing_X=sc.fit_transform(new_answer)\n",
    "X_final=np.concatenate((X_train_train,X_train_test,X_test),axis=0)\n",
    "y_final=np.concatenate((y_train_train,y_train_test,y_test),axis=0)\n",
    "gbc.fit(X_final,y_final)\n",
    "predicted = gbc.predict(testing_X)\n",
    "\n",
    "\n",
    "hello=pd.DataFrame(predicted)\n",
    "hello['PassengerId']=hello.index+892\n",
    "hello['Survived']=(hello[0])\n",
    "del hello[0]\n",
    "hello.to_csv('answer.csv',index=None)"
   ]
  }
 ],
 "metadata": {
  "kernelspec": {
   "display_name": "Python 3",
   "language": "python",
   "name": "python3"
  },
  "language_info": {
   "codemirror_mode": {
    "name": "ipython",
    "version": 3
   },
   "file_extension": ".py",
   "mimetype": "text/x-python",
   "name": "python",
   "nbconvert_exporter": "python",
   "pygments_lexer": "ipython3",
   "version": "3.6.2"
  }
 },
 "nbformat": 4,
 "nbformat_minor": 2
}
