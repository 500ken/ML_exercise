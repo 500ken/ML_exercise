{
 "cells": [
  {
   "cell_type": "code",
   "execution_count": 2,
   "metadata": {},
   "outputs": [],
   "source": [
    "from keras.layers import Input,Dense\n",
    "from keras.models import Model\n",
    "import matplotlib.pyplot as plt\n",
    "import matplotlib.image as mpimg\n",
    "import numpy as np\n",
    "import keras"
   ]
  },
  {
   "cell_type": "code",
   "execution_count": 3,
   "metadata": {
    "scrolled": false
   },
   "outputs": [
    {
     "data": {
      "image/png": "[encoded data removed]",
      "text/plain": [
       "<Figure size 432x288 with 1 Axes>"
      ]
     },
     "metadata": {},
     "output_type": "display_data"
    },
    {
     "ename": "NameError",
     "evalue": "name 'x_test' is not defined",
     "output_type": "error",
     "traceback": [
      "\u001b[0;31m---------------------------------------------------------------------------\u001b[0m",
      "\u001b[0;31mNameError\u001b[0m                                 Traceback (most recent call last)",
      "\u001b[0;32m<ipython-input-3-f618e0cffe03>\u001b[0m in \u001b[0;36m<module>\u001b[0;34m()\u001b[0m\n\u001b[1;32m      5\u001b[0m \u001b[0;34m\u001b[0m\u001b[0m\n\u001b[1;32m      6\u001b[0m \u001b[0mimg\u001b[0m\u001b[0;34m=\u001b[0m\u001b[0mmpimg\u001b[0m\u001b[0;34m.\u001b[0m\u001b[0mimread\u001b[0m\u001b[0;34m(\u001b[0m\u001b[0;34m'figure/002MS.png'\u001b[0m\u001b[0;34m)\u001b[0m\u001b[0;34m\u001b[0m\u001b[0m\n\u001b[0;32m----> 7\u001b[0;31m \u001b[0mimgplot\u001b[0m \u001b[0;34m=\u001b[0m \u001b[0mplt\u001b[0m\u001b[0;34m.\u001b[0m\u001b[0mimshow\u001b[0m\u001b[0;34m(\u001b[0m\u001b[0mx_test\u001b[0m\u001b[0;34m[\u001b[0m\u001b[0;36m0\u001b[0m\u001b[0;34m]\u001b[0m\u001b[0;34m[\u001b[0m\u001b[0;34m:\u001b[0m\u001b[0;34m,\u001b[0m\u001b[0;34m:\u001b[0m\u001b[0;34m,\u001b[0m\u001b[0;36m0\u001b[0m\u001b[0;34m:\u001b[0m\u001b[0;36m4\u001b[0m\u001b[0;34m]\u001b[0m\u001b[0;34m)\u001b[0m\u001b[0;34m\u001b[0m\u001b[0m\n\u001b[0m\u001b[1;32m      8\u001b[0m \u001b[0mplt\u001b[0m\u001b[0;34m.\u001b[0m\u001b[0mshow\u001b[0m\u001b[0;34m(\u001b[0m\u001b[0;34m)\u001b[0m\u001b[0;34m\u001b[0m\u001b[0m\n",
      "\u001b[0;31mNameError\u001b[0m: name 'x_test' is not defined"
     ]
    }
   ],
   "source": [
    "\n",
    "img=mpimg.imread('figure/004MS.png')\n",
    "imgplot = plt.imshow(img[:,:,0:3])\n",
    "plt.show()\n",
    "\n",
    "img=mpimg.imread('figure/002MS.png')\n",
    "imgplot = plt.imshow(x_test[0][:,:,0:4])\n",
    "plt.show()"
   ]
  },
  {
   "cell_type": "code",
   "execution_count": 5,
   "metadata": {},
   "outputs": [
    {
     "name": "stdout",
     "output_type": "stream",
     "text": [
      "x_train shape= (789, 32, 32, 4)\n",
      "x_test shape= (3, 32, 32, 4)\n",
      "CPU times: user 185 ms, sys: 22.7 ms, total: 207 ms\n",
      "Wall time: 212 ms\n"
     ]
    }
   ],
   "source": [
    "%%time\n",
    "import os\n",
    "for dirPath, dirNames, fileNames in os.walk(\"figure\"):\n",
    "    pass\n",
    "data=[]\n",
    "for name in fileNames:\n",
    "    path='figure/'+name\n",
    "    img=mpimg.imread(path)\n",
    "    data.append(img[4:36,4:36,0:4])\n",
    "data=np.array(data)\n",
    "\n",
    "x_train=data[:-3]\n",
    "x_test=data[-3:]\n",
    "\n",
    "x_train=x_train.reshape(len(x_train),32,32,4)\n",
    "x_test=x_test.reshape(len(x_test),32,32,4)\n",
    "\n",
    "print('x_train shape=',x_train.shape)\n",
    "print('x_test shape=',x_test.shape)"
   ]
  },
  {
   "cell_type": "code",
   "execution_count": 4,
   "metadata": {
    "scrolled": true
   },
   "outputs": [
    {
     "name": "stdout",
     "output_type": "stream",
     "text": [
      "(?, 32, 32, 16)\n",
      "(?, 16, 16, 16)\n",
      "(?, 16, 16, 8)\n",
      "(?, 8, 8, 8)\n",
      "(?, 8, 8, 8)\n",
      "(?, 4, 4, 8)\n",
      "(?, 4, 4, 8)\n",
      "(?, 8, 8, 8)\n",
      "(?, 8, 8, 8)\n",
      "(?, 16, 16, 8)\n",
      "(?, 16, 16, 16)\n",
      "(?, 32, 32, 16)\n",
      "(?, 32, 32, 4)\n"
     ]
    }
   ],
   "source": [
    "from keras.layers import Input, Dense, Conv2D, MaxPooling2D, UpSampling2D\n",
    "from keras.models import Model\n",
    "from keras import backend as K\n",
    "\n",
    "input_img=Input(shape=(32,32,4))\n",
    "\n",
    "x=Conv2D(16,(3,3),activation='relu',padding='same')(input_img)\n",
    "print(x.shape)\n",
    "x=MaxPooling2D((2,2),padding='same')(x)\n",
    "print(x.shape)\n",
    "x=Conv2D(8,(3,3),activation='relu',padding='same')(x)\n",
    "print(x.shape)\n",
    "x=MaxPooling2D((2,2),padding='same')(x)\n",
    "print(x.shape)\n",
    "x=Conv2D(8,(3,3),activation='relu',padding='same')(x)\n",
    "print(x.shape)\n",
    "encoded=MaxPooling2D((2,2),padding='same')(x)\n",
    "print(encoded.shape)\n",
    "\n",
    "x=Conv2D(8,(3,3),activation='relu',padding='same')(encoded)\n",
    "print(x.shape)\n",
    "x=UpSampling2D((2,2))(x)\n",
    "print(x.shape)\n",
    "x=Conv2D(8,(3,3),activation='relu',padding='same')(x)\n",
    "print(x.shape)\n",
    "x=UpSampling2D((2,2))(x)\n",
    "print(x.shape)\n",
    "x=Conv2D(16,(3,3),activation='relu',padding='same')(x)\n",
    "print(x.shape)\n",
    "x=UpSampling2D((2,2))(x)\n",
    "print(x.shape)\n",
    "decoded=Conv2D(4,(3,3),activation='sigmoid',padding='same')(x)\n",
    "print(decoded.shape)\n"
   ]
  },
  {
   "cell_type": "code",
   "execution_count": 5,
   "metadata": {
    "collapsed": true
   },
   "outputs": [
    {
     "name": "stdout",
     "output_type": "stream",
     "text": [
      "Train on 789 samples, validate on 3 samples\n",
      "Epoch 1/100\n",
      "789/789 [==============================] - 2s 2ms/step - loss: 0.6315 - val_loss: 0.9440\n",
      "Epoch 2/100\n",
      "789/789 [==============================] - 1s 2ms/step - loss: 0.5167 - val_loss: 0.8867\n",
      "Epoch 3/100\n",
      "789/789 [==============================] - 1s 2ms/step - loss: 0.4249 - val_loss: 0.7913\n",
      "Epoch 4/100\n",
      "789/789 [==============================] - 1s 2ms/step - loss: 0.3674 - val_loss: 0.7346\n",
      "Epoch 5/100\n",
      "789/789 [==============================] - 1s 2ms/step - loss: 0.3416 - val_loss: 0.7177\n",
      "Epoch 6/100\n",
      "789/789 [==============================] - 1s 2ms/step - loss: 0.3278 - val_loss: 0.7071\n",
      "Epoch 7/100\n",
      "789/789 [==============================] - 1s 2ms/step - loss: 0.3197 - val_loss: 0.7023\n",
      "Epoch 8/100\n",
      "789/789 [==============================] - 1s 2ms/step - loss: 0.3129 - val_loss: 0.6998\n",
      "Epoch 9/100\n",
      "789/789 [==============================] - 1s 2ms/step - loss: 0.3061 - val_loss: 0.6982\n",
      "Epoch 10/100\n",
      "789/789 [==============================] - 1s 2ms/step - loss: 0.2999 - val_loss: 0.6960\n",
      "Epoch 11/100\n",
      "789/789 [==============================] - 1s 2ms/step - loss: 0.2948 - val_loss: 0.6931\n",
      "Epoch 12/100\n",
      "789/789 [==============================] - 1s 2ms/step - loss: 0.2919 - val_loss: 0.6910\n",
      "Epoch 13/100\n",
      "789/789 [==============================] - 1s 2ms/step - loss: 0.2903 - val_loss: 0.6895\n",
      "Epoch 14/100\n",
      "789/789 [==============================] - 1s 2ms/step - loss: 0.2889 - val_loss: 0.6881\n",
      "Epoch 15/100\n",
      "789/789 [==============================] - 1s 2ms/step - loss: 0.2878 - val_loss: 0.6864\n",
      "Epoch 16/100\n",
      "789/789 [==============================] - 1s 2ms/step - loss: 0.2869 - val_loss: 0.6855\n",
      "Epoch 17/100\n",
      "789/789 [==============================] - 1s 2ms/step - loss: 0.2860 - val_loss: 0.6837\n",
      "Epoch 18/100\n",
      "789/789 [==============================] - 1s 2ms/step - loss: 0.2851 - val_loss: 0.6819\n",
      "Epoch 19/100\n",
      "789/789 [==============================] - 1s 2ms/step - loss: 0.2849 - val_loss: 0.6806\n",
      "Epoch 20/100\n",
      "789/789 [==============================] - 1s 2ms/step - loss: 0.2833 - val_loss: 0.6785\n",
      "Epoch 21/100\n",
      "789/789 [==============================] - 1s 2ms/step - loss: 0.2826 - val_loss: 0.6770\n",
      "Epoch 22/100\n",
      "789/789 [==============================] - 1s 2ms/step - loss: 0.2817 - val_loss: 0.6753\n",
      "Epoch 23/100\n",
      "789/789 [==============================] - 1s 2ms/step - loss: 0.2809 - val_loss: 0.6734\n",
      "Epoch 24/100\n",
      "789/789 [==============================] - 1s 2ms/step - loss: 0.2803 - val_loss: 0.6718\n",
      "Epoch 25/100\n",
      "789/789 [==============================] - 1s 2ms/step - loss: 0.2796 - val_loss: 0.6696\n",
      "Epoch 26/100\n",
      "789/789 [==============================] - 1s 2ms/step - loss: 0.2789 - val_loss: 0.6670\n",
      "Epoch 27/100\n",
      "789/789 [==============================] - 1s 2ms/step - loss: 0.2780 - val_loss: 0.6644\n",
      "Epoch 28/100\n",
      "789/789 [==============================] - 1s 2ms/step - loss: 0.2771 - val_loss: 0.6626\n",
      "Epoch 29/100\n",
      "789/789 [==============================] - 2s 2ms/step - loss: 0.2763 - val_loss: 0.6601\n",
      "Epoch 30/100\n",
      "789/789 [==============================] - 1s 2ms/step - loss: 0.2757 - val_loss: 0.6572\n",
      "Epoch 31/100\n",
      "789/789 [==============================] - 2s 2ms/step - loss: 0.2751 - val_loss: 0.6544\n",
      "Epoch 32/100\n",
      "789/789 [==============================] - 1s 2ms/step - loss: 0.2744 - val_loss: 0.6518\n",
      "Epoch 33/100\n",
      "789/789 [==============================] - 1s 2ms/step - loss: 0.2735 - val_loss: 0.6486\n",
      "Epoch 34/100\n",
      "789/789 [==============================] - 1s 2ms/step - loss: 0.2729 - val_loss: 0.6449\n",
      "Epoch 35/100\n",
      "789/789 [==============================] - 1s 2ms/step - loss: 0.2721 - val_loss: 0.6417\n",
      "Epoch 36/100\n",
      "789/789 [==============================] - 1s 2ms/step - loss: 0.2715 - val_loss: 0.6386\n",
      "Epoch 37/100\n",
      "789/789 [==============================] - 2s 2ms/step - loss: 0.2706 - val_loss: 0.6347\n",
      "Epoch 38/100\n",
      "789/789 [==============================] - 1s 2ms/step - loss: 0.2702 - val_loss: 0.6307\n",
      "Epoch 39/100\n",
      "789/789 [==============================] - 1s 2ms/step - loss: 0.2691 - val_loss: 0.6272\n",
      "Epoch 40/100\n",
      "789/789 [==============================] - 1s 2ms/step - loss: 0.2684 - val_loss: 0.6227\n",
      "Epoch 41/100\n",
      "789/789 [==============================] - 2s 2ms/step - loss: 0.2685 - val_loss: 0.6180\n",
      "Epoch 42/100\n",
      "789/789 [==============================] - 2s 2ms/step - loss: 0.2674 - val_loss: 0.6144\n",
      "Epoch 43/100\n",
      "789/789 [==============================] - 2s 2ms/step - loss: 0.2662 - val_loss: 0.6096\n",
      "Epoch 44/100\n",
      "789/789 [==============================] - 2s 2ms/step - loss: 0.2654 - val_loss: 0.6047\n",
      "Epoch 45/100\n",
      "789/789 [==============================] - 1s 2ms/step - loss: 0.2647 - val_loss: 0.6005\n",
      "Epoch 46/100\n",
      "789/789 [==============================] - 2s 2ms/step - loss: 0.2641 - val_loss: 0.5952\n",
      "Epoch 47/100\n",
      "789/789 [==============================] - 2s 2ms/step - loss: 0.2633 - val_loss: 0.5898\n",
      "Epoch 48/100\n",
      "789/789 [==============================] - 2s 2ms/step - loss: 0.2624 - val_loss: 0.5842\n",
      "Epoch 49/100\n",
      "789/789 [==============================] - 1s 2ms/step - loss: 0.2616 - val_loss: 0.5784\n",
      "Epoch 50/100\n",
      "789/789 [==============================] - 1s 2ms/step - loss: 0.2607 - val_loss: 0.5730\n",
      "Epoch 51/100\n",
      "789/789 [==============================] - 1s 2ms/step - loss: 0.2600 - val_loss: 0.5662\n",
      "Epoch 52/100\n",
      "789/789 [==============================] - 1s 2ms/step - loss: 0.2592 - val_loss: 0.5596\n",
      "Epoch 53/100\n",
      "789/789 [==============================] - 2s 2ms/step - loss: 0.2582 - val_loss: 0.5521\n",
      "Epoch 54/100\n",
      "789/789 [==============================] - 2s 2ms/step - loss: 0.2572 - val_loss: 0.5425\n",
      "Epoch 55/100\n",
      "789/789 [==============================] - 2s 2ms/step - loss: 0.2563 - val_loss: 0.5338\n",
      "Epoch 56/100\n",
      "789/789 [==============================] - 2s 2ms/step - loss: 0.2554 - val_loss: 0.5237\n",
      "Epoch 57/100\n",
      "789/789 [==============================] - 1s 2ms/step - loss: 0.2537 - val_loss: 0.5136\n",
      "Epoch 58/100\n",
      "789/789 [==============================] - 1s 2ms/step - loss: 0.2524 - val_loss: 0.4995\n",
      "Epoch 59/100\n",
      "789/789 [==============================] - 1s 2ms/step - loss: 0.2507 - val_loss: 0.4845\n",
      "Epoch 60/100\n",
      "789/789 [==============================] - 2s 2ms/step - loss: 0.2490 - val_loss: 0.4699\n",
      "Epoch 61/100\n",
      "789/789 [==============================] - 2s 2ms/step - loss: 0.2475 - val_loss: 0.4594\n",
      "Epoch 62/100\n",
      "789/789 [==============================] - 2s 2ms/step - loss: 0.2455 - val_loss: 0.4498\n",
      "Epoch 63/100\n",
      "789/789 [==============================] - 2s 2ms/step - loss: 0.2436 - val_loss: 0.4388\n",
      "Epoch 64/100\n",
      "789/789 [==============================] - 2s 2ms/step - loss: 0.2428 - val_loss: 0.4318\n",
      "Epoch 65/100\n",
      "789/789 [==============================] - 1s 2ms/step - loss: 0.2414 - val_loss: 0.4256\n",
      "Epoch 66/100\n",
      "789/789 [==============================] - 1s 2ms/step - loss: 0.2399 - val_loss: 0.4211\n",
      "Epoch 67/100\n",
      "789/789 [==============================] - 1s 2ms/step - loss: 0.2391 - val_loss: 0.4201\n",
      "Epoch 68/100\n",
      "789/789 [==============================] - 2s 2ms/step - loss: 0.2381 - val_loss: 0.4130\n",
      "Epoch 69/100\n",
      "789/789 [==============================] - 2s 2ms/step - loss: 0.2372 - val_loss: 0.4021\n",
      "Epoch 70/100\n",
      "789/789 [==============================] - 2s 2ms/step - loss: 0.2367 - val_loss: 0.4095\n",
      "Epoch 71/100\n",
      "789/789 [==============================] - 2s 2ms/step - loss: 0.2356 - val_loss: 0.3933\n",
      "Epoch 72/100\n",
      "789/789 [==============================] - 2s 2ms/step - loss: 0.2349 - val_loss: 0.3971\n",
      "Epoch 73/100\n",
      "789/789 [==============================] - 1s 2ms/step - loss: 0.2355 - val_loss: 0.3935\n",
      "Epoch 74/100\n",
      "789/789 [==============================] - 1s 2ms/step - loss: 0.2342 - val_loss: 0.3939\n",
      "Epoch 75/100\n",
      "789/789 [==============================] - 1s 2ms/step - loss: 0.2337 - val_loss: 0.3846\n",
      "Epoch 76/100\n",
      "789/789 [==============================] - 1s 2ms/step - loss: 0.2331 - val_loss: 0.3839\n",
      "Epoch 77/100\n",
      "789/789 [==============================] - 1s 2ms/step - loss: 0.2327 - val_loss: 0.3772\n",
      "Epoch 78/100\n",
      "789/789 [==============================] - 1s 2ms/step - loss: 0.2321 - val_loss: 0.3908\n",
      "Epoch 79/100\n",
      "789/789 [==============================] - 1s 2ms/step - loss: 0.2321 - val_loss: 0.3811\n",
      "Epoch 80/100\n",
      "789/789 [==============================] - 1s 2ms/step - loss: 0.2322 - val_loss: 0.3798\n"
     ]
    },
    {
     "name": "stdout",
     "output_type": "stream",
     "text": [
      "Epoch 81/100\n",
      "789/789 [==============================] - 1s 2ms/step - loss: 0.2316 - val_loss: 0.3891\n",
      "Epoch 82/100\n",
      "789/789 [==============================] - 1s 2ms/step - loss: 0.2310 - val_loss: 0.3795\n",
      "Epoch 83/100\n",
      "789/789 [==============================] - 1s 2ms/step - loss: 0.2303 - val_loss: 0.3899\n",
      "Epoch 84/100\n",
      "789/789 [==============================] - 1s 2ms/step - loss: 0.2300 - val_loss: 0.3845\n",
      "Epoch 85/100\n",
      "789/789 [==============================] - 1s 2ms/step - loss: 0.2299 - val_loss: 0.3765\n",
      "Epoch 86/100\n",
      "789/789 [==============================] - 1s 2ms/step - loss: 0.2296 - val_loss: 0.3880\n",
      "Epoch 87/100\n",
      "789/789 [==============================] - 1s 2ms/step - loss: 0.2292 - val_loss: 0.3816\n",
      "Epoch 88/100\n",
      "789/789 [==============================] - 1s 2ms/step - loss: 0.2289 - val_loss: 0.3782\n",
      "Epoch 89/100\n",
      "789/789 [==============================] - 1s 2ms/step - loss: 0.2286 - val_loss: 0.3820\n",
      "Epoch 90/100\n",
      "789/789 [==============================] - 1s 2ms/step - loss: 0.2284 - val_loss: 0.3783\n",
      "Epoch 91/100\n",
      "789/789 [==============================] - 1s 2ms/step - loss: 0.2285 - val_loss: 0.3819\n",
      "Epoch 92/100\n",
      "789/789 [==============================] - 1s 2ms/step - loss: 0.2278 - val_loss: 0.3796\n",
      "Epoch 93/100\n",
      "789/789 [==============================] - 1s 2ms/step - loss: 0.2277 - val_loss: 0.3832\n",
      "Epoch 94/100\n",
      "789/789 [==============================] - 1s 2ms/step - loss: 0.2282 - val_loss: 0.3777\n",
      "Epoch 95/100\n",
      "789/789 [==============================] - 1s 2ms/step - loss: 0.2276 - val_loss: 0.3896\n",
      "Epoch 96/100\n",
      "789/789 [==============================] - 1s 2ms/step - loss: 0.2273 - val_loss: 0.3712\n",
      "Epoch 97/100\n",
      "789/789 [==============================] - 1s 2ms/step - loss: 0.2270 - val_loss: 0.3839\n",
      "Epoch 98/100\n",
      "789/789 [==============================] - 1s 2ms/step - loss: 0.2267 - val_loss: 0.3799\n",
      "Epoch 99/100\n",
      "789/789 [==============================] - 1s 2ms/step - loss: 0.2264 - val_loss: 0.3818\n",
      "Epoch 100/100\n",
      "789/789 [==============================] - 1s 2ms/step - loss: 0.2264 - val_loss: 0.3766\n"
     ]
    },
    {
     "data": {
      "text/plain": [
       "<keras.callbacks.History at 0x11df5deb8>"
      ]
     },
     "execution_count": 5,
     "metadata": {},
     "output_type": "execute_result"
    }
   ],
   "source": [
    "#input_img=Input(shape=(32,32,4))\n",
    "autoencoder=Model(input_img,decoded)\n",
    "#keras.optimizers.Adam(lr=0.01, beta_1=0.9, beta_2=0.999, epsilon=1e-08, decay=0.0)\n",
    "autoencoder.compile(optimizer='Adamax',loss='binary_crossentropy')\n",
    "autoencoder.fit(x_train,x_train,epochs=100,batch_size=64,shuffle=True,validation_data=(x_test,x_test))"
   ]
  },
  {
   "cell_type": "code",
   "execution_count": 13,
   "metadata": {},
   "outputs": [],
   "source": [
    "input_img=Input(shape=(32,32,4))\n",
    "\n",
    "encoder_layer1=autoencoder.layers[0](input_img)\n",
    "encoder_layer2=autoencoder.layers[1](encoder_layer1)\n",
    "encoder_layer3=autoencoder.layers[2](encoder_layer2)\n",
    "encoder_layer4=autoencoder.layers[3](encoder_layer3)\n",
    "encoder_layer5=autoencoder.layers[4](encoder_layer4)\n",
    "encoder_layer6=autoencoder.layers[5](encoder_layer5)\n",
    "encoder_layer7=autoencoder.layers[6](encoder_layer6)\n",
    "encoder=Model(input_img,encoder_layer7)\n",
    "\n",
    "\n",
    "encoded_input=Input(shape=(4, 4, 8))\n",
    "decoder_layer=encoded_input\n",
    "for i in range(7):\n",
    "    temp=autoencoder.layers[i-7]\n",
    "    decoder_layer=temp(decoder_layer)\n",
    "\n",
    "decoder=Model(encoded_input,decoder_layer)"
   ]
  },
  {
   "cell_type": "raw",
   "metadata": {},
   "source": [
    "# Saving model\n",
    "import json\n",
    "from keras.applications import imagenet_utils\n",
    "with open('./pokemon.json', 'w') as jsOut:\n",
    "    json.dump(autoencoder.to_json(), jsOut)\n",
    "autoencoder.save_weights('./pokemon_weight.h5')"
   ]
  },
  {
   "cell_type": "raw",
   "metadata": {
    "scrolled": true
   },
   "source": [
    "from keras.models import model_from_json\n",
    "import json\n",
    "with open('./pokemon.json', 'r') as jsIn:\n",
    "    modelJson=json.load(jsIn)\n",
    "\n",
    "autoencoder=model_from_json(modelJson)\n",
    "autoencoder.load_weights('./pokemon_weight.h5')\n",
    "#autoencoder.compile(optimizer='adam',loss='binary_crossentropy')\n",
    "#autoencoder.fit(x_train,x_train,epochs=10,batch_size=64,shuffle=True,validation_data=(x_test,x_test))\n",
    "input_img=Input(shape=(32,32,4))\n",
    "\n",
    "encoder_layer1=autoencoder.layers[0](input_img)\n",
    "encoder_layer2=autoencoder.layers[1](encoder_layer1)\n",
    "encoder_layer3=autoencoder.layers[2](encoder_layer2)\n",
    "encoder_layer4=autoencoder.layers[3](encoder_layer3)\n",
    "encoder_layer5=autoencoder.layers[4](encoder_layer4)\n",
    "encoder=Model(input_img,encoder_layer5)\n",
    "\n",
    "\n",
    "encoded_input=Input(shape=(5, 5, 8))\n",
    "decoder_layer=encoded_input\n",
    "for i in range(5):\n",
    "    temp=autoencoder.layers[i-5]\n",
    "    decoder_layer=temp(decoder_layer)\n",
    "\n",
    "decoder=Model(encoded_input,decoder_layer)"
   ]
  },
  {
   "cell_type": "code",
   "execution_count": 14,
   "metadata": {},
   "outputs": [
    {
     "data": {
      "image/png": "[encoded data removed]",
      "text/plain": [
       "<matplotlib.figure.Figure at 0x10d9ee940>"
      ]
     },
     "metadata": {},
     "output_type": "display_data"
    }
   ],
   "source": [
    "encoded_imgs = encoder.predict(x_train)\n",
    "decoded_imgs = decoder.predict(encoded_imgs)\n",
    "n = 10  # how many digits we will display\n",
    "plt.figure(figsize=(30, 4))\n",
    "for i in range(n):\n",
    "    # display original\n",
    "    ax = plt.subplot(2, n, i + 1)\n",
    "    imgplot = plt.imshow(x_train[i])\n",
    "    #plt.gray()\n",
    "    ax.get_xaxis().set_visible(False)\n",
    "    ax.get_yaxis().set_visible(False)\n",
    "\n",
    "    # display reconstruction\n",
    "    ax = plt.subplot(2, n, i + 1 + n)\n",
    "    imgplot = plt.imshow(decoded_imgs[i])\n",
    "    #plt.gray()\n",
    "    ax.get_xaxis().set_visible(False)\n",
    "    ax.get_yaxis().set_visible(False)\n",
    "plt.show()"
   ]
  },
  {
   "cell_type": "code",
   "execution_count": 6,
   "metadata": {},
   "outputs": [
    {
     "data": {
      "image/png": "[encoded data removed]",
      "text/plain": [
       "<matplotlib.figure.Figure at 0x110e18278>"
      ]
     },
     "metadata": {},
     "output_type": "display_data"
    },
    {
     "data": {
      "image/png": "[encoded data removed]",
      "text/plain": [
       "<matplotlib.figure.Figure at 0x1145bf4a8>"
      ]
     },
     "metadata": {},
     "output_type": "display_data"
    },
    {
     "data": {
      "image/png": "[encoded data removed]",
      "text/plain": [
       "<matplotlib.figure.Figure at 0x11277b358>"
      ]
     },
     "metadata": {},
     "output_type": "display_data"
    },
    {
     "data": {
      "image/png": "[encoded data removed]",
      "text/plain": [
       "<matplotlib.figure.Figure at 0x1146ab2e8>"
      ]
     },
     "metadata": {},
     "output_type": "display_data"
    }
   ],
   "source": [
    "\n",
    "for i in range(4):\n",
    "    test=encoded_imgs[0]\n",
    "    test=test.reshape((1,5,5,8))\n",
    "    test[0,0,:,:]*=0.3\n",
    "    test_imgs = decoder.predict(test)\n",
    "    plt.figure(figsize=(1, 1))\n",
    "    plt.axis('off')\n",
    "\n",
    "    \n",
    "    imgplot = plt.imshow(test_imgs[0])\n",
    "\n",
    "\n",
    "    plt.show()"
   ]
  },
  {
   "cell_type": "code",
   "execution_count": 15,
   "metadata": {},
   "outputs": [
    {
     "name": "stdout",
     "output_type": "stream",
     "text": [
      "(789, 32, 32, 4)\n"
     ]
    },
    {
     "data": {
      "image/png": "[encoded data removed]",
      "text/plain": [
       "<matplotlib.figure.Figure at 0x11fd0d6a0>"
      ]
     },
     "metadata": {},
     "output_type": "display_data"
    },
    {
     "name": "stdout",
     "output_type": "stream",
     "text": [
      "(3, 32, 32, 4)\n"
     ]
    },
    {
     "data": {
      "image/png": "[encoded data removed]",
      "text/plain": [
       "<matplotlib.figure.Figure at 0x11edd65c0>"
      ]
     },
     "metadata": {},
     "output_type": "display_data"
    }
   ],
   "source": [
    "encoded_imgs = encoder.predict(x_train)\n",
    "decoded_imgs = decoder.predict(encoded_imgs)\n",
    "\n",
    "print(decoded_imgs.shape)\n",
    "imgplot = plt.imshow(decoded_imgs[0])\n",
    "plt.show()\n",
    "\n",
    "encoded_imgs = encoder.predict(x_test)\n",
    "decoded_imgs = decoder.predict(encoded_imgs)\n",
    "\n",
    "print(decoded_imgs.shape)\n",
    "imgplot = plt.imshow(decoded_imgs[0])\n",
    "plt.show()"
   ]
  }
 ],
 "metadata": {
  "kernelspec": {
   "display_name": "Python 3",
   "language": "python",
   "name": "python3"
  },
  "language_info": {
   "codemirror_mode": {
    "name": "ipython",
    "version": 3
   },
   "file_extension": ".py",
   "mimetype": "text/x-python",
   "name": "python",
   "nbconvert_exporter": "python",
   "pygments_lexer": "ipython3",
   "version": "3.6.5"
  }
 },
 "nbformat": 4,
 "nbformat_minor": 2
}
