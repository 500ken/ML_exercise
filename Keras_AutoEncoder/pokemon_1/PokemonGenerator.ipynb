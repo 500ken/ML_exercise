{
 "cells": [
  {
   "cell_type": "code",
   "execution_count": 1,
   "metadata": {},
   "outputs": [
    {
     "name": "stderr",
     "output_type": "stream",
     "text": [
      "Using TensorFlow backend.\n"
     ]
    }
   ],
   "source": [
    "from keras.layers import Input,Dense\n",
    "from keras.models import Model\n",
    "import matplotlib.pyplot as plt\n",
    "import matplotlib.image as mpimg\n",
    "import numpy as np\n",
    "import keras"
   ]
  },
  {
   "cell_type": "code",
   "execution_count": 3,
   "metadata": {
    "scrolled": false
   },
   "outputs": [
    {
     "data": {
      "image/png": "[encoded data removed]",
      "text/plain": [
       "<matplotlib.figure.Figure at 0x7f2be7260cc0>"
      ]
     },
     "metadata": {},
     "output_type": "display_data"
    },
    {
     "data": {
      "image/png": "[encoded data removed]",
      "text/plain": [
       "<matplotlib.figure.Figure at 0x7f2be4493e48>"
      ]
     },
     "metadata": {},
     "output_type": "display_data"
    }
   ],
   "source": [
    "\n",
    "img=mpimg.imread('figure/004MS.png')\n",
    "imgplot = plt.imshow(img[:,:,0:3])\n",
    "plt.show()\n",
    "\n",
    "img=mpimg.imread('figure/002MS.png')\n",
    "imgplot = plt.imshow(x_test[6][5:35,5:35,0:3])\n",
    "plt.show()"
   ]
  },
  {
   "cell_type": "code",
   "execution_count": 2,
   "metadata": {},
   "outputs": [
    {
     "name": "stdout",
     "output_type": "stream",
     "text": [
      "x_train shape= (640, 30, 30, 4)\n",
      "x_test shape= (152, 30, 30, 4)\n",
      "CPU times: user 164 ms, sys: 60 ms, total: 224 ms\n",
      "Wall time: 807 ms\n"
     ]
    }
   ],
   "source": [
    "%%time\n",
    "import os\n",
    "for dirPath, dirNames, fileNames in os.walk(\"figure\"):\n",
    "    pass\n",
    "data=[]\n",
    "for name in fileNames:\n",
    "    path='figure/'+name\n",
    "    img=mpimg.imread(path)\n",
    "    data.append(img[5:35,5:35,0:4])\n",
    "data=np.array(data)\n",
    "\n",
    "x_train=data[:640]\n",
    "x_test=data[640:]\n",
    "\n",
    "x_train=x_train.reshape(len(x_train),30,30,4)\n",
    "x_test=x_test.reshape(len(x_test),30,30,4)\n",
    "\n",
    "print('x_train shape=',x_train.shape)\n",
    "print('x_test shape=',x_test.shape)"
   ]
  },
  {
   "cell_type": "code",
   "execution_count": 48,
   "metadata": {
    "scrolled": true
   },
   "outputs": [
    {
     "name": "stdout",
     "output_type": "stream",
     "text": [
      "(?, 32, 32, 32)\n",
      "(?, 16, 16, 32)\n",
      "(?, 16, 16, 16)\n",
      "(?, 8, 8, 16)\n",
      "(?, 8, 8, 8)\n",
      "(?, 4, 4, 8)\n",
      "(?, 4, 4, 8)\n",
      "(?, 8, 8, 8)\n",
      "(?, 8, 8, 16)\n",
      "(?, 16, 16, 16)\n",
      "(?, 16, 16, 32)\n",
      "(?, 32, 32, 32)\n",
      "(?, 32, 32, 4)\n"
     ]
    }
   ],
   "source": [
    "from keras.layers import Input, Dense, Conv2D, MaxPooling2D, UpSampling2D\n",
    "from keras.models import Model\n",
    "from keras import backend as K\n",
    "\n",
    "input_img=Input(shape=(32,32,4))\n",
    "\n",
    "x=Conv2D(32,(3,3),activation='relu',padding='same')(input_img)\n",
    "print(x.shape)\n",
    "x=MaxPooling2D((2,2),padding='same')(x)\n",
    "print(x.shape)\n",
    "x=Conv2D(16,(3,3),activation='relu',padding='same')(x)\n",
    "print(x.shape)\n",
    "x=MaxPooling2D((2,2),padding='same')(x)\n",
    "print(x.shape)\n",
    "x=Conv2D(8,(3,3),activation='relu',padding='same')(x)\n",
    "print(x.shape)\n",
    "encoded=MaxPooling2D((2,2),padding='same')(x)\n",
    "print(encoded.shape)\n",
    "\n",
    "x=Conv2D(8,(3,3),activation='relu',padding='same')(encoded)\n",
    "print(x.shape)\n",
    "x=UpSampling2D((2,2))(x)\n",
    "print(x.shape)\n",
    "x=Conv2D(16,(3,3),activation='relu',padding='same')(x)\n",
    "print(x.shape)\n",
    "x=UpSampling2D((2,2))(x)\n",
    "print(x.shape)\n",
    "x=Conv2D(32,(3,3),activation='relu',padding='same')(x)\n",
    "print(x.shape)\n",
    "x=UpSampling2D((2,2))(x)\n",
    "print(x.shape)\n",
    "decoded=Conv2D(4,(3,3),activation='sigmoid',padding='same')(x)\n",
    "print(decoded.shape)\n",
    "\n"
   ]
  },
  {
   "cell_type": "code",
   "execution_count": 22,
   "metadata": {
    "scrolled": false
   },
   "outputs": [
    {
     "name": "stdout",
     "output_type": "stream",
     "text": [
      "Train on 640 samples, validate on 152 samples\n",
      "Epoch 1/100\n",
      "640/640 [==============================] - 1s 1ms/step - loss: 0.2394 - val_loss: 0.2481\n",
      "Epoch 2/100\n",
      "640/640 [==============================] - 1s 1ms/step - loss: 0.2095 - val_loss: 0.2405\n",
      "Epoch 3/100\n",
      "640/640 [==============================] - 1s 968us/step - loss: 0.2038 - val_loss: 0.2398\n",
      "Epoch 4/100\n",
      "640/640 [==============================] - 1s 1ms/step - loss: 0.2002 - val_loss: 0.2405\n",
      "Epoch 5/100\n",
      "640/640 [==============================] - 1s 1ms/step - loss: 0.1994 - val_loss: 0.2415\n",
      "Epoch 6/100\n",
      "640/640 [==============================] - 1s 1ms/step - loss: 0.1987 - val_loss: 0.2413\n",
      "Epoch 7/100\n",
      "640/640 [==============================] - 1s 1ms/step - loss: 0.1984 - val_loss: 0.2411\n",
      "Epoch 8/100\n",
      "640/640 [==============================] - 1s 1ms/step - loss: 0.1983 - val_loss: 0.2409\n",
      "Epoch 9/100\n",
      "640/640 [==============================] - 1s 1ms/step - loss: 0.1983 - val_loss: 0.2407\n",
      "Epoch 10/100\n",
      "640/640 [==============================] - 1s 1ms/step - loss: 0.1982 - val_loss: 0.2406\n",
      "Epoch 11/100\n",
      "640/640 [==============================] - 1s 1ms/step - loss: 0.1982 - val_loss: 0.2408\n",
      "Epoch 12/100\n",
      "640/640 [==============================] - 1s 1ms/step - loss: 0.1982 - val_loss: 0.2408\n",
      "Epoch 13/100\n",
      "640/640 [==============================] - 1s 1ms/step - loss: 0.1982 - val_loss: 0.2411\n",
      "Epoch 14/100\n",
      "640/640 [==============================] - 1s 1ms/step - loss: 0.1982 - val_loss: 0.2413\n",
      "Epoch 15/100\n",
      "640/640 [==============================] - 1s 1ms/step - loss: 0.1982 - val_loss: 0.2413\n",
      "Epoch 16/100\n",
      "640/640 [==============================] - 1s 1ms/step - loss: 0.1982 - val_loss: 0.2411\n",
      "Epoch 17/100\n",
      "640/640 [==============================] - 1s 1ms/step - loss: 0.1981 - val_loss: 0.2413\n",
      "Epoch 18/100\n",
      "640/640 [==============================] - 1s 1ms/step - loss: 0.1981 - val_loss: 0.2411\n",
      "Epoch 19/100\n",
      "640/640 [==============================] - 1s 1ms/step - loss: 0.1981 - val_loss: 0.2408\n",
      "Epoch 20/100\n",
      "640/640 [==============================] - 1s 1ms/step - loss: 0.1981 - val_loss: 0.2407\n",
      "Epoch 21/100\n",
      "640/640 [==============================] - 1s 1ms/step - loss: 0.1981 - val_loss: 0.2404\n",
      "Epoch 22/100\n",
      "640/640 [==============================] - 1s 1ms/step - loss: 0.1981 - val_loss: 0.2408\n",
      "Epoch 23/100\n",
      "640/640 [==============================] - 1s 1ms/step - loss: 0.1981 - val_loss: 0.2412\n",
      "Epoch 24/100\n",
      "640/640 [==============================] - 1s 1ms/step - loss: 0.1981 - val_loss: 0.2409\n",
      "Epoch 25/100\n",
      "640/640 [==============================] - 1s 1ms/step - loss: 0.1981 - val_loss: 0.2408\n",
      "Epoch 26/100\n",
      "640/640 [==============================] - 1s 1ms/step - loss: 0.1981 - val_loss: 0.2408\n",
      "Epoch 27/100\n",
      "640/640 [==============================] - 1s 1ms/step - loss: 0.1981 - val_loss: 0.2408\n",
      "Epoch 28/100\n",
      "640/640 [==============================] - 1s 1ms/step - loss: 0.1981 - val_loss: 0.2408\n",
      "Epoch 29/100\n",
      "640/640 [==============================] - 1s 1ms/step - loss: 0.1981 - val_loss: 0.2408\n",
      "Epoch 30/100\n",
      "640/640 [==============================] - 1s 1ms/step - loss: 0.1981 - val_loss: 0.2407\n",
      "Epoch 31/100\n",
      "640/640 [==============================] - 1s 1ms/step - loss: 0.1981 - val_loss: 0.2410\n",
      "Epoch 32/100\n",
      "640/640 [==============================] - 1s 1ms/step - loss: 0.1981 - val_loss: 0.2412\n",
      "Epoch 33/100\n",
      "640/640 [==============================] - 1s 1ms/step - loss: 0.1981 - val_loss: 0.2408\n",
      "Epoch 34/100\n",
      "640/640 [==============================] - 1s 1ms/step - loss: 0.1981 - val_loss: 0.2413\n",
      "Epoch 35/100\n",
      "640/640 [==============================] - 1s 1ms/step - loss: 0.1981 - val_loss: 0.2415\n",
      "Epoch 36/100\n",
      "640/640 [==============================] - 1s 1ms/step - loss: 0.1981 - val_loss: 0.2409\n",
      "Epoch 37/100\n",
      "640/640 [==============================] - 1s 1ms/step - loss: 0.1981 - val_loss: 0.2406\n",
      "Epoch 38/100\n",
      "640/640 [==============================] - 1s 1ms/step - loss: 0.1981 - val_loss: 0.2413\n",
      "Epoch 39/100\n",
      "640/640 [==============================] - 1s 1ms/step - loss: 0.1981 - val_loss: 0.2410\n",
      "Epoch 40/100\n",
      "640/640 [==============================] - 1s 1ms/step - loss: 0.1981 - val_loss: 0.2408\n",
      "Epoch 41/100\n",
      "640/640 [==============================] - 1s 1ms/step - loss: 0.1981 - val_loss: 0.2412\n",
      "Epoch 42/100\n",
      "640/640 [==============================] - 1s 1ms/step - loss: 0.1981 - val_loss: 0.2410\n",
      "Epoch 43/100\n",
      "640/640 [==============================] - 1s 1ms/step - loss: 0.1981 - val_loss: 0.2409\n",
      "Epoch 44/100\n",
      "640/640 [==============================] - 1s 1ms/step - loss: 0.1981 - val_loss: 0.2413\n",
      "Epoch 45/100\n",
      "640/640 [==============================] - 1s 1ms/step - loss: 0.1981 - val_loss: 0.2407\n",
      "Epoch 46/100\n",
      "640/640 [==============================] - 1s 1ms/step - loss: 0.1981 - val_loss: 0.2410\n",
      "Epoch 47/100\n",
      "640/640 [==============================] - 1s 1ms/step - loss: 0.1981 - val_loss: 0.2413\n",
      "Epoch 48/100\n",
      "640/640 [==============================] - 1s 1ms/step - loss: 0.1981 - val_loss: 0.2408\n",
      "Epoch 49/100\n",
      "640/640 [==============================] - 1s 1ms/step - loss: 0.1981 - val_loss: 0.2417\n",
      "Epoch 50/100\n",
      "640/640 [==============================] - 1s 1ms/step - loss: 0.1982 - val_loss: 0.2407\n",
      "Epoch 51/100\n",
      "640/640 [==============================] - 1s 1ms/step - loss: 0.1981 - val_loss: 0.2407\n",
      "Epoch 52/100\n",
      "640/640 [==============================] - 1s 1ms/step - loss: 0.1981 - val_loss: 0.2412\n",
      "Epoch 53/100\n",
      "640/640 [==============================] - 1s 1ms/step - loss: 0.1980 - val_loss: 0.2412\n",
      "Epoch 54/100\n",
      "640/640 [==============================] - 1s 1ms/step - loss: 0.1981 - val_loss: 0.2408\n",
      "Epoch 55/100\n",
      "640/640 [==============================] - 1s 1ms/step - loss: 0.1981 - val_loss: 0.2412\n",
      "Epoch 56/100\n",
      "640/640 [==============================] - 1s 1ms/step - loss: 0.1981 - val_loss: 0.2411\n",
      "Epoch 57/100\n",
      "640/640 [==============================] - 1s 1ms/step - loss: 0.1981 - val_loss: 0.2406\n",
      "Epoch 58/100\n",
      "640/640 [==============================] - 1s 1ms/step - loss: 0.1981 - val_loss: 0.2415\n",
      "Epoch 59/100\n",
      "640/640 [==============================] - 1s 1ms/step - loss: 0.1981 - val_loss: 0.2404\n",
      "Epoch 60/100\n",
      "640/640 [==============================] - 1s 1ms/step - loss: 0.1981 - val_loss: 0.2414\n",
      "Epoch 61/100\n",
      "640/640 [==============================] - 1s 1ms/step - loss: 0.1981 - val_loss: 0.2407\n",
      "Epoch 62/100\n",
      "640/640 [==============================] - 1s 1ms/step - loss: 0.1981 - val_loss: 0.2413\n",
      "Epoch 63/100\n",
      "640/640 [==============================] - 1s 1ms/step - loss: 0.1981 - val_loss: 0.2409\n",
      "Epoch 64/100\n",
      "640/640 [==============================] - 1s 1ms/step - loss: 0.1981 - val_loss: 0.2406\n",
      "Epoch 65/100\n",
      "640/640 [==============================] - 1s 1ms/step - loss: 0.1981 - val_loss: 0.2415\n",
      "Epoch 66/100\n",
      "640/640 [==============================] - 1s 1ms/step - loss: 0.1981 - val_loss: 0.2404\n",
      "Epoch 67/100\n",
      "640/640 [==============================] - 1s 1ms/step - loss: 0.1981 - val_loss: 0.2418\n",
      "Epoch 68/100\n",
      "640/640 [==============================] - 1s 1ms/step - loss: 0.1982 - val_loss: 0.2403\n",
      "Epoch 69/100\n",
      "640/640 [==============================] - 1s 1ms/step - loss: 0.1982 - val_loss: 0.2415\n",
      "Epoch 70/100\n",
      "640/640 [==============================] - 1s 1ms/step - loss: 0.1981 - val_loss: 0.2405\n",
      "Epoch 71/100\n",
      "640/640 [==============================] - 1s 1ms/step - loss: 0.1981 - val_loss: 0.2415\n",
      "Epoch 72/100\n",
      "640/640 [==============================] - 1s 1ms/step - loss: 0.1981 - val_loss: 0.2409\n",
      "Epoch 73/100\n",
      "640/640 [==============================] - 1s 1ms/step - loss: 0.1980 - val_loss: 0.2410\n",
      "Epoch 74/100\n",
      "640/640 [==============================] - 1s 1ms/step - loss: 0.1981 - val_loss: 0.2413\n",
      "Epoch 75/100\n",
      "640/640 [==============================] - 1s 1ms/step - loss: 0.1981 - val_loss: 0.2411\n",
      "Epoch 76/100\n",
      "640/640 [==============================] - 1s 1ms/step - loss: 0.1980 - val_loss: 0.2412\n",
      "Epoch 77/100\n",
      "640/640 [==============================] - 1s 1ms/step - loss: 0.1980 - val_loss: 0.2409\n",
      "Epoch 78/100\n",
      "640/640 [==============================] - 1s 1ms/step - loss: 0.1981 - val_loss: 0.2414\n",
      "Epoch 79/100\n",
      "640/640 [==============================] - 1s 1ms/step - loss: 0.1981 - val_loss: 0.2405\n",
      "Epoch 80/100\n",
      "640/640 [==============================] - 1s 1ms/step - loss: 0.1981 - val_loss: 0.2411\n"
     ]
    },
    {
     "name": "stdout",
     "output_type": "stream",
     "text": [
      "Epoch 81/100\n",
      "640/640 [==============================] - 1s 1ms/step - loss: 0.1981 - val_loss: 0.2409\n",
      "Epoch 82/100\n",
      "640/640 [==============================] - 1s 1ms/step - loss: 0.1981 - val_loss: 0.2410\n",
      "Epoch 83/100\n",
      "640/640 [==============================] - 1s 1ms/step - loss: 0.1981 - val_loss: 0.2410\n",
      "Epoch 84/100\n",
      "640/640 [==============================] - 1s 1ms/step - loss: 0.1981 - val_loss: 0.2409\n",
      "Epoch 85/100\n",
      "640/640 [==============================] - 1s 1ms/step - loss: 0.1981 - val_loss: 0.2412\n",
      "Epoch 86/100\n",
      "640/640 [==============================] - 1s 1ms/step - loss: 0.1981 - val_loss: 0.2415\n",
      "Epoch 87/100\n",
      "640/640 [==============================] - 1s 1ms/step - loss: 0.1981 - val_loss: 0.2410\n",
      "Epoch 88/100\n",
      "640/640 [==============================] - 1s 1ms/step - loss: 0.1981 - val_loss: 0.2413\n",
      "Epoch 89/100\n",
      "640/640 [==============================] - 1s 1ms/step - loss: 0.1981 - val_loss: 0.2412\n",
      "Epoch 90/100\n",
      "640/640 [==============================] - 1s 1ms/step - loss: 0.1981 - val_loss: 0.2417\n",
      "Epoch 91/100\n",
      "640/640 [==============================] - 1s 1ms/step - loss: 0.1982 - val_loss: 0.2410\n",
      "Epoch 92/100\n",
      "640/640 [==============================] - 1s 1ms/step - loss: 0.1981 - val_loss: 0.2414\n",
      "Epoch 93/100\n",
      "640/640 [==============================] - 1s 1ms/step - loss: 0.1981 - val_loss: 0.2410\n",
      "Epoch 94/100\n",
      "640/640 [==============================] - 1s 1ms/step - loss: 0.1981 - val_loss: 0.2405\n",
      "Epoch 95/100\n",
      "640/640 [==============================] - 1s 1ms/step - loss: 0.1981 - val_loss: 0.2411\n",
      "Epoch 96/100\n",
      "640/640 [==============================] - 1s 1ms/step - loss: 0.1981 - val_loss: 0.2410\n",
      "Epoch 97/100\n",
      "640/640 [==============================] - 1s 1ms/step - loss: 0.1981 - val_loss: 0.2408\n",
      "Epoch 98/100\n",
      "640/640 [==============================] - 1s 1ms/step - loss: 0.1981 - val_loss: 0.2411\n",
      "Epoch 99/100\n",
      "640/640 [==============================] - 1s 1ms/step - loss: 0.1981 - val_loss: 0.2408\n",
      "Epoch 100/100\n",
      "640/640 [==============================] - 1s 1ms/step - loss: 0.1981 - val_loss: 0.2409\n"
     ]
    },
    {
     "data": {
      "text/plain": [
       "<keras.callbacks.History at 0x7f2be05e4ef0>"
      ]
     },
     "execution_count": 22,
     "metadata": {},
     "output_type": "execute_result"
    }
   ],
   "source": [
    "input_img=Input(shape=(30,30,4))\n",
    "#autoencoder=Model(input_img,decoded)\n",
    "#keras.optimizers.Adam(lr=0.01, beta_1=0.9, beta_2=0.999, epsilon=1e-08, decay=0.0)\n",
    "autoencoder.compile(optimizer='Adamax',loss='binary_crossentropy')\n",
    "autoencoder.fit(x_train,x_train,epochs=100,batch_size=64,shuffle=True,validation_data=(x_test,x_test))"
   ]
  },
  {
   "cell_type": "code",
   "execution_count": 23,
   "metadata": {},
   "outputs": [],
   "source": [
    "input_img=Input(shape=(30,30,4))\n",
    "\n",
    "encoder_layer1=autoencoder.layers[0](input_img)\n",
    "encoder_layer2=autoencoder.layers[1](encoder_layer1)\n",
    "encoder_layer3=autoencoder.layers[2](encoder_layer2)\n",
    "encoder_layer4=autoencoder.layers[3](encoder_layer3)\n",
    "encoder_layer5=autoencoder.layers[4](encoder_layer4)\n",
    "encoder=Model(input_img,encoder_layer5)\n",
    "\n",
    "\n",
    "encoded_input=Input(shape=(5, 5, 8))\n",
    "decoder_layer=encoded_input\n",
    "for i in range(5):\n",
    "    temp=autoencoder.layers[i-5]\n",
    "    decoder_layer=temp(decoder_layer)\n",
    "\n",
    "decoder=Model(encoded_input,decoder_layer)"
   ]
  },
  {
   "cell_type": "code",
   "execution_count": 206,
   "metadata": {},
   "outputs": [],
   "source": [
    "import json\n",
    "from keras.applications import imagenet_utils\n",
    "with open('./pokemon_30.json', 'w') as jsOut:\n",
    "    json.dump(autoencoder.to_json(), jsOut)\n",
    "autoencoder.save_weights('./pokemon_30_weight.h5')"
   ]
  },
  {
   "cell_type": "code",
   "execution_count": 4,
   "metadata": {
    "scrolled": true
   },
   "outputs": [],
   "source": [
    "from keras.models import model_from_json\n",
    "import json\n",
    "with open('./pokemon_30.json', 'r') as jsIn:\n",
    "    modelJson=json.load(jsIn)\n",
    "\n",
    "autoencoder=model_from_json(modelJson)\n",
    "autoencoder.load_weights('./pokemon_30_weight.h5')\n",
    "#autoencoder.compile(optimizer='adam',loss='binary_crossentropy')\n",
    "#autoencoder.fit(x_train,x_train,epochs=10,batch_size=64,shuffle=True,validation_data=(x_test,x_test))\n",
    "input_img=Input(shape=(30,30,4))\n",
    "\n",
    "encoder_layer1=autoencoder.layers[0](input_img)\n",
    "encoder_layer2=autoencoder.layers[1](encoder_layer1)\n",
    "encoder_layer3=autoencoder.layers[2](encoder_layer2)\n",
    "encoder_layer4=autoencoder.layers[3](encoder_layer3)\n",
    "encoder_layer5=autoencoder.layers[4](encoder_layer4)\n",
    "encoder=Model(input_img,encoder_layer5)\n",
    "\n",
    "\n",
    "encoded_input=Input(shape=(5, 5, 8))\n",
    "decoder_layer=encoded_input\n",
    "for i in range(5):\n",
    "    temp=autoencoder.layers[i-5]\n",
    "    decoder_layer=temp(decoder_layer)\n",
    "\n",
    "decoder=Model(encoded_input,decoder_layer)"
   ]
  },
  {
   "cell_type": "code",
   "execution_count": 24,
   "metadata": {},
   "outputs": [
    {
     "data": {
      "image/png": "[encoded data removed]",
      "text/plain": [
       "<matplotlib.figure.Figure at 0x7f2bdb2217b8>"
      ]
     },
     "metadata": {},
     "output_type": "display_data"
    }
   ],
   "source": [
    "encoded_imgs = encoder.predict(x_train)\n",
    "decoded_imgs = decoder.predict(encoded_imgs)\n",
    "n = 10  # how many digits we will display\n",
    "plt.figure(figsize=(30, 4))\n",
    "for i in range(n):\n",
    "    # display original\n",
    "    ax = plt.subplot(2, n, i + 1)\n",
    "    imgplot = plt.imshow(x_train[i])\n",
    "    #plt.gray()\n",
    "    ax.get_xaxis().set_visible(False)\n",
    "    ax.get_yaxis().set_visible(False)\n",
    "\n",
    "    # display reconstruction\n",
    "    ax = plt.subplot(2, n, i + 1 + n)\n",
    "    imgplot = plt.imshow(decoded_imgs[i])\n",
    "    #plt.gray()\n",
    "    ax.get_xaxis().set_visible(False)\n",
    "    ax.get_yaxis().set_visible(False)\n",
    "plt.show()"
   ]
  },
  {
   "cell_type": "code",
   "execution_count": 10,
   "metadata": {},
   "outputs": [
    {
     "data": {
      "image/png": "[encoded data removed]",
      "text/plain": [
       "<matplotlib.figure.Figure at 0x7f2be065dd68>"
      ]
     },
     "metadata": {},
     "output_type": "display_data"
    },
    {
     "data": {
      "image/png": "[encoded data removed]",
      "text/plain": [
       "<matplotlib.figure.Figure at 0x7f2be0617668>"
      ]
     },
     "metadata": {},
     "output_type": "display_data"
    },
    {
     "data": {
      "image/png": "[encoded data removed]",
      "text/plain": [
       "<matplotlib.figure.Figure at 0x7f2be05bf5f8>"
      ]
     },
     "metadata": {},
     "output_type": "display_data"
    },
    {
     "data": {
      "image/png": "[encoded data removed]",
      "text/plain": [
       "<matplotlib.figure.Figure at 0x7f2be062b780>"
      ]
     },
     "metadata": {},
     "output_type": "display_data"
    }
   ],
   "source": [
    "\n",
    "for i in range(4):\n",
    "    test=encoded_imgs[0]\n",
    "    test=test.reshape((1,5,5,8))\n",
    "    test[0,0,:,:]*=0.3\n",
    "    test_imgs = decoder.predict(test)\n",
    "    plt.figure(figsize=(1, 1))\n",
    "    plt.axis('off')\n",
    "\n",
    "    \n",
    "    imgplot = plt.imshow(test_imgs[0])\n",
    "\n",
    "\n",
    "    plt.show()"
   ]
  },
  {
   "cell_type": "code",
   "execution_count": 25,
   "metadata": {},
   "outputs": [
    {
     "name": "stdout",
     "output_type": "stream",
     "text": [
      "(640, 30, 30, 4)\n"
     ]
    },
    {
     "data": {
      "image/png": "[encoded data removed]",
      "text/plain": [
       "<matplotlib.figure.Figure at 0x7f2bdb3d5470>"
      ]
     },
     "metadata": {},
     "output_type": "display_data"
    },
    {
     "name": "stdout",
     "output_type": "stream",
     "text": [
      "(152, 30, 30, 4)\n"
     ]
    },
    {
     "data": {
      "image/png": "[encoded data removed]",
      "text/plain": [
       "<matplotlib.figure.Figure at 0x7f2bdbda49b0>"
      ]
     },
     "metadata": {},
     "output_type": "display_data"
    }
   ],
   "source": [
    "encoded_imgs = encoder.predict(x_train)\n",
    "decoded_imgs = decoder.predict(encoded_imgs)\n",
    "\n",
    "print(decoded_imgs.shape)\n",
    "imgplot = plt.imshow(decoded_imgs[0])\n",
    "plt.show()\n",
    "\n",
    "encoded_imgs = encoder.predict(x_test)\n",
    "decoded_imgs = decoder.predict(encoded_imgs)\n",
    "\n",
    "print(decoded_imgs.shape)\n",
    "imgplot = plt.imshow(decoded_imgs[0])\n",
    "plt.show()"
   ]
  }
 ],
 "metadata": {
  "kernelspec": {
   "display_name": "Python 3",
   "language": "python",
   "name": "python3"
  },
  "language_info": {
   "codemirror_mode": {
    "name": "ipython",
    "version": 3
   },
   "file_extension": ".py",
   "mimetype": "text/x-python",
   "name": "python",
   "nbconvert_exporter": "python",
   "pygments_lexer": "ipython3",
   "version": "3.5.2"
  }
 },
 "nbformat": 4,
 "nbformat_minor": 2
}
