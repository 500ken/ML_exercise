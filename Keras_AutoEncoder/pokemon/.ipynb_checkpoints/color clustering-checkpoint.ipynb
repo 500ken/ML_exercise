{
 "cells": [
  {
   "cell_type": "code",
   "execution_count": 1,
   "metadata": {},
   "outputs": [
    {
     "name": "stderr",
     "output_type": "stream",
     "text": [
      "Using TensorFlow backend.\n"
     ]
    }
   ],
   "source": [
    "from keras.layers import Input,Dense\n",
    "from keras.models import Model\n",
    "import matplotlib.pyplot as plt\n",
    "import matplotlib.image as mpimg\n",
    "import numpy as np"
   ]
  },
  {
   "cell_type": "code",
   "execution_count": 2,
   "metadata": {},
   "outputs": [
    {
     "name": "stdout",
     "output_type": "stream",
     "text": [
      "x_train shape= (742, 40, 40, 3)\n",
      "x_test shape= (50, 40, 40, 3)\n"
     ]
    }
   ],
   "source": [
    "import os\n",
    "for dirPath, dirNames, fileNames in os.walk(\"figure\"):\n",
    "    pass\n",
    "data=[]\n",
    "for name in fileNames:\n",
    "    path='figure/'+name\n",
    "    img=mpimg.imread(path)\n",
    "    data.append(img[:,:,0:3])\n",
    "data=np.array(data)\n",
    "\n",
    "x_train=data[:-50]\n",
    "x_test=data[-50:]\n",
    "\n",
    "x_train=x_train.reshape(len(x_train),40,40,3)\n",
    "x_test=x_test.reshape(len(x_test),40,40,3)\n",
    "\n",
    "print('x_train shape=',x_train.shape)\n",
    "print('x_test shape=',x_test.shape)"
   ]
  },
  {
   "cell_type": "code",
   "execution_count": 3,
   "metadata": {},
   "outputs": [
    {
     "name": "stdout",
     "output_type": "stream",
     "text": [
      "(1267200, 3)\n",
      "(20165, 3)\n"
     ]
    }
   ],
   "source": [
    "hello=data.reshape(-1,3)\n",
    "print(hello.shape)\n",
    "hello=np.unique(hello, axis=0)\n",
    "print(hello.shape)"
   ]
  },
  {
   "cell_type": "code",
   "execution_count": 4,
   "metadata": {
    "scrolled": true
   },
   "outputs": [
    {
     "data": {
      "text/plain": [
       "KMeans(algorithm='auto', copy_x=True, init='k-means++', max_iter=300,\n",
       "    n_clusters=100, n_init=10, n_jobs=1, precompute_distances='auto',\n",
       "    random_state=None, tol=0.0001, verbose=0)"
      ]
     },
     "execution_count": 4,
     "metadata": {},
     "output_type": "execute_result"
    }
   ],
   "source": [
    "from sklearn.cluster import KMeans\n",
    "abc=KMeans(100)\n",
    "abc.fit(hello)"
   ]
  },
  {
   "cell_type": "code",
   "execution_count": 6,
   "metadata": {},
   "outputs": [
    {
     "name": "stdout",
     "output_type": "stream",
     "text": [
      "[22 67 89 ...,  0  0  0]\n"
     ]
    },
    {
     "data": {
      "text/plain": [
       "array([[ 0.        ,  0.        ,  0.        ],\n",
       "       [ 0.        ,  0.50196081,  0.41960785],\n",
       "       [ 0.        ,  0.54901963,  0.80784315],\n",
       "       ..., \n",
       "       [ 1.        ,  1.        ,  0.99215686],\n",
       "       [ 1.        ,  1.        ,  0.99607843],\n",
       "       [ 1.        ,  1.        ,  1.        ]], dtype=float32)"
      ]
     },
     "execution_count": 6,
     "metadata": {},
     "output_type": "execute_result"
    }
   ],
   "source": [
    "print(abc.labels_)\n",
    "hello"
   ]
  },
  {
   "cell_type": "code",
   "execution_count": 9,
   "metadata": {},
   "outputs": [],
   "source": [
    "data_mod=data.reshape(-1,3)\n",
    "data_mod=abc.predict(data_mod)\n",
    "data_mod=data_mod.reshape(792,40,40,1)\n",
    "#print(data_mod)"
   ]
  },
  {
   "cell_type": "code",
   "execution_count": 10,
   "metadata": {
    "collapsed": true
   },
   "outputs": [],
   "source": [
    "x_train=data_mod[:-50]\n",
    "x_test=data_mod[-50:]\n",
    "\n",
    "x_train=x_train.reshape(len(x_train),40,40,1)\n",
    "x_test=x_test.reshape(len(x_test),40,40,1)"
   ]
  },
  {
   "cell_type": "code",
   "execution_count": 11,
   "metadata": {},
   "outputs": [
    {
     "name": "stdout",
     "output_type": "stream",
     "text": [
      "(?, 40, 40, 8)\n",
      "(?, 20, 20, 8)\n",
      "(?, 20, 20, 8)\n",
      "(?, 10, 10, 8)\n",
      "(?, 10, 10, 4)\n",
      "(?, 2, 2, 4)\n",
      "(?, 2, 2, 4)\n",
      "(?, 10, 10, 4)\n",
      "(?, 10, 10, 8)\n",
      "(?, 20, 20, 8)\n",
      "(?, 20, 20, 8)\n",
      "(?, 40, 40, 8)\n",
      "(?, 40, 40, 1)\n"
     ]
    }
   ],
   "source": [
    "from keras.layers import Input, Dense, Conv2D, MaxPooling2D, UpSampling2D\n",
    "from keras.models import Model\n",
    "from keras import backend as K\n",
    "\n",
    "input_img=Input(shape=(40,40,1))\n",
    "\n",
    "x=Conv2D(8,(3,3),activation='relu',padding='same')(input_img)\n",
    "print(x.shape)\n",
    "x=MaxPooling2D((2,2),padding='same')(x)\n",
    "print(x.shape)\n",
    "x=Conv2D(8,(3,3),activation='relu',padding='same')(x)\n",
    "print(x.shape)\n",
    "x=MaxPooling2D((2,2),padding='same')(x)\n",
    "print(x.shape)\n",
    "x=Conv2D(4,(3,3),activation='relu',padding='same')(x)\n",
    "print(x.shape)\n",
    "encoded=MaxPooling2D((5,5),padding='same')(x)\n",
    "print(encoded.shape)\n",
    "\n",
    "x=Conv2D(4,(3,3),activation='relu',padding='same')(encoded)\n",
    "print(x.shape)\n",
    "x=UpSampling2D((5,5))(x)\n",
    "print(x.shape)\n",
    "x=Conv2D(8,(3,3),activation='relu',padding='same')(x)\n",
    "print(x.shape)\n",
    "x=UpSampling2D((2,2))(x)\n",
    "print(x.shape)\n",
    "x=Conv2D(8,(3,3),activation='relu',padding='same')(x)\n",
    "print(x.shape)\n",
    "x=UpSampling2D((2,2))(x)\n",
    "print(x.shape)\n",
    "decoded=Conv2D(1,(3,3),activation='sigmoid',padding='same')(x)\n",
    "print(decoded.shape)"
   ]
  },
  {
   "cell_type": "code",
   "execution_count": 12,
   "metadata": {},
   "outputs": [
    {
     "name": "stdout",
     "output_type": "stream",
     "text": [
      "Train on 742 samples, validate on 50 samples\n",
      "Epoch 1/100\n",
      "742/742 [==============================] - 4s - loss: -5.0721 - val_loss: -50.7936\n",
      "Epoch 2/100\n",
      "742/742 [==============================] - 3s - loss: -27.9247 - val_loss: -181.5236\n",
      "Epoch 3/100\n",
      "742/742 [==============================] - 3s - loss: -73.3373 - val_loss: -319.4681\n",
      "Epoch 4/100\n",
      "742/742 [==============================] - 3s - loss: -89.7622 - val_loss: -353.4538\n",
      "Epoch 5/100\n",
      "742/742 [==============================] - 4s - loss: -90.3014 - val_loss: -360.0184\n",
      "Epoch 6/100\n",
      "742/742 [==============================] - 3s - loss: -90.3259 - val_loss: -361.7768\n",
      "Epoch 7/100\n",
      "742/742 [==============================] - 4s - loss: -90.3051 - val_loss: -362.4026\n",
      "Epoch 8/100\n",
      "742/742 [==============================] - 4s - loss: -90.3003 - val_loss: -362.6564\n",
      "Epoch 9/100\n",
      "742/742 [==============================] - 4s - loss: -90.2969 - val_loss: -362.7637\n",
      "Epoch 10/100\n",
      "742/742 [==============================] - 4s - loss: -90.2945 - val_loss: -362.8146\n",
      "Epoch 11/100\n",
      "742/742 [==============================] - 4s - loss: -90.2941 - val_loss: -362.8255\n",
      "Epoch 12/100\n",
      "742/742 [==============================] - 3s - loss: -90.2940 - val_loss: -362.8238\n",
      "Epoch 13/100\n",
      "742/742 [==============================] - 3s - loss: -90.2943 - val_loss: -362.8117\n",
      "Epoch 14/100\n",
      "742/742 [==============================] - 3s - loss: -90.2948 - val_loss: -362.7923\n",
      "Epoch 15/100\n",
      "512/742 [===================>..........] - ETA: 1s - loss: -92.2872"
     ]
    },
    {
     "ename": "KeyboardInterrupt",
     "evalue": "",
     "output_type": "error",
     "traceback": [
      "\u001b[1;31m---------------------------------------------------------------------------\u001b[0m",
      "\u001b[1;31mKeyboardInterrupt\u001b[0m                         Traceback (most recent call last)",
      "\u001b[1;32m<ipython-input-12-6a454d81cb16>\u001b[0m in \u001b[0;36m<module>\u001b[1;34m()\u001b[0m\n\u001b[0;32m      1\u001b[0m \u001b[0mautoencoder\u001b[0m\u001b[1;33m=\u001b[0m\u001b[0mModel\u001b[0m\u001b[1;33m(\u001b[0m\u001b[0minput_img\u001b[0m\u001b[1;33m,\u001b[0m\u001b[0mdecoded\u001b[0m\u001b[1;33m)\u001b[0m\u001b[1;33m\u001b[0m\u001b[0m\n\u001b[0;32m      2\u001b[0m \u001b[0mautoencoder\u001b[0m\u001b[1;33m.\u001b[0m\u001b[0mcompile\u001b[0m\u001b[1;33m(\u001b[0m\u001b[0moptimizer\u001b[0m\u001b[1;33m=\u001b[0m\u001b[1;34m'adam'\u001b[0m\u001b[1;33m,\u001b[0m\u001b[0mloss\u001b[0m\u001b[1;33m=\u001b[0m\u001b[1;34m'binary_crossentropy'\u001b[0m\u001b[1;33m)\u001b[0m\u001b[1;33m\u001b[0m\u001b[0m\n\u001b[1;32m----> 3\u001b[1;33m \u001b[0mautoencoder\u001b[0m\u001b[1;33m.\u001b[0m\u001b[0mfit\u001b[0m\u001b[1;33m(\u001b[0m\u001b[0mx_train\u001b[0m\u001b[1;33m,\u001b[0m\u001b[0mx_train\u001b[0m\u001b[1;33m,\u001b[0m\u001b[0mepochs\u001b[0m\u001b[1;33m=\u001b[0m\u001b[1;36m100\u001b[0m\u001b[1;33m,\u001b[0m\u001b[0mbatch_size\u001b[0m\u001b[1;33m=\u001b[0m\u001b[1;36m128\u001b[0m\u001b[1;33m,\u001b[0m\u001b[0mshuffle\u001b[0m\u001b[1;33m=\u001b[0m\u001b[1;32mTrue\u001b[0m\u001b[1;33m,\u001b[0m\u001b[0mvalidation_data\u001b[0m\u001b[1;33m=\u001b[0m\u001b[1;33m(\u001b[0m\u001b[0mx_test\u001b[0m\u001b[1;33m,\u001b[0m\u001b[0mx_test\u001b[0m\u001b[1;33m)\u001b[0m\u001b[1;33m)\u001b[0m\u001b[1;33m\u001b[0m\u001b[0m\n\u001b[0m",
      "\u001b[1;32mc:\\users\\chiang\\appdata\\local\\programs\\python\\python36\\lib\\site-packages\\keras\\engine\\training.py\u001b[0m in \u001b[0;36mfit\u001b[1;34m(self, x, y, batch_size, epochs, verbose, callbacks, validation_split, validation_data, shuffle, class_weight, sample_weight, initial_epoch, **kwargs)\u001b[0m\n\u001b[0;32m   1428\u001b[0m                               \u001b[0mval_f\u001b[0m\u001b[1;33m=\u001b[0m\u001b[0mval_f\u001b[0m\u001b[1;33m,\u001b[0m \u001b[0mval_ins\u001b[0m\u001b[1;33m=\u001b[0m\u001b[0mval_ins\u001b[0m\u001b[1;33m,\u001b[0m \u001b[0mshuffle\u001b[0m\u001b[1;33m=\u001b[0m\u001b[0mshuffle\u001b[0m\u001b[1;33m,\u001b[0m\u001b[1;33m\u001b[0m\u001b[0m\n\u001b[0;32m   1429\u001b[0m                               \u001b[0mcallback_metrics\u001b[0m\u001b[1;33m=\u001b[0m\u001b[0mcallback_metrics\u001b[0m\u001b[1;33m,\u001b[0m\u001b[1;33m\u001b[0m\u001b[0m\n\u001b[1;32m-> 1430\u001b[1;33m                               initial_epoch=initial_epoch)\n\u001b[0m\u001b[0;32m   1431\u001b[0m \u001b[1;33m\u001b[0m\u001b[0m\n\u001b[0;32m   1432\u001b[0m     \u001b[1;32mdef\u001b[0m \u001b[0mevaluate\u001b[0m\u001b[1;33m(\u001b[0m\u001b[0mself\u001b[0m\u001b[1;33m,\u001b[0m \u001b[0mx\u001b[0m\u001b[1;33m,\u001b[0m \u001b[0my\u001b[0m\u001b[1;33m,\u001b[0m \u001b[0mbatch_size\u001b[0m\u001b[1;33m=\u001b[0m\u001b[1;36m32\u001b[0m\u001b[1;33m,\u001b[0m \u001b[0mverbose\u001b[0m\u001b[1;33m=\u001b[0m\u001b[1;36m1\u001b[0m\u001b[1;33m,\u001b[0m \u001b[0msample_weight\u001b[0m\u001b[1;33m=\u001b[0m\u001b[1;32mNone\u001b[0m\u001b[1;33m)\u001b[0m\u001b[1;33m:\u001b[0m\u001b[1;33m\u001b[0m\u001b[0m\n",
      "\u001b[1;32mc:\\users\\chiang\\appdata\\local\\programs\\python\\python36\\lib\\site-packages\\keras\\engine\\training.py\u001b[0m in \u001b[0;36m_fit_loop\u001b[1;34m(self, f, ins, out_labels, batch_size, epochs, verbose, callbacks, val_f, val_ins, shuffle, callback_metrics, initial_epoch)\u001b[0m\n\u001b[0;32m   1077\u001b[0m                 \u001b[0mbatch_logs\u001b[0m\u001b[1;33m[\u001b[0m\u001b[1;34m'size'\u001b[0m\u001b[1;33m]\u001b[0m \u001b[1;33m=\u001b[0m \u001b[0mlen\u001b[0m\u001b[1;33m(\u001b[0m\u001b[0mbatch_ids\u001b[0m\u001b[1;33m)\u001b[0m\u001b[1;33m\u001b[0m\u001b[0m\n\u001b[0;32m   1078\u001b[0m                 \u001b[0mcallbacks\u001b[0m\u001b[1;33m.\u001b[0m\u001b[0mon_batch_begin\u001b[0m\u001b[1;33m(\u001b[0m\u001b[0mbatch_index\u001b[0m\u001b[1;33m,\u001b[0m \u001b[0mbatch_logs\u001b[0m\u001b[1;33m)\u001b[0m\u001b[1;33m\u001b[0m\u001b[0m\n\u001b[1;32m-> 1079\u001b[1;33m                 \u001b[0mouts\u001b[0m \u001b[1;33m=\u001b[0m \u001b[0mf\u001b[0m\u001b[1;33m(\u001b[0m\u001b[0mins_batch\u001b[0m\u001b[1;33m)\u001b[0m\u001b[1;33m\u001b[0m\u001b[0m\n\u001b[0m\u001b[0;32m   1080\u001b[0m                 \u001b[1;32mif\u001b[0m \u001b[1;32mnot\u001b[0m \u001b[0misinstance\u001b[0m\u001b[1;33m(\u001b[0m\u001b[0mouts\u001b[0m\u001b[1;33m,\u001b[0m \u001b[0mlist\u001b[0m\u001b[1;33m)\u001b[0m\u001b[1;33m:\u001b[0m\u001b[1;33m\u001b[0m\u001b[0m\n\u001b[0;32m   1081\u001b[0m                     \u001b[0mouts\u001b[0m \u001b[1;33m=\u001b[0m \u001b[1;33m[\u001b[0m\u001b[0mouts\u001b[0m\u001b[1;33m]\u001b[0m\u001b[1;33m\u001b[0m\u001b[0m\n",
      "\u001b[1;32mc:\\users\\chiang\\appdata\\local\\programs\\python\\python36\\lib\\site-packages\\keras\\backend\\tensorflow_backend.py\u001b[0m in \u001b[0;36m__call__\u001b[1;34m(self, inputs)\u001b[0m\n\u001b[0;32m   2266\u001b[0m         updated = session.run(self.outputs + [self.updates_op],\n\u001b[0;32m   2267\u001b[0m                               \u001b[0mfeed_dict\u001b[0m\u001b[1;33m=\u001b[0m\u001b[0mfeed_dict\u001b[0m\u001b[1;33m,\u001b[0m\u001b[1;33m\u001b[0m\u001b[0m\n\u001b[1;32m-> 2268\u001b[1;33m                               **self.session_kwargs)\n\u001b[0m\u001b[0;32m   2269\u001b[0m         \u001b[1;32mreturn\u001b[0m \u001b[0mupdated\u001b[0m\u001b[1;33m[\u001b[0m\u001b[1;33m:\u001b[0m\u001b[0mlen\u001b[0m\u001b[1;33m(\u001b[0m\u001b[0mself\u001b[0m\u001b[1;33m.\u001b[0m\u001b[0moutputs\u001b[0m\u001b[1;33m)\u001b[0m\u001b[1;33m]\u001b[0m\u001b[1;33m\u001b[0m\u001b[0m\n\u001b[0;32m   2270\u001b[0m \u001b[1;33m\u001b[0m\u001b[0m\n",
      "\u001b[1;32mc:\\users\\chiang\\appdata\\local\\programs\\python\\python36\\lib\\site-packages\\tensorflow\\python\\client\\session.py\u001b[0m in \u001b[0;36mrun\u001b[1;34m(self, fetches, feed_dict, options, run_metadata)\u001b[0m\n\u001b[0;32m    787\u001b[0m     \u001b[1;32mtry\u001b[0m\u001b[1;33m:\u001b[0m\u001b[1;33m\u001b[0m\u001b[0m\n\u001b[0;32m    788\u001b[0m       result = self._run(None, fetches, feed_dict, options_ptr,\n\u001b[1;32m--> 789\u001b[1;33m                          run_metadata_ptr)\n\u001b[0m\u001b[0;32m    790\u001b[0m       \u001b[1;32mif\u001b[0m \u001b[0mrun_metadata\u001b[0m\u001b[1;33m:\u001b[0m\u001b[1;33m\u001b[0m\u001b[0m\n\u001b[0;32m    791\u001b[0m         \u001b[0mproto_data\u001b[0m \u001b[1;33m=\u001b[0m \u001b[0mtf_session\u001b[0m\u001b[1;33m.\u001b[0m\u001b[0mTF_GetBuffer\u001b[0m\u001b[1;33m(\u001b[0m\u001b[0mrun_metadata_ptr\u001b[0m\u001b[1;33m)\u001b[0m\u001b[1;33m\u001b[0m\u001b[0m\n",
      "\u001b[1;32mc:\\users\\chiang\\appdata\\local\\programs\\python\\python36\\lib\\site-packages\\tensorflow\\python\\client\\session.py\u001b[0m in \u001b[0;36m_run\u001b[1;34m(self, handle, fetches, feed_dict, options, run_metadata)\u001b[0m\n\u001b[0;32m    995\u001b[0m     \u001b[1;32mif\u001b[0m \u001b[0mfinal_fetches\u001b[0m \u001b[1;32mor\u001b[0m \u001b[0mfinal_targets\u001b[0m\u001b[1;33m:\u001b[0m\u001b[1;33m\u001b[0m\u001b[0m\n\u001b[0;32m    996\u001b[0m       results = self._do_run(handle, final_targets, final_fetches,\n\u001b[1;32m--> 997\u001b[1;33m                              feed_dict_string, options, run_metadata)\n\u001b[0m\u001b[0;32m    998\u001b[0m     \u001b[1;32melse\u001b[0m\u001b[1;33m:\u001b[0m\u001b[1;33m\u001b[0m\u001b[0m\n\u001b[0;32m    999\u001b[0m       \u001b[0mresults\u001b[0m \u001b[1;33m=\u001b[0m \u001b[1;33m[\u001b[0m\u001b[1;33m]\u001b[0m\u001b[1;33m\u001b[0m\u001b[0m\n",
      "\u001b[1;32mc:\\users\\chiang\\appdata\\local\\programs\\python\\python36\\lib\\site-packages\\tensorflow\\python\\client\\session.py\u001b[0m in \u001b[0;36m_do_run\u001b[1;34m(self, handle, target_list, fetch_list, feed_dict, options, run_metadata)\u001b[0m\n\u001b[0;32m   1130\u001b[0m     \u001b[1;32mif\u001b[0m \u001b[0mhandle\u001b[0m \u001b[1;32mis\u001b[0m \u001b[1;32mNone\u001b[0m\u001b[1;33m:\u001b[0m\u001b[1;33m\u001b[0m\u001b[0m\n\u001b[0;32m   1131\u001b[0m       return self._do_call(_run_fn, self._session, feed_dict, fetch_list,\n\u001b[1;32m-> 1132\u001b[1;33m                            target_list, options, run_metadata)\n\u001b[0m\u001b[0;32m   1133\u001b[0m     \u001b[1;32melse\u001b[0m\u001b[1;33m:\u001b[0m\u001b[1;33m\u001b[0m\u001b[0m\n\u001b[0;32m   1134\u001b[0m       return self._do_call(_prun_fn, self._session, handle, feed_dict,\n",
      "\u001b[1;32mc:\\users\\chiang\\appdata\\local\\programs\\python\\python36\\lib\\site-packages\\tensorflow\\python\\client\\session.py\u001b[0m in \u001b[0;36m_do_call\u001b[1;34m(self, fn, *args)\u001b[0m\n\u001b[0;32m   1137\u001b[0m   \u001b[1;32mdef\u001b[0m \u001b[0m_do_call\u001b[0m\u001b[1;33m(\u001b[0m\u001b[0mself\u001b[0m\u001b[1;33m,\u001b[0m \u001b[0mfn\u001b[0m\u001b[1;33m,\u001b[0m \u001b[1;33m*\u001b[0m\u001b[0margs\u001b[0m\u001b[1;33m)\u001b[0m\u001b[1;33m:\u001b[0m\u001b[1;33m\u001b[0m\u001b[0m\n\u001b[0;32m   1138\u001b[0m     \u001b[1;32mtry\u001b[0m\u001b[1;33m:\u001b[0m\u001b[1;33m\u001b[0m\u001b[0m\n\u001b[1;32m-> 1139\u001b[1;33m       \u001b[1;32mreturn\u001b[0m \u001b[0mfn\u001b[0m\u001b[1;33m(\u001b[0m\u001b[1;33m*\u001b[0m\u001b[0margs\u001b[0m\u001b[1;33m)\u001b[0m\u001b[1;33m\u001b[0m\u001b[0m\n\u001b[0m\u001b[0;32m   1140\u001b[0m     \u001b[1;32mexcept\u001b[0m \u001b[0merrors\u001b[0m\u001b[1;33m.\u001b[0m\u001b[0mOpError\u001b[0m \u001b[1;32mas\u001b[0m \u001b[0me\u001b[0m\u001b[1;33m:\u001b[0m\u001b[1;33m\u001b[0m\u001b[0m\n\u001b[0;32m   1141\u001b[0m       \u001b[0mmessage\u001b[0m \u001b[1;33m=\u001b[0m \u001b[0mcompat\u001b[0m\u001b[1;33m.\u001b[0m\u001b[0mas_text\u001b[0m\u001b[1;33m(\u001b[0m\u001b[0me\u001b[0m\u001b[1;33m.\u001b[0m\u001b[0mmessage\u001b[0m\u001b[1;33m)\u001b[0m\u001b[1;33m\u001b[0m\u001b[0m\n",
      "\u001b[1;32mc:\\users\\chiang\\appdata\\local\\programs\\python\\python36\\lib\\site-packages\\tensorflow\\python\\client\\session.py\u001b[0m in \u001b[0;36m_run_fn\u001b[1;34m(session, feed_dict, fetch_list, target_list, options, run_metadata)\u001b[0m\n\u001b[0;32m   1119\u001b[0m         return tf_session.TF_Run(session, options,\n\u001b[0;32m   1120\u001b[0m                                  \u001b[0mfeed_dict\u001b[0m\u001b[1;33m,\u001b[0m \u001b[0mfetch_list\u001b[0m\u001b[1;33m,\u001b[0m \u001b[0mtarget_list\u001b[0m\u001b[1;33m,\u001b[0m\u001b[1;33m\u001b[0m\u001b[0m\n\u001b[1;32m-> 1121\u001b[1;33m                                  status, run_metadata)\n\u001b[0m\u001b[0;32m   1122\u001b[0m \u001b[1;33m\u001b[0m\u001b[0m\n\u001b[0;32m   1123\u001b[0m     \u001b[1;32mdef\u001b[0m \u001b[0m_prun_fn\u001b[0m\u001b[1;33m(\u001b[0m\u001b[0msession\u001b[0m\u001b[1;33m,\u001b[0m \u001b[0mhandle\u001b[0m\u001b[1;33m,\u001b[0m \u001b[0mfeed_dict\u001b[0m\u001b[1;33m,\u001b[0m \u001b[0mfetch_list\u001b[0m\u001b[1;33m)\u001b[0m\u001b[1;33m:\u001b[0m\u001b[1;33m\u001b[0m\u001b[0m\n",
      "\u001b[1;31mKeyboardInterrupt\u001b[0m: "
     ]
    }
   ],
   "source": [
    "autoencoder=Model(input_img,decoded)\n",
    "autoencoder.compile(optimizer='adam',loss='binary_crossentropy')\n",
    "autoencoder.fit(x_train,x_train,epochs=100,batch_size=128,shuffle=True,validation_data=(x_test,x_test))"
   ]
  },
  {
   "cell_type": "code",
   "execution_count": 66,
   "metadata": {},
   "outputs": [
    {
     "name": "stdout",
     "output_type": "stream",
     "text": [
      "x_train shape= (742, 30, 30, 1)\n",
      "x_test shape= (50, 30, 30, 1)\n",
      "Wall time: 638 ms\n"
     ]
    }
   ],
   "source": [
    "%%time\n",
    "import os\n",
    "for dirPath, dirNames, fileNames in os.walk(\"figure\"):\n",
    "    pass\n",
    "data=[]\n",
    "for name in fileNames:\n",
    "    path='figure/'+name\n",
    "    img=mpimg.imread(path)\n",
    "    data.append(img[5:-5,5:-5,0])\n",
    "data=np.array(data)\n",
    "\n",
    "x_train=data[:-50]\n",
    "x_test=data[-50:]\n",
    "\n",
    "x_train=x_train.reshape(len(x_train),30,30,1)\n",
    "x_test=x_test.reshape(len(x_test),30,30,1)\n",
    "\n",
    "print('x_train shape=',x_train.shape)\n",
    "print('x_test shape=',x_test.shape)"
   ]
  },
  {
   "cell_type": "code",
   "execution_count": 67,
   "metadata": {},
   "outputs": [],
   "source": [
    "for i in range(x_train.shape[0]):\n",
    "    x_train[i]=x_train[i]/x_train[i].max()\n",
    "for i in range(x_test.shape[0]):\n",
    "    x_test[i]=x_test[i]/x_test[i].max()"
   ]
  },
  {
   "cell_type": "code",
   "execution_count": 72,
   "metadata": {},
   "outputs": [
    {
     "name": "stdout",
     "output_type": "stream",
     "text": [
      "(?, 30, 30, 16)\n",
      "(?, 10, 10, 16)\n",
      "(?, 10, 10, 16)\n",
      "(?, 5, 5, 16)\n",
      "(?, 5, 5, 16)\n",
      "(?, 10, 10, 16)\n",
      "(?, 10, 10, 16)\n",
      "(?, 30, 30, 16)\n",
      "(?, 30, 30, 1)\n"
     ]
    }
   ],
   "source": [
    "from keras.layers import Input, Dense, Conv2D, MaxPooling2D, UpSampling2D\n",
    "from keras.models import Model\n",
    "from keras import backend as K\n",
    "\n",
    "input_img=Input(shape=(30,30,1))\n",
    "\n",
    "x=Conv2D(16,(3,3),activation='relu',padding='same')(input_img)\n",
    "print(x.shape)\n",
    "x=MaxPooling2D((3,3),padding='same')(x)\n",
    "print(x.shape)\n",
    "x=Conv2D(16,(3,3),activation='relu',padding='same')(x)\n",
    "print(x.shape)\n",
    "encoded=MaxPooling2D((2,2),padding='same')(x)\n",
    "print(encoded.shape)\n",
    "\n",
    "x=Conv2D(16,(3,3),activation='relu',padding='same')(encoded)\n",
    "print(x.shape)\n",
    "x=UpSampling2D((2,2))(x)\n",
    "print(x.shape)\n",
    "x=Conv2D(16,(3,3),activation='relu',padding='same')(x)\n",
    "print(x.shape)\n",
    "x=UpSampling2D((3,3))(x)\n",
    "print(x.shape)\n",
    "decoded=Conv2D(1,(3,3),activation='sigmoid',padding='same')(x)\n",
    "print(decoded.shape)\n",
    "\n",
    "autoencoder=Model(input_img,decoded)"
   ]
  },
  {
   "cell_type": "code",
   "execution_count": 73,
   "metadata": {},
   "outputs": [
    {
     "name": "stdout",
     "output_type": "stream",
     "text": [
      "Train on 742 samples, validate on 50 samples\n",
      "Epoch 1/100\n",
      "742/742 [==============================] - 4s - loss: 0.5863 - val_loss: 0.9817\n",
      "Epoch 2/100\n",
      "742/742 [==============================] - 3s - loss: 0.5105 - val_loss: 0.8779\n",
      "Epoch 3/100\n",
      "742/742 [==============================] - 3s - loss: 0.4484 - val_loss: 0.9314\n",
      "Epoch 4/100\n",
      "742/742 [==============================] - 3s - loss: 0.3867 - val_loss: 0.9801\n",
      "Epoch 5/100\n",
      "742/742 [==============================] - 3s - loss: 0.3586 - val_loss: 0.7260\n",
      "Epoch 6/100\n",
      "742/742 [==============================] - 3s - loss: 0.3325 - val_loss: 0.5598\n",
      "Epoch 7/100\n",
      "742/742 [==============================] - 3s - loss: 0.3196 - val_loss: 0.4820\n",
      "Epoch 8/100\n",
      "742/742 [==============================] - 3s - loss: 0.3110 - val_loss: 0.4180\n",
      "Epoch 9/100\n",
      "742/742 [==============================] - 3s - loss: 0.3050 - val_loss: 0.3750\n",
      "Epoch 10/100\n",
      "742/742 [==============================] - 3s - loss: 0.3008 - val_loss: 0.3410\n",
      "Epoch 11/100\n",
      "742/742 [==============================] - 3s - loss: 0.2970 - val_loss: 0.3239\n",
      "Epoch 12/100\n",
      "742/742 [==============================] - 3s - loss: 0.2941 - val_loss: 0.3123\n",
      "Epoch 13/100\n",
      "742/742 [==============================] - 4s - loss: 0.2919 - val_loss: 0.3057\n",
      "Epoch 14/100\n",
      "742/742 [==============================] - 3s - loss: 0.2902 - val_loss: 0.2991\n",
      "Epoch 15/100\n",
      "742/742 [==============================] - 2s - loss: 0.2886 - val_loss: 0.3002\n",
      "Epoch 16/100\n",
      "742/742 [==============================] - 2s - loss: 0.2872 - val_loss: 0.2944\n",
      "Epoch 17/100\n",
      "742/742 [==============================] - 2s - loss: 0.2862 - val_loss: 0.2925\n",
      "Epoch 18/100\n",
      "742/742 [==============================] - 2s - loss: 0.2856 - val_loss: 0.2896\n",
      "Epoch 19/100\n",
      "742/742 [==============================] - 3s - loss: 0.2850 - val_loss: 0.2872\n",
      "Epoch 20/100\n",
      "742/742 [==============================] - 3s - loss: 0.2839 - val_loss: 0.2847\n",
      "Epoch 21/100\n",
      "742/742 [==============================] - 2s - loss: 0.2835 - val_loss: 0.2831\n",
      "Epoch 22/100\n",
      "742/742 [==============================] - 3s - loss: 0.2817 - val_loss: 0.2837\n",
      "Epoch 23/100\n",
      "742/742 [==============================] - 2s - loss: 0.2809 - val_loss: 0.2812\n",
      "Epoch 24/100\n",
      "742/742 [==============================] - 3s - loss: 0.2805 - val_loss: 0.2791\n",
      "Epoch 25/100\n",
      "742/742 [==============================] - 3s - loss: 0.2797 - val_loss: 0.2791\n",
      "Epoch 26/100\n",
      "742/742 [==============================] - 3s - loss: 0.2800 - val_loss: 0.2768\n",
      "Epoch 27/100\n",
      "742/742 [==============================] - 3s - loss: 0.2786 - val_loss: 0.2762\n",
      "Epoch 28/100\n",
      "742/742 [==============================] - 2s - loss: 0.2779 - val_loss: 0.2744\n",
      "Epoch 29/100\n",
      "742/742 [==============================] - 2s - loss: 0.2772 - val_loss: 0.2728\n",
      "Epoch 30/100\n",
      "742/742 [==============================] - 2s - loss: 0.2764 - val_loss: 0.2722\n",
      "Epoch 31/100\n",
      "742/742 [==============================] - 2s - loss: 0.2758 - val_loss: 0.2716\n",
      "Epoch 32/100\n",
      "742/742 [==============================] - 2s - loss: 0.2758 - val_loss: 0.2699\n",
      "Epoch 33/100\n",
      "742/742 [==============================] - 3s - loss: 0.2751 - val_loss: 0.2694\n",
      "Epoch 34/100\n",
      "742/742 [==============================] - 3s - loss: 0.2748 - val_loss: 0.2691\n",
      "Epoch 35/100\n",
      "742/742 [==============================] - 3s - loss: 0.2744 - val_loss: 0.2680\n",
      "Epoch 36/100\n",
      "742/742 [==============================] - 3s - loss: 0.2738 - val_loss: 0.2664\n",
      "Epoch 37/100\n",
      "742/742 [==============================] - 2s - loss: 0.2733 - val_loss: 0.2668\n",
      "Epoch 38/100\n",
      "742/742 [==============================] - 3s - loss: 0.2727 - val_loss: 0.2655\n",
      "Epoch 39/100\n",
      "742/742 [==============================] - 3s - loss: 0.2717 - val_loss: 0.2649\n",
      "Epoch 40/100\n",
      "742/742 [==============================] - 3s - loss: 0.2714 - val_loss: 0.2643\n",
      "Epoch 41/100\n",
      "742/742 [==============================] - 3s - loss: 0.2708 - val_loss: 0.2636\n",
      "Epoch 42/100\n",
      "742/742 [==============================] - 2s - loss: 0.2707 - val_loss: 0.2627\n",
      "Epoch 43/100\n",
      "742/742 [==============================] - 2s - loss: 0.2704 - val_loss: 0.2634\n",
      "Epoch 44/100\n",
      "742/742 [==============================] - 2s - loss: 0.2701 - val_loss: 0.2625\n",
      "Epoch 45/100\n",
      "742/742 [==============================] - 2s - loss: 0.2694 - val_loss: 0.2612\n",
      "Epoch 46/100\n",
      "742/742 [==============================] - 2s - loss: 0.2690 - val_loss: 0.2608\n",
      "Epoch 47/100\n",
      "742/742 [==============================] - 2s - loss: 0.2686 - val_loss: 0.2601\n",
      "Epoch 48/100\n",
      "742/742 [==============================] - 3s - loss: 0.2683 - val_loss: 0.2592\n",
      "Epoch 49/100\n",
      "742/742 [==============================] - 3s - loss: 0.2680 - val_loss: 0.2594\n",
      "Epoch 50/100\n",
      "742/742 [==============================] - 3s - loss: 0.2679 - val_loss: 0.2589\n",
      "Epoch 51/100\n",
      "742/742 [==============================] - 2s - loss: 0.2673 - val_loss: 0.2582\n",
      "Epoch 52/100\n",
      "742/742 [==============================] - 2s - loss: 0.2670 - val_loss: 0.2584\n",
      "Epoch 53/100\n",
      "742/742 [==============================] - 2s - loss: 0.2670 - val_loss: 0.2577\n",
      "Epoch 54/100\n",
      "742/742 [==============================] - 2s - loss: 0.2665 - val_loss: 0.2573\n",
      "Epoch 55/100\n",
      "742/742 [==============================] - 2s - loss: 0.2663 - val_loss: 0.2569\n",
      "Epoch 56/100\n",
      "742/742 [==============================] - 2s - loss: 0.2659 - val_loss: 0.2563\n",
      "Epoch 57/100\n",
      "742/742 [==============================] - 2s - loss: 0.2657 - val_loss: 0.2574\n",
      "Epoch 58/100\n",
      "742/742 [==============================] - 2s - loss: 0.2656 - val_loss: 0.2565\n",
      "Epoch 59/100\n",
      "742/742 [==============================] - 2s - loss: 0.2653 - val_loss: 0.2564\n",
      "Epoch 60/100\n",
      "742/742 [==============================] - 3s - loss: 0.2652 - val_loss: 0.2559\n",
      "Epoch 61/100\n",
      "742/742 [==============================] - 4s - loss: 0.2651 - val_loss: 0.2558\n",
      "Epoch 62/100\n",
      "742/742 [==============================] - 4s - loss: 0.2647 - val_loss: 0.2555\n",
      "Epoch 63/100\n",
      "742/742 [==============================] - 5s - loss: 0.2643 - val_loss: 0.2553\n",
      "Epoch 64/100\n",
      "742/742 [==============================] - 4s - loss: 0.2640 - val_loss: 0.2549\n",
      "Epoch 65/100\n",
      "742/742 [==============================] - 4s - loss: 0.2637 - val_loss: 0.2547\n",
      "Epoch 66/100\n",
      "742/742 [==============================] - 3s - loss: 0.2637 - val_loss: 0.2552\n",
      "Epoch 67/100\n",
      "742/742 [==============================] - 3s - loss: 0.2634 - val_loss: 0.2541\n",
      "Epoch 68/100\n",
      "742/742 [==============================] - 3s - loss: 0.2635 - val_loss: 0.2541\n",
      "Epoch 69/100\n",
      "742/742 [==============================] - 3s - loss: 0.2630 - val_loss: 0.2538\n",
      "Epoch 70/100\n",
      "742/742 [==============================] - 4s - loss: 0.2630 - val_loss: 0.2533\n",
      "Epoch 71/100\n",
      "742/742 [==============================] - 4s - loss: 0.2631 - val_loss: 0.2546\n",
      "Epoch 72/100\n",
      "742/742 [==============================] - 3s - loss: 0.2630 - val_loss: 0.2530\n",
      "Epoch 73/100\n",
      "742/742 [==============================] - 2s - loss: 0.2622 - val_loss: 0.2530\n",
      "Epoch 74/100\n",
      "742/742 [==============================] - 2s - loss: 0.2621 - val_loss: 0.2530\n",
      "Epoch 75/100\n",
      "742/742 [==============================] - 2s - loss: 0.2620 - val_loss: 0.2526\n",
      "Epoch 76/100\n",
      "742/742 [==============================] - 1s - loss: 0.2621 - val_loss: 0.2530\n",
      "Epoch 77/100\n",
      "742/742 [==============================] - 1s - loss: 0.2617 - val_loss: 0.2524\n",
      "Epoch 78/100\n",
      "742/742 [==============================] - 1s - loss: 0.2618 - val_loss: 0.2524\n",
      "Epoch 79/100\n",
      "742/742 [==============================] - 1s - loss: 0.2612 - val_loss: 0.2520\n",
      "Epoch 80/100\n",
      "742/742 [==============================] - 1s - loss: 0.2613 - val_loss: 0.2521\n",
      "Epoch 81/100\n",
      "742/742 [==============================] - 1s - loss: 0.2614 - val_loss: 0.2517\n",
      "Epoch 82/100\n",
      "742/742 [==============================] - 1s - loss: 0.2607 - val_loss: 0.2519\n",
      "Epoch 83/100\n",
      "742/742 [==============================] - 1s - loss: 0.2604 - val_loss: 0.2509\n",
      "Epoch 84/100\n",
      "742/742 [==============================] - 1s - loss: 0.2606 - val_loss: 0.2516\n",
      "Epoch 85/100\n",
      "742/742 [==============================] - 1s - loss: 0.2602 - val_loss: 0.2516\n",
      "Epoch 86/100\n",
      "742/742 [==============================] - 1s - loss: 0.2603 - val_loss: 0.2513\n",
      "Epoch 87/100\n",
      "742/742 [==============================] - 1s - loss: 0.2601 - val_loss: 0.2512\n",
      "Epoch 88/100\n"
     ]
    },
    {
     "name": "stdout",
     "output_type": "stream",
     "text": [
      "742/742 [==============================] - 2s - loss: 0.2602 - val_loss: 0.2519\n",
      "Epoch 89/100\n",
      "742/742 [==============================] - 1s - loss: 0.2603 - val_loss: 0.2513\n",
      "Epoch 90/100\n",
      "742/742 [==============================] - 2s - loss: 0.2599 - val_loss: 0.2505\n",
      "Epoch 91/100\n",
      "742/742 [==============================] - 2s - loss: 0.2596 - val_loss: 0.2502\n",
      "Epoch 92/100\n",
      "742/742 [==============================] - 2s - loss: 0.2599 - val_loss: 0.2501\n",
      "Epoch 93/100\n",
      "742/742 [==============================] - 2s - loss: 0.2597 - val_loss: 0.2499\n",
      "Epoch 94/100\n",
      "742/742 [==============================] - 1s - loss: 0.2590 - val_loss: 0.2507\n",
      "Epoch 95/100\n",
      "742/742 [==============================] - 2s - loss: 0.2587 - val_loss: 0.2496\n",
      "Epoch 96/100\n",
      "742/742 [==============================] - 2s - loss: 0.2586 - val_loss: 0.2494\n",
      "Epoch 97/100\n",
      "742/742 [==============================] - 2s - loss: 0.2585 - val_loss: 0.2498\n",
      "Epoch 98/100\n",
      "742/742 [==============================] - 2s - loss: 0.2584 - val_loss: 0.2496\n",
      "Epoch 99/100\n",
      "742/742 [==============================] - 2s - loss: 0.2583 - val_loss: 0.2493\n",
      "Epoch 100/100\n",
      "742/742 [==============================] - 1s - loss: 0.2584 - val_loss: 0.2489\n"
     ]
    },
    {
     "data": {
      "text/plain": [
       "<keras.callbacks.History at 0x1a1c2748>"
      ]
     },
     "execution_count": 73,
     "metadata": {},
     "output_type": "execute_result"
    }
   ],
   "source": [
    "autoencoder.compile(optimizer='adam',loss='binary_crossentropy')\n",
    "autoencoder.fit(x_train,x_train,epochs=500,batch_size=64,shuffle=True,validation_data=(x_test,x_test))"
   ]
  },
  {
   "cell_type": "code",
   "execution_count": 74,
   "metadata": {
    "collapsed": true
   },
   "outputs": [],
   "source": [
    "encoder=Model(input_img,encoded)\n",
    "\n",
    "encoded_input=Input(shape=(5, 5, 16))\n",
    "decoder_layer=encoded_input\n",
    "for i in range(5):\n",
    "    temp=autoencoder.layers[i-5]\n",
    "    decoder_layer=temp(decoder_layer)\n",
    "\n",
    "decoder=Model(encoded_input,decoder_layer)"
   ]
  },
  {
   "cell_type": "code",
   "execution_count": 75,
   "metadata": {},
   "outputs": [
    {
     "data": {
      "image/png": "[encoded data removed]",
      "text/plain": [
       "<matplotlib.figure.Figure at 0x1e5bb240>"
      ]
     },
     "metadata": {},
     "output_type": "display_data"
    }
   ],
   "source": [
    "encoded_imgs = encoder.predict(x_train)\n",
    "decoded_imgs = decoder.predict(encoded_imgs)\n",
    "n = 8  # how many digits we will display\n",
    "plt.figure(figsize=(15, 4))\n",
    "for i in range(n):\n",
    "    # display original\n",
    "    ax = plt.subplot(2, n, i + 1)\n",
    "    imgplot = plt.imshow(x_train[i,:,:,0])\n",
    "    #plt.gray()\n",
    "    ax.get_xaxis().set_visible(False)\n",
    "    ax.get_yaxis().set_visible(False)\n",
    "\n",
    "    # display reconstruction\n",
    "    ax = plt.subplot(2, n, i + 1 + n)\n",
    "    imgplot = plt.imshow(decoded_imgs[i,:,:,0])\n",
    "    #plt.gray()\n",
    "    ax.get_xaxis().set_visible(False)\n",
    "    ax.get_yaxis().set_visible(False)\n",
    "plt.show()"
   ]
  }
 ],
 "metadata": {
  "celltoolbar": "Raw Cell Format",
  "kernelspec": {
   "display_name": "Python 3",
   "language": "python",
   "name": "python3"
  },
  "language_info": {
   "codemirror_mode": {
    "name": "ipython",
    "version": 3
   },
   "file_extension": ".py",
   "mimetype": "text/x-python",
   "name": "python",
   "nbconvert_exporter": "python",
   "pygments_lexer": "ipython3",
   "version": "3.6.2"
  }
 },
 "nbformat": 4,
 "nbformat_minor": 2
}
