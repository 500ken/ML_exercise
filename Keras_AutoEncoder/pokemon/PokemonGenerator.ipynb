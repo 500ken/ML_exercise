{
 "cells": [
  {
   "cell_type": "code",
   "execution_count": 183,
   "metadata": {
    "collapsed": true
   },
   "outputs": [],
   "source": [
    "from keras.layers import Input,Dense\n",
    "from keras.models import Model\n",
    "import matplotlib.pyplot as plt\n",
    "import matplotlib.image as mpimg\n",
    "import numpy as np"
   ]
  },
  {
   "cell_type": "code",
   "execution_count": 225,
   "metadata": {},
   "outputs": [
    {
     "data": {
      "image/png": "[encoded data removed]",
      "text/plain": [
       "<matplotlib.figure.Figure at 0x28db47f0>"
      ]
     },
     "metadata": {},
     "output_type": "display_data"
    },
    {
     "data": {
      "text/plain": [
       "(40, 40, 3)"
      ]
     },
     "execution_count": 225,
     "metadata": {},
     "output_type": "execute_result"
    }
   ],
   "source": [
    "\n",
    "img=mpimg.imread('figure/001MS.png')\n",
    "imgplot = plt.imshow(x_train[10])\n",
    "plt.show()\n",
    "img[:,:,0:3].shape"
   ]
  },
  {
   "cell_type": "code",
   "execution_count": 218,
   "metadata": {},
   "outputs": [
    {
     "name": "stdout",
     "output_type": "stream",
     "text": [
      "x_train shape= (742, 40, 40, 3)\n",
      "x_test shape= (50, 40, 40, 3)\n",
      "Wall time: 548 ms\n"
     ]
    }
   ],
   "source": [
    "%%time\n",
    "import os\n",
    "for dirPath, dirNames, fileNames in os.walk(\"figure\"):\n",
    "    pass\n",
    "data=[]\n",
    "for name in fileNames:\n",
    "    path='figure/'+name\n",
    "    img=mpimg.imread(path)\n",
    "    data.append(img[:,:,0:3])\n",
    "data=np.array(data)\n",
    "\n",
    "x_train=data[:-50]\n",
    "x_test=data[-50:]\n",
    "\n",
    "x_train=x_train.reshape(len(x_train),40,40,3)\n",
    "x_test=x_test.reshape(len(x_test),40,40,3)\n",
    "\n",
    "print('x_train shape=',x_train.shape)\n",
    "print('x_test shape=',x_test.shape)"
   ]
  },
  {
   "cell_type": "code",
   "execution_count": 220,
   "metadata": {
    "scrolled": true
   },
   "outputs": [
    {
     "name": "stdout",
     "output_type": "stream",
     "text": [
      "(?, 40, 40, 16)\n",
      "(?, 20, 20, 16)\n",
      "(?, 20, 20, 8)\n",
      "(?, 10, 10, 8)\n",
      "(?, 10, 10, 4)\n",
      "(?, 2, 2, 4)\n",
      "(?, 2, 2, 4)\n",
      "(?, 10, 10, 4)\n",
      "(?, 10, 10, 8)\n",
      "(?, 20, 20, 8)\n",
      "(?, 20, 20, 16)\n",
      "(?, 40, 40, 16)\n",
      "(?, 40, 40, 3)\n"
     ]
    }
   ],
   "source": [
    "from keras.layers import Input, Dense, Conv2D, MaxPooling2D, UpSampling2D\n",
    "from keras.models import Model\n",
    "from keras import backend as K\n",
    "\n",
    "input_img=Input(shape=(40,40,3))\n",
    "\n",
    "x=Conv2D(16,(3,3),activation='relu',padding='same')(input_img)\n",
    "print(x.shape)\n",
    "x=MaxPooling2D((2,2),padding='same')(x)\n",
    "print(x.shape)\n",
    "x=Conv2D(8,(3,3),activation='relu',padding='same')(x)\n",
    "print(x.shape)\n",
    "x=MaxPooling2D((2,2),padding='same')(x)\n",
    "print(x.shape)\n",
    "x=Conv2D(4,(3,3),activation='relu',padding='same')(x)\n",
    "print(x.shape)\n",
    "encoded=MaxPooling2D((5,5),padding='same')(x)\n",
    "print(encoded.shape)\n",
    "\n",
    "x=Conv2D(4,(3,3),activation='relu',padding='same')(encoded)\n",
    "print(x.shape)\n",
    "x=UpSampling2D((5,5))(x)\n",
    "print(x.shape)\n",
    "x=Conv2D(8,(3,3),activation='relu',padding='same')(x)\n",
    "print(x.shape)\n",
    "x=UpSampling2D((2,2))(x)\n",
    "print(x.shape)\n",
    "x=Conv2D(16,(3,3),activation='relu',padding='same')(x)\n",
    "print(x.shape)\n",
    "x=UpSampling2D((2,2))(x)\n",
    "print(x.shape)\n",
    "decoded=Conv2D(3,(3,3),activation='sigmoid',padding='same')(x)\n",
    "print(decoded.shape)\n",
    "\n"
   ]
  },
  {
   "cell_type": "code",
   "execution_count": 221,
   "metadata": {},
   "outputs": [
    {
     "name": "stdout",
     "output_type": "stream",
     "text": [
      "Train on 742 samples, validate on 50 samples\n",
      "Epoch 1/100\n",
      "742/742 [==============================] - 8s - loss: 0.6876 - val_loss: 0.7062\n",
      "Epoch 2/100\n",
      "742/742 [==============================] - 6s - loss: 0.6585 - val_loss: 0.7482\n",
      "Epoch 3/100\n",
      "742/742 [==============================] - 7s - loss: 0.5806 - val_loss: 0.9154\n",
      "Epoch 4/100\n",
      "742/742 [==============================] - 7s - loss: 0.4829 - val_loss: 1.3266\n",
      "Epoch 5/100\n",
      "742/742 [==============================] - 6s - loss: 0.4407 - val_loss: 1.3064\n",
      "Epoch 6/100\n",
      "742/742 [==============================] - 6s - loss: 0.3949 - val_loss: 1.2026\n",
      "Epoch 7/100\n",
      "742/742 [==============================] - 6s - loss: 0.3768 - val_loss: 1.2554\n",
      "Epoch 8/100\n",
      "742/742 [==============================] - 6s - loss: 0.3630 - val_loss: 1.2705\n",
      "Epoch 9/100\n",
      "742/742 [==============================] - 5s - loss: 0.3508 - val_loss: 1.1080\n",
      "Epoch 10/100\n",
      "742/742 [==============================] - 6s - loss: 0.3408 - val_loss: 1.1540\n",
      "Epoch 11/100\n",
      "742/742 [==============================] - 6s - loss: 0.3310 - val_loss: 1.0405\n",
      "Epoch 12/100\n",
      "742/742 [==============================] - 6s - loss: 0.3215 - val_loss: 1.0626\n",
      "Epoch 13/100\n",
      "742/742 [==============================] - 6s - loss: 0.3126 - val_loss: 0.9721\n",
      "Epoch 14/100\n",
      "742/742 [==============================] - 6s - loss: 0.3034 - val_loss: 0.9550\n",
      "Epoch 15/100\n",
      "742/742 [==============================] - 6s - loss: 0.2936 - val_loss: 0.9097\n",
      "Epoch 16/100\n",
      "742/742 [==============================] - 6s - loss: 0.2836 - val_loss: 0.8398\n",
      "Epoch 17/100\n",
      "742/742 [==============================] - 7s - loss: 0.2749 - val_loss: 0.8070\n",
      "Epoch 18/100\n",
      "742/742 [==============================] - 6s - loss: 0.2661 - val_loss: 0.7770\n",
      "Epoch 19/100\n",
      "742/742 [==============================] - 5s - loss: 0.2590 - val_loss: 0.7546\n",
      "Epoch 20/100\n",
      "742/742 [==============================] - 6s - loss: 0.2532 - val_loss: 0.7401\n",
      "Epoch 21/100\n",
      "742/742 [==============================] - 6s - loss: 0.2480 - val_loss: 0.7282\n",
      "Epoch 22/100\n",
      "742/742 [==============================] - 6s - loss: 0.2430 - val_loss: 0.7224\n",
      "Epoch 23/100\n",
      "742/742 [==============================] - 6s - loss: 0.2388 - val_loss: 0.7167\n",
      "Epoch 24/100\n",
      "742/742 [==============================] - 6s - loss: 0.2349 - val_loss: 0.7111\n",
      "Epoch 25/100\n",
      "742/742 [==============================] - 7s - loss: 0.2319 - val_loss: 0.7046\n",
      "Epoch 26/100\n",
      "742/742 [==============================] - 6s - loss: 0.2293 - val_loss: 0.6993\n",
      "Epoch 27/100\n",
      "742/742 [==============================] - 6s - loss: 0.2280 - val_loss: 0.6959\n",
      "Epoch 28/100\n",
      "742/742 [==============================] - 6s - loss: 0.2261 - val_loss: 0.6909\n",
      "Epoch 29/100\n",
      "742/742 [==============================] - 6s - loss: 0.2247 - val_loss: 0.6891\n",
      "Epoch 30/100\n",
      "742/742 [==============================] - 6s - loss: 0.2235 - val_loss: 0.6866\n",
      "Epoch 31/100\n",
      "742/742 [==============================] - 7s - loss: 0.2227 - val_loss: 0.6855\n",
      "Epoch 32/100\n",
      "742/742 [==============================] - 6s - loss: 0.2218 - val_loss: 0.6843\n",
      "Epoch 33/100\n",
      "742/742 [==============================] - 7s - loss: 0.2214 - val_loss: 0.6818\n",
      "Epoch 34/100\n",
      "742/742 [==============================] - 6s - loss: 0.2213 - val_loss: 0.6798\n",
      "Epoch 35/100\n",
      "742/742 [==============================] - 6s - loss: 0.2201 - val_loss: 0.6788\n",
      "Epoch 36/100\n",
      "742/742 [==============================] - 7s - loss: 0.2197 - val_loss: 0.6769\n",
      "Epoch 37/100\n",
      "742/742 [==============================] - 6s - loss: 0.2192 - val_loss: 0.6749\n",
      "Epoch 38/100\n",
      "742/742 [==============================] - 6s - loss: 0.2190 - val_loss: 0.6736\n",
      "Epoch 39/100\n",
      "742/742 [==============================] - 7s - loss: 0.2185 - val_loss: 0.6712\n",
      "Epoch 40/100\n",
      "742/742 [==============================] - 6s - loss: 0.2179 - val_loss: 0.6663\n",
      "Epoch 41/100\n",
      "742/742 [==============================] - 6s - loss: 0.2176 - val_loss: 0.6578\n",
      "Epoch 42/100\n",
      "742/742 [==============================] - 6s - loss: 0.2173 - val_loss: 0.6454\n",
      "Epoch 43/100\n",
      "742/742 [==============================] - 7s - loss: 0.2165 - val_loss: 0.6337\n",
      "Epoch 44/100\n",
      "742/742 [==============================] - 7s - loss: 0.2158 - val_loss: 0.6206\n",
      "Epoch 45/100\n",
      "742/742 [==============================] - 7s - loss: 0.2153 - val_loss: 0.6078\n",
      "Epoch 46/100\n",
      "742/742 [==============================] - 6s - loss: 0.2148 - val_loss: 0.5957\n",
      "Epoch 47/100\n",
      "742/742 [==============================] - 6s - loss: 0.2146 - val_loss: 0.5805\n",
      "Epoch 48/100\n",
      "742/742 [==============================] - 7s - loss: 0.2135 - val_loss: 0.5668\n",
      "Epoch 49/100\n",
      "742/742 [==============================] - 7s - loss: 0.2131 - val_loss: 0.5516\n",
      "Epoch 50/100\n",
      "742/742 [==============================] - 7s - loss: 0.2124 - val_loss: 0.5376\n",
      "Epoch 51/100\n",
      "742/742 [==============================] - 6s - loss: 0.2123 - val_loss: 0.5251\n",
      "Epoch 52/100\n",
      "742/742 [==============================] - 6s - loss: 0.2118 - val_loss: 0.5104\n",
      "Epoch 53/100\n",
      "742/742 [==============================] - 6s - loss: 0.2111 - val_loss: 0.4981\n",
      "Epoch 54/100\n",
      "742/742 [==============================] - 5s - loss: 0.2103 - val_loss: 0.4845\n",
      "Epoch 55/100\n",
      "742/742 [==============================] - 6s - loss: 0.2098 - val_loss: 0.4733\n",
      "Epoch 56/100\n",
      "742/742 [==============================] - 5s - loss: 0.2094 - val_loss: 0.4617\n",
      "Epoch 57/100\n",
      "742/742 [==============================] - 6s - loss: 0.2092 - val_loss: 0.4524\n",
      "Epoch 58/100\n",
      "742/742 [==============================] - 7s - loss: 0.2090 - val_loss: 0.4429\n",
      "Epoch 59/100\n",
      "742/742 [==============================] - 6s - loss: 0.2085 - val_loss: 0.4329\n",
      "Epoch 60/100\n",
      "742/742 [==============================] - 6s - loss: 0.2079 - val_loss: 0.4242\n",
      "Epoch 61/100\n",
      "742/742 [==============================] - 7s - loss: 0.2082 - val_loss: 0.4158\n",
      "Epoch 62/100\n",
      "742/742 [==============================] - 6s - loss: 0.2085 - val_loss: 0.4089\n",
      "Epoch 63/100\n",
      "742/742 [==============================] - 6s - loss: 0.2083 - val_loss: 0.4033\n",
      "Epoch 64/100\n",
      "742/742 [==============================] - 5s - loss: 0.2074 - val_loss: 0.3980\n",
      "Epoch 65/100\n",
      "742/742 [==============================] - 5s - loss: 0.2078 - val_loss: 0.3923\n",
      "Epoch 66/100\n",
      "742/742 [==============================] - 6s - loss: 0.2070 - val_loss: 0.3873\n",
      "Epoch 67/100\n",
      "742/742 [==============================] - 6s - loss: 0.2069 - val_loss: 0.3816\n",
      "Epoch 68/100\n",
      "742/742 [==============================] - 7s - loss: 0.2067 - val_loss: 0.3783\n",
      "Epoch 69/100\n",
      "742/742 [==============================] - 7s - loss: 0.2062 - val_loss: 0.3741\n",
      "Epoch 70/100\n",
      "742/742 [==============================] - 7s - loss: 0.2059 - val_loss: 0.3704\n",
      "Epoch 71/100\n",
      "742/742 [==============================] - 7s - loss: 0.2059 - val_loss: 0.3671\n",
      "Epoch 72/100\n",
      "742/742 [==============================] - 6s - loss: 0.2056 - val_loss: 0.3637\n",
      "Epoch 73/100\n",
      "742/742 [==============================] - 6s - loss: 0.2056 - val_loss: 0.3606\n",
      "Epoch 74/100\n",
      "742/742 [==============================] - 6s - loss: 0.2061 - val_loss: 0.3598\n",
      "Epoch 75/100\n",
      "742/742 [==============================] - 6s - loss: 0.2062 - val_loss: 0.3560\n",
      "Epoch 76/100\n",
      "742/742 [==============================] - 6s - loss: 0.2057 - val_loss: 0.3544\n",
      "Epoch 77/100\n",
      "742/742 [==============================] - 6s - loss: 0.2054 - val_loss: 0.3523\n",
      "Epoch 78/100\n",
      "742/742 [==============================] - 6s - loss: 0.2051 - val_loss: 0.3501\n",
      "Epoch 79/100\n",
      "742/742 [==============================] - 6s - loss: 0.2050 - val_loss: 0.3483\n",
      "Epoch 80/100\n",
      "742/742 [==============================] - 6s - loss: 0.2050 - val_loss: 0.3470\n",
      "Epoch 81/100\n",
      "742/742 [==============================] - 6s - loss: 0.2049 - val_loss: 0.3451\n",
      "Epoch 82/100\n",
      "742/742 [==============================] - 6s - loss: 0.2056 - val_loss: 0.3439\n",
      "Epoch 83/100\n",
      "742/742 [==============================] - 6s - loss: 0.2056 - val_loss: 0.3433\n",
      "Epoch 84/100\n",
      "742/742 [==============================] - 6s - loss: 0.2053 - val_loss: 0.3415\n",
      "Epoch 85/100\n",
      "742/742 [==============================] - 6s - loss: 0.2054 - val_loss: 0.3408\n",
      "Epoch 86/100\n",
      "742/742 [==============================] - 6s - loss: 0.2048 - val_loss: 0.3396\n",
      "Epoch 87/100\n",
      "742/742 [==============================] - 6s - loss: 0.2044 - val_loss: 0.3392\n",
      "Epoch 88/100\n"
     ]
    },
    {
     "name": "stdout",
     "output_type": "stream",
     "text": [
      "742/742 [==============================] - 6s - loss: 0.2044 - val_loss: 0.3380\n",
      "Epoch 89/100\n",
      "742/742 [==============================] - 7s - loss: 0.2042 - val_loss: 0.3374\n",
      "Epoch 90/100\n",
      "742/742 [==============================] - 7s - loss: 0.2043 - val_loss: 0.3366\n",
      "Epoch 91/100\n",
      "742/742 [==============================] - 7s - loss: 0.2043 - val_loss: 0.3357\n",
      "Epoch 92/100\n",
      "742/742 [==============================] - 7s - loss: 0.2042 - val_loss: 0.3357\n",
      "Epoch 93/100\n",
      "742/742 [==============================] - 6s - loss: 0.2046 - val_loss: 0.3349\n",
      "Epoch 94/100\n",
      "742/742 [==============================] - 6s - loss: 0.2048 - val_loss: 0.3346\n",
      "Epoch 95/100\n",
      "742/742 [==============================] - 6s - loss: 0.2049 - val_loss: 0.3331\n",
      "Epoch 96/100\n",
      "742/742 [==============================] - 7s - loss: 0.2044 - val_loss: 0.3332\n",
      "Epoch 97/100\n",
      "742/742 [==============================] - 6s - loss: 0.2038 - val_loss: 0.3332\n",
      "Epoch 98/100\n",
      "742/742 [==============================] - 6s - loss: 0.2037 - val_loss: 0.3325\n",
      "Epoch 99/100\n",
      "742/742 [==============================] - 5s - loss: 0.2036 - val_loss: 0.3321\n",
      "Epoch 100/100\n",
      "742/742 [==============================] - 6s - loss: 0.2035 - val_loss: 0.3315\n"
     ]
    },
    {
     "data": {
      "text/plain": [
       "<keras.callbacks.History at 0x29500ef0>"
      ]
     },
     "execution_count": 221,
     "metadata": {},
     "output_type": "execute_result"
    }
   ],
   "source": [
    "autoencoder=Model(input_img,decoded)\n",
    "autoencoder.compile(optimizer='adam',loss='binary_crossentropy')\n",
    "autoencoder.fit(x_train,x_train,epochs=100,batch_size=128,shuffle=True,validation_data=(x_test,x_test))"
   ]
  },
  {
   "cell_type": "code",
   "execution_count": 222,
   "metadata": {
    "collapsed": true
   },
   "outputs": [],
   "source": [
    "encoder=Model(input_img,encoded)\n",
    "\n",
    "encoded_input=Input(shape=(2, 2, 4))\n",
    "decoder_layer=encoded_input\n",
    "for i in range(7):\n",
    "    temp=autoencoder.layers[i-7]\n",
    "    decoder_layer=temp(decoder_layer)\n",
    "\n",
    "decoder=Model(encoded_input,decoder_layer)"
   ]
  },
  {
   "cell_type": "code",
   "execution_count": 228,
   "metadata": {},
   "outputs": [
    {
     "data": {
      "image/png": "[encoded data removed]",
      "text/plain": [
       "<matplotlib.figure.Figure at 0x297a35f8>"
      ]
     },
     "metadata": {},
     "output_type": "display_data"
    }
   ],
   "source": [
    "encoded_imgs = encoder.predict(x_train)\n",
    "decoded_imgs = decoder.predict(encoded_imgs)\n",
    "n = 8  # how many digits we will display\n",
    "plt.figure(figsize=(15, 4))\n",
    "for i in range(n):\n",
    "    # display original\n",
    "    ax = plt.subplot(2, n, i + 1)\n",
    "    imgplot = plt.imshow(x_train[i,:,:,0])\n",
    "    #plt.gray()\n",
    "    ax.get_xaxis().set_visible(False)\n",
    "    ax.get_yaxis().set_visible(False)\n",
    "\n",
    "    # display reconstruction\n",
    "    ax = plt.subplot(2, n, i + 1 + n)\n",
    "    imgplot = plt.imshow(decoded_imgs[i,:,:,0])\n",
    "    #plt.gray()\n",
    "    ax.get_xaxis().set_visible(False)\n",
    "    ax.get_yaxis().set_visible(False)\n",
    "plt.show()"
   ]
  },
  {
   "cell_type": "code",
   "execution_count": 174,
   "metadata": {},
   "outputs": [
    {
     "data": {
      "image/png": "[encoded data removed]",
      "text/plain": [
       "<matplotlib.figure.Figure at 0x22b78c88>"
      ]
     },
     "metadata": {},
     "output_type": "display_data"
    }
   ],
   "source": [
    "encoded_imgs.shape\n",
    "x_decoded=decoder.predict(np.ones((1,5,5,8)))\n",
    "\n",
    "imgplot = plt.imshow(x_decoded[0])\n",
    "plt.gray()\n",
    "ax.get_xaxis().set_visible(False)\n",
    "ax.get_yaxis().set_visible(False)\n",
    "plt.show()"
   ]
  },
  {
   "cell_type": "code",
   "execution_count": 168,
   "metadata": {},
   "outputs": [
    {
     "ename": "ValueError",
     "evalue": "cannot reshape array of size 6400 into shape (40,40)",
     "output_type": "error",
     "traceback": [
      "\u001b[1;31m---------------------------------------------------------------------------\u001b[0m",
      "\u001b[1;31mValueError\u001b[0m                                Traceback (most recent call last)",
      "\u001b[1;32m<ipython-input-168-c4c582c4f796>\u001b[0m in \u001b[0;36m<module>\u001b[1;34m()\u001b[0m\n\u001b[0;32m     13\u001b[0m         \u001b[0mz_sample\u001b[0m\u001b[1;33m*=\u001b[0m\u001b[0mxi\u001b[0m\u001b[1;33m\u001b[0m\u001b[0m\n\u001b[0;32m     14\u001b[0m         \u001b[0mx_decoded\u001b[0m \u001b[1;33m=\u001b[0m \u001b[0mdecoder\u001b[0m\u001b[1;33m.\u001b[0m\u001b[0mpredict\u001b[0m\u001b[1;33m(\u001b[0m\u001b[0mz_sample\u001b[0m\u001b[1;33m)\u001b[0m\u001b[1;33m\u001b[0m\u001b[0m\n\u001b[1;32m---> 15\u001b[1;33m         \u001b[0mdigit\u001b[0m \u001b[1;33m=\u001b[0m \u001b[0mx_decoded\u001b[0m\u001b[1;33m[\u001b[0m\u001b[1;36m0\u001b[0m\u001b[1;33m]\u001b[0m\u001b[1;33m.\u001b[0m\u001b[0mreshape\u001b[0m\u001b[1;33m(\u001b[0m\u001b[0mdigit_size\u001b[0m\u001b[1;33m,\u001b[0m \u001b[0mdigit_size\u001b[0m\u001b[1;33m)\u001b[0m\u001b[1;33m\u001b[0m\u001b[0m\n\u001b[0m\u001b[0;32m     16\u001b[0m         figure[i * digit_size: (i + 1) * digit_size,\n\u001b[0;32m     17\u001b[0m                j * digit_size: (j + 1) * digit_size] = digit\n",
      "\u001b[1;31mValueError\u001b[0m: cannot reshape array of size 6400 into shape (40,40)"
     ]
    }
   ],
   "source": [
    "import numpy as np\n",
    "import matplotlib.pyplot as plt\n",
    "n = 5  # figure with 15x15 digits\n",
    "digit_size = 40\n",
    "figure = np.zeros((digit_size * n, digit_size * n))\n",
    "# we will sample n points within [-15, 15] standard deviations\n",
    "grid_x = np.linspace(0, 50, n)\n",
    "grid_y = np.linspace(0, 50, n)\n",
    "\n",
    "for i, yi in enumerate(grid_x):\n",
    "    for j, xi in enumerate(grid_y):\n",
    "        z_sample=np.ones((1,5,5,8))\n",
    "        z_sample*=xi\n",
    "        x_decoded = decoder.predict(z_sample)\n",
    "        digit = x_decoded[0].reshape(digit_size, digit_size)\n",
    "        figure[i * digit_size: (i + 1) * digit_size,\n",
    "               j * digit_size: (j + 1) * digit_size] = digit\n",
    "\n",
    "plt.figure(figsize=(10, 10))\n",
    "plt.imshow(figure)\n",
    "plt.show()"
   ]
  },
  {
   "cell_type": "code",
   "execution_count": 86,
   "metadata": {},
   "outputs": [
    {
     "name": "stdout",
     "output_type": "stream",
     "text": [
      "(1, 40, 40, 4)\n"
     ]
    },
    {
     "data": {
      "image/png": "[encoded data removed]",
      "text/plain": [
       "<matplotlib.figure.Figure at 0x16b8bfd0>"
      ]
     },
     "metadata": {},
     "output_type": "display_data"
    },
    {
     "name": "stdout",
     "output_type": "stream",
     "text": [
      "(1, 40, 40, 4)\n"
     ]
    },
    {
     "data": {
      "image/png": "[encoded data removed]",
      "text/plain": [
       "<matplotlib.figure.Figure at 0x178a0e48>"
      ]
     },
     "metadata": {},
     "output_type": "display_data"
    }
   ],
   "source": [
    "encoded_imgs = encoder.predict(x_train)\n",
    "decoded_imgs = decoder.predict(encoded_imgs)\n",
    "\n",
    "print(decoded_imgs.shape)\n",
    "imgplot = plt.imshow(decoded_imgs[0])\n",
    "plt.show()\n",
    "\n",
    "encoded_imgs = encoder.predict(x_test)\n",
    "decoded_imgs = decoder.predict(encoded_imgs)\n",
    "\n",
    "print(decoded_imgs.shape)\n",
    "imgplot = plt.imshow(decoded_imgs[0])\n",
    "plt.show()"
   ]
  }
 ],
 "metadata": {
  "kernelspec": {
   "display_name": "Python 3",
   "language": "python",
   "name": "python3"
  },
  "language_info": {
   "codemirror_mode": {
    "name": "ipython",
    "version": 3
   },
   "file_extension": ".py",
   "mimetype": "text/x-python",
   "name": "python",
   "nbconvert_exporter": "python",
   "pygments_lexer": "ipython3",
   "version": "3.6.2"
  }
 },
 "nbformat": 4,
 "nbformat_minor": 2
}
