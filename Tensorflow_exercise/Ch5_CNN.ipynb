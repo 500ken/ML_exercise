{
 "cells": [
  {
   "cell_type": "markdown",
   "metadata": {},
   "source": [
    "# Ch5_CNN"
   ]
  },
  {
   "cell_type": "code",
   "execution_count": 3,
   "metadata": {},
   "outputs": [],
   "source": [
    "import tensorflow as tf\n",
    "from tensorflow.examples.tutorials.mnist import input_data"
   ]
  },
  {
   "cell_type": "markdown",
   "metadata": {},
   "source": [
    "## CNN for MNIST hand-written recognition"
   ]
  },
  {
   "cell_type": "code",
   "execution_count": 4,
   "metadata": {},
   "outputs": [
    {
     "name": "stdout",
     "output_type": "stream",
     "text": [
      "Extracting MNIST_data/train-images-idx3-ubyte.gz\n",
      "Extracting MNIST_data/train-labels-idx1-ubyte.gz\n",
      "Extracting MNIST_data/t10k-images-idx3-ubyte.gz\n",
      "Extracting MNIST_data/t10k-labels-idx1-ubyte.gz\n"
     ]
    }
   ],
   "source": [
    "mnist = input_data.read_data_sets(\"MNIST_data/\",one_hot=True)\n",
    "sess = tf.InteractiveSession()"
   ]
  },
  {
   "cell_type": "code",
   "execution_count": 5,
   "metadata": {},
   "outputs": [],
   "source": [
    "def weight_variable(shape):\n",
    "    initial = tf.truncated_normal(shape = shape, stddev = 0.1)\n",
    "    return tf.Variable(initial)\n",
    "\n",
    "def bias_variable(shape):\n",
    "    initial = tf.constant(0.1, shape = shape)\n",
    "    return tf.Variable(initial)\n",
    "\n",
    "def conv2d(x, W):\n",
    "    # [batch_size, image_rows, image_cols, number_of_colors] -> strides\n",
    "    # [filter_height, filter_width, in_channels, out_channels] -> filter\n",
    "    return tf.nn.conv2d(x, W, strides = [1,1,1,1], padding = 'SAME')\n",
    "\n",
    "def max_pool_2x2(x):\n",
    "    return tf.nn.max_pool(x, ksize = [1,2,2,1], strides = [1,2,2,1], padding = 'SAME')"
   ]
  },
  {
   "cell_type": "code",
   "execution_count": 13,
   "metadata": {},
   "outputs": [],
   "source": [
    "x = tf.placeholder(tf.float32, shape = [None,784])\n",
    "y_ = tf.placeholder(tf.float32, shape = [None,10])\n",
    "x_images = tf.reshape(x, [-1,28,28,1])\n",
    "# -1 implies that the total number is not fixed\n",
    "\n",
    "W_conv1 = weight_variable([5,5,1,32])\n",
    "b_conv1 = bias_variable([32])\n",
    "h_conv1 = tf.nn.relu(conv2d(x_images, W_conv1) + b_conv1)\n",
    "h_pool1 = max_pool_2x2(h_conv1)\n",
    "\n",
    "W_conv2 = weight_variable([5,5,32,64])\n",
    "b_conv2 = bias_variable([64])\n",
    "h_conv2 = tf.nn.relu(conv2d(h_pool1, W_conv2) + b_conv2)\n",
    "h_pool2 = max_pool_2x2(h_conv2)\n",
    "\n",
    "W_fc2 = weight_variable([7*7*64, 1024])\n",
    "b_fc1 = bias_variable([1024])\n",
    "h_pool2_flat = tf.reshape(h_pool2, [-1,7*7*64])\n",
    "h_fc1 = tf.nn.relu(tf.matmul(h_pool2_flat, W_fc2) + b_fc1)\n",
    "\n",
    "keep_prob = tf.placeholder(tf.float32)\n",
    "h_fc1_drop = tf.nn.dropout(h_fc1, keep_prob)\n",
    "\n",
    "W_fc2 = weight_variable([1024,10])\n",
    "b_fc2 = bias_variable([10])\n",
    "y_conv = tf.nn.softmax(tf.matmul(h_fc1_drop, W_fc2) + b_fc2)\n",
    "\n",
    "cross_entropy = tf.reduce_mean(-tf.reduce_sum(y_ * tf.log(y_conv), reduction_indices=[1]))\n",
    "train_step = tf.train.AdamOptimizer(1e-4).minimize(cross_entropy)\n",
    "\n",
    "correct_prediction = tf.equal(tf.argmax(y_, 1), tf.argmax(y_conv, 1))\n",
    "accuracy = tf.reduce_mean(tf.cast(correct_prediction, tf.float32))"
   ]
  },
  {
   "cell_type": "code",
   "execution_count": 14,
   "metadata": {
    "collapsed": true
   },
   "outputs": [
    {
     "name": "stdout",
     "output_type": "stream",
     "text": [
      "step 0, training accuracy 0.16\n",
      "step 100, training accuracy 0.84\n",
      "step 200, training accuracy 0.86\n",
      "step 300, training accuracy 0.96\n",
      "step 400, training accuracy 0.92\n",
      "step 500, training accuracy 0.96\n",
      "step 600, training accuracy 0.94\n",
      "step 700, training accuracy 0.98\n",
      "step 800, training accuracy 0.96\n",
      "step 900, training accuracy 0.98\n",
      "step 1000, training accuracy 0.98\n",
      "step 1100, training accuracy 0.96\n",
      "step 1200, training accuracy 0.98\n",
      "step 1300, training accuracy 0.96\n",
      "step 1400, training accuracy 0.92\n",
      "step 1500, training accuracy 0.98\n",
      "step 1600, training accuracy 0.96\n",
      "step 1700, training accuracy 0.98\n",
      "step 1800, training accuracy 1\n",
      "step 1900, training accuracy 0.98\n",
      "step 2000, training accuracy 0.98\n",
      "step 2100, training accuracy 1\n",
      "step 2200, training accuracy 1\n",
      "step 2300, training accuracy 1\n",
      "step 2400, training accuracy 0.98\n",
      "step 2500, training accuracy 0.98\n",
      "step 2600, training accuracy 0.96\n",
      "step 2700, training accuracy 1\n",
      "step 2800, training accuracy 1\n",
      "step 2900, training accuracy 1\n",
      "step 3000, training accuracy 0.98\n",
      "step 3100, training accuracy 0.96\n",
      "step 3200, training accuracy 1\n",
      "step 3300, training accuracy 1\n",
      "step 3400, training accuracy 1\n",
      "step 3500, training accuracy 1\n",
      "step 3600, training accuracy 0.98\n",
      "step 3700, training accuracy 0.98\n",
      "step 3800, training accuracy 1\n",
      "step 3900, training accuracy 1\n",
      "step 4000, training accuracy 1\n",
      "step 4100, training accuracy 1\n",
      "step 4200, training accuracy 0.96\n",
      "step 4300, training accuracy 1\n",
      "step 4400, training accuracy 1\n",
      "step 4500, training accuracy 0.96\n",
      "step 4600, training accuracy 0.98\n",
      "step 4700, training accuracy 1\n",
      "step 4800, training accuracy 1\n",
      "step 4900, training accuracy 1\n",
      "step 5000, training accuracy 1\n",
      "step 5100, training accuracy 0.96\n",
      "step 5200, training accuracy 1\n",
      "step 5300, training accuracy 1\n",
      "step 5400, training accuracy 1\n",
      "step 5500, training accuracy 0.98\n",
      "step 5600, training accuracy 0.98\n",
      "step 5700, training accuracy 0.98\n",
      "step 5800, training accuracy 1\n",
      "step 5900, training accuracy 1\n",
      "step 6000, training accuracy 1\n",
      "step 6100, training accuracy 0.98\n",
      "step 6200, training accuracy 1\n",
      "step 6300, training accuracy 1\n",
      "step 6400, training accuracy 1\n",
      "step 6500, training accuracy 1\n",
      "step 6600, training accuracy 0.98\n",
      "step 6700, training accuracy 0.98\n",
      "step 6800, training accuracy 1\n",
      "step 6900, training accuracy 1\n",
      "step 7000, training accuracy 1\n",
      "step 7100, training accuracy 1\n",
      "step 7200, training accuracy 1\n",
      "step 7300, training accuracy 1\n",
      "step 7400, training accuracy 1\n",
      "step 7500, training accuracy 0.96\n",
      "step 7600, training accuracy 1\n",
      "step 7700, training accuracy 1\n",
      "step 7800, training accuracy 1\n",
      "step 7900, training accuracy 1\n",
      "step 8000, training accuracy 0.96\n",
      "step 8100, training accuracy 0.98\n",
      "step 8200, training accuracy 1\n",
      "step 8300, training accuracy 1\n",
      "step 8400, training accuracy 1\n",
      "step 8500, training accuracy 1\n",
      "step 8600, training accuracy 1\n",
      "step 8700, training accuracy 1\n",
      "step 8800, training accuracy 1\n",
      "step 8900, training accuracy 1\n",
      "step 9000, training accuracy 1\n",
      "step 9100, training accuracy 1\n",
      "step 9200, training accuracy 1\n",
      "step 9300, training accuracy 1\n",
      "step 9400, training accuracy 1\n",
      "step 9500, training accuracy 1\n",
      "step 9600, training accuracy 1\n",
      "step 9700, training accuracy 0.98\n",
      "step 9800, training accuracy 1\n",
      "step 9900, training accuracy 0.98\n",
      "step 10000, training accuracy 1\n",
      "step 10100, training accuracy 1\n",
      "step 10200, training accuracy 1\n",
      "step 10300, training accuracy 1\n",
      "step 10400, training accuracy 1\n",
      "step 10500, training accuracy 0.98\n",
      "step 10600, training accuracy 1\n",
      "step 10700, training accuracy 1\n",
      "step 10800, training accuracy 1\n",
      "step 10900, training accuracy 1\n",
      "step 11000, training accuracy 1\n",
      "step 11100, training accuracy 1\n",
      "step 11200, training accuracy 1\n",
      "step 11300, training accuracy 1\n",
      "step 11400, training accuracy 1\n",
      "step 11500, training accuracy 1\n",
      "step 11600, training accuracy 1\n",
      "step 11700, training accuracy 1\n",
      "step 11800, training accuracy 1\n",
      "step 11900, training accuracy 1\n",
      "step 12000, training accuracy 1\n",
      "step 12100, training accuracy 1\n",
      "step 12200, training accuracy 1\n",
      "step 12300, training accuracy 0.98\n",
      "step 12400, training accuracy 1\n",
      "step 12500, training accuracy 1\n",
      "step 12600, training accuracy 1\n",
      "step 12700, training accuracy 1\n",
      "step 12800, training accuracy 1\n",
      "step 12900, training accuracy 1\n",
      "step 13000, training accuracy 0.98\n",
      "step 13100, training accuracy 1\n",
      "step 13200, training accuracy 1\n",
      "step 13300, training accuracy 1\n",
      "step 13400, training accuracy 1\n",
      "step 13500, training accuracy 1\n",
      "step 13600, training accuracy 1\n",
      "step 13700, training accuracy 0.98\n",
      "step 13800, training accuracy 1\n",
      "step 13900, training accuracy 1\n",
      "step 14000, training accuracy 1\n",
      "step 14100, training accuracy 1\n",
      "step 14200, training accuracy 1\n",
      "step 14300, training accuracy 1\n",
      "step 14400, training accuracy 1\n",
      "step 14500, training accuracy 1\n",
      "step 14600, training accuracy 1\n",
      "step 14700, training accuracy 1\n",
      "step 14800, training accuracy 1\n",
      "step 14900, training accuracy 1\n",
      "step 15000, training accuracy 1\n",
      "step 15100, training accuracy 1\n",
      "step 15200, training accuracy 1\n",
      "step 15300, training accuracy 1\n",
      "step 15400, training accuracy 1\n",
      "step 15500, training accuracy 1\n",
      "step 15600, training accuracy 0.98\n",
      "step 15700, training accuracy 1\n",
      "step 15800, training accuracy 1\n",
      "step 15900, training accuracy 1\n",
      "step 16000, training accuracy 1\n",
      "step 16100, training accuracy 1\n",
      "step 16200, training accuracy 1\n",
      "step 16300, training accuracy 1\n",
      "step 16400, training accuracy 1\n",
      "step 16500, training accuracy 1\n",
      "step 16600, training accuracy 1\n",
      "step 16700, training accuracy 1\n",
      "step 16800, training accuracy 1\n",
      "step 16900, training accuracy 1\n",
      "step 17000, training accuracy 1\n",
      "step 17100, training accuracy 1\n",
      "step 17200, training accuracy 1\n",
      "step 17300, training accuracy 1\n",
      "step 17400, training accuracy 1\n",
      "step 17500, training accuracy 1\n",
      "step 17600, training accuracy 1\n",
      "step 17700, training accuracy 0.98\n",
      "step 17800, training accuracy 1\n",
      "step 17900, training accuracy 1\n",
      "step 18000, training accuracy 1\n",
      "step 18100, training accuracy 1\n",
      "step 18200, training accuracy 1\n",
      "step 18300, training accuracy 1\n",
      "step 18400, training accuracy 1\n",
      "step 18500, training accuracy 1\n",
      "step 18600, training accuracy 1\n",
      "step 18700, training accuracy 1\n",
      "step 18800, training accuracy 1\n",
      "step 18900, training accuracy 1\n",
      "step 19000, training accuracy 1\n",
      "step 19100, training accuracy 1\n",
      "step 19200, training accuracy 1\n",
      "step 19300, training accuracy 1\n",
      "step 19400, training accuracy 1\n",
      "step 19500, training accuracy 1\n",
      "step 19600, training accuracy 1\n",
      "step 19700, training accuracy 1\n",
      "step 19800, training accuracy 1\n",
      "step 19900, training accuracy 1\n"
     ]
    }
   ],
   "source": [
    "tf.global_variables_initializer().run()\n",
    "for i in range(20000):\n",
    "    batch = mnist.train.next_batch(50)\n",
    "    if i%100 == 0:\n",
    "        train_accuracy = accuracy.eval(feed_dict={x: batch[0], y_:batch[1], keep_prob: 1.0})\n",
    "        print(\"step %d, training accuracy %.4f\"%(i, train_accuracy))\n",
    "    train_step.run(feed_dict={x: batch[0], y_:batch[1], keep_prob: 0.5})"
   ]
  },
  {
   "cell_type": "code",
   "execution_count": 17,
   "metadata": {},
   "outputs": [
    {
     "name": "stdout",
     "output_type": "stream",
     "text": [
      "test accuracy 0.9912\n"
     ]
    }
   ],
   "source": [
    "print(\"test accuracy %.4f\"%accuracy.eval(feed_dict={x: mnist.test.images, y_:mnist.test.labels, keep_prob: 1.0}))"
   ]
  },
  {
   "cell_type": "code",
   "execution_count": 19,
   "metadata": {
    "collapsed": true
   },
   "outputs": [
    {
     "data": {
      "image/png": "[encoded data removed]",
      "text/plain": [
       "<Figure size 432x288 with 1 Axes>"
      ]
     },
     "metadata": {},
     "output_type": "display_data"
    },
    {
     "name": "stdout",
     "output_type": "stream",
     "text": [
      "prediction: 9 true label: 4\n"
     ]
    },
    {
     "data": {
      "image/png": "[encoded data removed]",
      "text/plain": [
       "<Figure size 432x288 with 1 Axes>"
      ]
     },
     "metadata": {},
     "output_type": "display_data"
    },
    {
     "name": "stdout",
     "output_type": "stream",
     "text": [
      "prediction: 8 true label: 9\n"
     ]
    },
    {
     "data": {
      "image/png": "[encoded data removed]",
      "text/plain": [
       "<Figure size 432x288 with 1 Axes>"
      ]
     },
     "metadata": {},
     "output_type": "display_data"
    },
    {
     "name": "stdout",
     "output_type": "stream",
     "text": [
      "prediction: 7 true label: 2\n"
     ]
    },
    {
     "data": {
      "image/png": "[encoded data removed]",
      "text/plain": [
       "<Figure size 432x288 with 1 Axes>"
      ]
     },
     "metadata": {},
     "output_type": "display_data"
    },
    {
     "name": "stdout",
     "output_type": "stream",
     "text": [
      "prediction: 3 true label: 5\n"
     ]
    },
    {
     "data": {
      "image/png": "[encoded data removed]",
      "text/plain": [
       "<Figure size 432x288 with 1 Axes>"
      ]
     },
     "metadata": {},
     "output_type": "display_data"
    },
    {
     "name": "stdout",
     "output_type": "stream",
     "text": [
      "prediction: 0 true label: 6\n"
     ]
    },
    {
     "data": {
      "image/png": "[encoded data removed]",
      "text/plain": [
       "<Figure size 432x288 with 1 Axes>"
      ]
     },
     "metadata": {},
     "output_type": "display_data"
    },
    {
     "name": "stdout",
     "output_type": "stream",
     "text": [
      "prediction: 5 true label: 3\n"
     ]
    },
    {
     "data": {
      "image/png": "[encoded data removed]",
      "text/plain": [
       "<Figure size 432x288 with 1 Axes>"
      ]
     },
     "metadata": {},
     "output_type": "display_data"
    },
    {
     "name": "stdout",
     "output_type": "stream",
     "text": [
      "prediction: 7 true label: 2\n"
     ]
    },
    {
     "data": {
      "image/png": "[encoded data removed]",
      "text/plain": [
       "<Figure size 432x288 with 1 Axes>"
      ]
     },
     "metadata": {},
     "output_type": "display_data"
    },
    {
     "name": "stdout",
     "output_type": "stream",
     "text": [
      "prediction: 8 true label: 1\n"
     ]
    },
    {
     "data": {
      "image/png": "[encoded data removed]",
      "text/plain": [
       "<Figure size 432x288 with 1 Axes>"
      ]
     },
     "metadata": {},
     "output_type": "display_data"
    },
    {
     "name": "stdout",
     "output_type": "stream",
     "text": [
      "prediction: 3 true label: 5\n"
     ]
    },
    {
     "data": {
      "image/png": "[encoded data removed]",
      "text/plain": [
       "<Figure size 432x288 with 1 Axes>"
      ]
     },
     "metadata": {},
     "output_type": "display_data"
    },
    {
     "name": "stdout",
     "output_type": "stream",
     "text": [
      "prediction: 9 true label: 4\n"
     ]
    },
    {
     "data": {
      "image/png": "[encoded data removed]",
      "text/plain": [
       "<Figure size 432x288 with 1 Axes>"
      ]
     },
     "metadata": {},
     "output_type": "display_data"
    },
    {
     "name": "stdout",
     "output_type": "stream",
     "text": [
      "prediction: 8 true label: 9\n"
     ]
    },
    {
     "data": {
      "image/png": "[encoded data removed]",
      "text/plain": [
       "<Figure size 432x288 with 1 Axes>"
      ]
     },
     "metadata": {},
     "output_type": "display_data"
    },
    {
     "name": "stdout",
     "output_type": "stream",
     "text": [
      "prediction: 5 true label: 3\n"
     ]
    },
    {
     "data": {
      "image/png": "[encoded data removed]",
      "text/plain": [
       "<Figure size 432x288 with 1 Axes>"
      ]
     },
     "metadata": {},
     "output_type": "display_data"
    },
    {
     "name": "stdout",
     "output_type": "stream",
     "text": [
      "prediction: 5 true label: 6\n"
     ]
    },
    {
     "data": {
      "image/png": "[encoded data removed]",
      "text/plain": [
       "<Figure size 432x288 with 1 Axes>"
      ]
     },
     "metadata": {},
     "output_type": "display_data"
    },
    {
     "name": "stdout",
     "output_type": "stream",
     "text": [
      "prediction: 3 true label: 7\n"
     ]
    },
    {
     "data": {
      "image/png": "[encoded data removed]",
      "text/plain": [
       "<Figure size 432x288 with 1 Axes>"
      ]
     },
     "metadata": {},
     "output_type": "display_data"
    },
    {
     "name": "stdout",
     "output_type": "stream",
     "text": [
      "prediction: 6 true label: 4\n"
     ]
    },
    {
     "data": {
      "image/png": "[encoded data removed]",
      "text/plain": [
       "<Figure size 432x288 with 1 Axes>"
      ]
     },
     "metadata": {},
     "output_type": "display_data"
    },
    {
     "name": "stdout",
     "output_type": "stream",
     "text": [
      "prediction: 2 true label: 7\n"
     ]
    },
    {
     "data": {
      "image/png": "[encoded data removed]",
      "text/plain": [
       "<Figure size 432x288 with 1 Axes>"
      ]
     },
     "metadata": {},
     "output_type": "display_data"
    },
    {
     "name": "stdout",
     "output_type": "stream",
     "text": [
      "prediction: 4 true label: 9\n"
     ]
    },
    {
     "data": {
      "image/png": "[encoded data removed]",
      "text/plain": [
       "<Figure size 432x288 with 1 Axes>"
      ]
     },
     "metadata": {},
     "output_type": "display_data"
    },
    {
     "name": "stdout",
     "output_type": "stream",
     "text": [
      "prediction: 9 true label: 4\n"
     ]
    },
    {
     "data": {
      "image/png": "[encoded data removed]",
      "text/plain": [
       "<Figure size 432x288 with 1 Axes>"
      ]
     },
     "metadata": {},
     "output_type": "display_data"
    },
    {
     "name": "stdout",
     "output_type": "stream",
     "text": [
      "prediction: 5 true label: 9\n"
     ]
    },
    {
     "data": {
      "image/png": "[encoded data removed]",
      "text/plain": [
       "<Figure size 432x288 with 1 Axes>"
      ]
     },
     "metadata": {},
     "output_type": "display_data"
    },
    {
     "name": "stdout",
     "output_type": "stream",
     "text": [
      "prediction: 3 true label: 8\n"
     ]
    },
    {
     "data": {
      "image/png": "[encoded data removed]",
      "text/plain": [
       "<Figure size 432x288 with 1 Axes>"
      ]
     },
     "metadata": {},
     "output_type": "display_data"
    },
    {
     "name": "stdout",
     "output_type": "stream",
     "text": [
      "prediction: 3 true label: 5\n"
     ]
    },
    {
     "data": {
      "image/png": "[encoded data removed]",
      "text/plain": [
       "<Figure size 432x288 with 1 Axes>"
      ]
     },
     "metadata": {},
     "output_type": "display_data"
    },
    {
     "name": "stdout",
     "output_type": "stream",
     "text": [
      "prediction: 7 true label: 9\n"
     ]
    },
    {
     "data": {
      "image/png": "[encoded data removed]",
      "text/plain": [
       "<Figure size 432x288 with 1 Axes>"
      ]
     },
     "metadata": {},
     "output_type": "display_data"
    },
    {
     "name": "stdout",
     "output_type": "stream",
     "text": [
      "prediction: 7 true label: 3\n"
     ]
    },
    {
     "data": {
      "image/png": "[encoded data removed]",
      "text/plain": [
       "<Figure size 432x288 with 1 Axes>"
      ]
     },
     "metadata": {},
     "output_type": "display_data"
    },
    {
     "name": "stdout",
     "output_type": "stream",
     "text": [
      "prediction: 3 true label: 9\n"
     ]
    },
    {
     "data": {
      "image/png": "[encoded data removed]",
      "text/plain": [
       "<Figure size 432x288 with 1 Axes>"
      ]
     },
     "metadata": {},
     "output_type": "display_data"
    },
    {
     "name": "stdout",
     "output_type": "stream",
     "text": [
      "prediction: 4 true label: 9\n"
     ]
    },
    {
     "data": {
      "image/png": "[encoded data removed]",
      "text/plain": [
       "<Figure size 432x288 with 1 Axes>"
      ]
     },
     "metadata": {},
     "output_type": "display_data"
    },
    {
     "name": "stdout",
     "output_type": "stream",
     "text": [
      "prediction: 8 true label: 1\n"
     ]
    },
    {
     "data": {
      "image/png": "[encoded data removed]",
      "text/plain": [
       "<Figure size 432x288 with 1 Axes>"
      ]
     },
     "metadata": {},
     "output_type": "display_data"
    },
    {
     "name": "stdout",
     "output_type": "stream",
     "text": [
      "prediction: 3 true label: 5\n"
     ]
    },
    {
     "data": {
      "image/png": "[encoded data removed]",
      "text/plain": [
       "<Figure size 432x288 with 1 Axes>"
      ]
     },
     "metadata": {},
     "output_type": "display_data"
    },
    {
     "name": "stdout",
     "output_type": "stream",
     "text": [
      "prediction: 8 true label: 4\n"
     ]
    },
    {
     "data": {
      "image/png": "[encoded data removed]",
      "text/plain": [
       "<Figure size 432x288 with 1 Axes>"
      ]
     },
     "metadata": {},
     "output_type": "display_data"
    },
    {
     "name": "stdout",
     "output_type": "stream",
     "text": [
      "prediction: 0 true label: 6\n"
     ]
    },
    {
     "data": {
      "image/png": "[encoded data removed]",
      "text/plain": [
       "<Figure size 432x288 with 1 Axes>"
      ]
     },
     "metadata": {},
     "output_type": "display_data"
    },
    {
     "name": "stdout",
     "output_type": "stream",
     "text": [
      "prediction: 9 true label: 4\n"
     ]
    },
    {
     "data": {
      "image/png": "[encoded data removed]",
      "text/plain": [
       "<Figure size 432x288 with 1 Axes>"
      ]
     },
     "metadata": {},
     "output_type": "display_data"
    },
    {
     "name": "stdout",
     "output_type": "stream",
     "text": [
      "prediction: 1 true label: 6\n"
     ]
    },
    {
     "data": {
      "image/png": "[encoded data removed]",
      "text/plain": [
       "<Figure size 432x288 with 1 Axes>"
      ]
     },
     "metadata": {},
     "output_type": "display_data"
    },
    {
     "name": "stdout",
     "output_type": "stream",
     "text": [
      "prediction: 0 true label: 9\n"
     ]
    },
    {
     "data": {
      "image/png": "[encoded data removed]",
      "text/plain": [
       "<Figure size 432x288 with 1 Axes>"
      ]
     },
     "metadata": {},
     "output_type": "display_data"
    },
    {
     "name": "stdout",
     "output_type": "stream",
     "text": [
      "prediction: 8 true label: 9\n"
     ]
    },
    {
     "data": {
      "image/png": "[encoded data removed]",
      "text/plain": [
       "<Figure size 432x288 with 1 Axes>"
      ]
     },
     "metadata": {},
     "output_type": "display_data"
    },
    {
     "name": "stdout",
     "output_type": "stream",
     "text": [
      "prediction: 0 true label: 2\n"
     ]
    },
    {
     "data": {
      "image/png": "[encoded data removed]",
      "text/plain": [
       "<Figure size 432x288 with 1 Axes>"
      ]
     },
     "metadata": {},
     "output_type": "display_data"
    },
    {
     "name": "stdout",
     "output_type": "stream",
     "text": [
      "prediction: 7 true label: 9\n"
     ]
    },
    {
     "data": {
      "image/png": "[encoded data removed]",
      "text/plain": [
       "<Figure size 432x288 with 1 Axes>"
      ]
     },
     "metadata": {},
     "output_type": "display_data"
    },
    {
     "name": "stdout",
     "output_type": "stream",
     "text": [
      "prediction: 3 true label: 5\n"
     ]
    },
    {
     "data": {
      "image/png": "[encoded data removed]",
      "text/plain": [
       "<Figure size 432x288 with 1 Axes>"
      ]
     },
     "metadata": {},
     "output_type": "display_data"
    },
    {
     "name": "stdout",
     "output_type": "stream",
     "text": [
      "prediction: 1 true label: 6\n"
     ]
    },
    {
     "data": {
      "image/png": "[encoded data removed]",
      "text/plain": [
       "<Figure size 432x288 with 1 Axes>"
      ]
     },
     "metadata": {},
     "output_type": "display_data"
    },
    {
     "name": "stdout",
     "output_type": "stream",
     "text": [
      "prediction: 0 true label: 8\n"
     ]
    },
    {
     "data": {
      "image/png": "[encoded data removed]",
      "text/plain": [
       "<Figure size 432x288 with 1 Axes>"
      ]
     },
     "metadata": {},
     "output_type": "display_data"
    },
    {
     "name": "stdout",
     "output_type": "stream",
     "text": [
      "prediction: 8 true label: 3\n"
     ]
    },
    {
     "data": {
      "image/png": "[encoded data removed]",
      "text/plain": [
       "<Figure size 432x288 with 1 Axes>"
      ]
     },
     "metadata": {},
     "output_type": "display_data"
    },
    {
     "name": "stdout",
     "output_type": "stream",
     "text": [
      "prediction: 2 true label: 3\n"
     ]
    },
    {
     "data": {
      "image/png": "[encoded data removed]",
      "text/plain": [
       "<Figure size 432x288 with 1 Axes>"
      ]
     },
     "metadata": {},
     "output_type": "display_data"
    },
    {
     "name": "stdout",
     "output_type": "stream",
     "text": [
      "prediction: 5 true label: 9\n"
     ]
    },
    {
     "data": {
      "image/png": "[encoded data removed]",
      "text/plain": [
       "<Figure size 432x288 with 1 Axes>"
      ]
     },
     "metadata": {},
     "output_type": "display_data"
    },
    {
     "name": "stdout",
     "output_type": "stream",
     "text": [
      "prediction: 5 true label: 3\n"
     ]
    },
    {
     "data": {
      "image/png": "[encoded data removed]",
      "text/plain": [
       "<Figure size 432x288 with 1 Axes>"
      ]
     },
     "metadata": {},
     "output_type": "display_data"
    },
    {
     "name": "stdout",
     "output_type": "stream",
     "text": [
      "prediction: 8 true label: 6\n"
     ]
    },
    {
     "data": {
      "image/png": "[encoded data removed]",
      "text/plain": [
       "<Figure size 432x288 with 1 Axes>"
      ]
     },
     "metadata": {},
     "output_type": "display_data"
    },
    {
     "name": "stdout",
     "output_type": "stream",
     "text": [
      "prediction: 7 true label: 9\n"
     ]
    },
    {
     "data": {
      "image/png": "[encoded data removed]",
      "text/plain": [
       "<Figure size 432x288 with 1 Axes>"
      ]
     },
     "metadata": {},
     "output_type": "display_data"
    },
    {
     "name": "stdout",
     "output_type": "stream",
     "text": [
      "prediction: 9 true label: 7\n"
     ]
    },
    {
     "data": {
      "image/png": "[encoded data removed]",
      "text/plain": [
       "<Figure size 432x288 with 1 Axes>"
      ]
     },
     "metadata": {},
     "output_type": "display_data"
    },
    {
     "name": "stdout",
     "output_type": "stream",
     "text": [
      "prediction: 0 true label: 6\n"
     ]
    },
    {
     "data": {
      "image/png": "[encoded data removed]",
      "text/plain": [
       "<Figure size 432x288 with 1 Axes>"
      ]
     },
     "metadata": {},
     "output_type": "display_data"
    },
    {
     "name": "stdout",
     "output_type": "stream",
     "text": [
      "prediction: 4 true label: 6\n"
     ]
    },
    {
     "data": {
      "image/png": "[encoded data removed]",
      "text/plain": [
       "<Figure size 432x288 with 1 Axes>"
      ]
     },
     "metadata": {},
     "output_type": "display_data"
    },
    {
     "name": "stdout",
     "output_type": "stream",
     "text": [
      "prediction: 0 true label: 5\n"
     ]
    },
    {
     "data": {
      "image/png": "[encoded data removed]",
      "text/plain": [
       "<Figure size 432x288 with 1 Axes>"
      ]
     },
     "metadata": {},
     "output_type": "display_data"
    },
    {
     "name": "stdout",
     "output_type": "stream",
     "text": [
      "prediction: 9 true label: 8\n"
     ]
    },
    {
     "data": {
      "image/png": "[encoded data removed]",
      "text/plain": [
       "<Figure size 432x288 with 1 Axes>"
      ]
     },
     "metadata": {},
     "output_type": "display_data"
    },
    {
     "name": "stdout",
     "output_type": "stream",
     "text": [
      "prediction: 2 true label: 7\n"
     ]
    },
    {
     "data": {
      "image/png": "[encoded data removed]",
      "text/plain": [
       "<Figure size 432x288 with 1 Axes>"
      ]
     },
     "metadata": {},
     "output_type": "display_data"
    },
    {
     "name": "stdout",
     "output_type": "stream",
     "text": [
      "prediction: 8 true label: 2\n"
     ]
    },
    {
     "data": {
      "image/png": "[encoded data removed]",
      "text/plain": [
       "<Figure size 432x288 with 1 Axes>"
      ]
     },
     "metadata": {},
     "output_type": "display_data"
    },
    {
     "name": "stdout",
     "output_type": "stream",
     "text": [
      "prediction: 8 true label: 7\n"
     ]
    },
    {
     "data": {
      "image/png": "[encoded data removed]",
      "text/plain": [
       "<Figure size 432x288 with 1 Axes>"
      ]
     },
     "metadata": {},
     "output_type": "display_data"
    },
    {
     "name": "stdout",
     "output_type": "stream",
     "text": [
      "prediction: 8 true label: 6\n"
     ]
    },
    {
     "data": {
      "image/png": "[encoded data removed]",
      "text/plain": [
       "<Figure size 432x288 with 1 Axes>"
      ]
     },
     "metadata": {},
     "output_type": "display_data"
    },
    {
     "name": "stdout",
     "output_type": "stream",
     "text": [
      "prediction: 8 true label: 9\n"
     ]
    },
    {
     "data": {
      "image/png": "[encoded data removed]",
      "text/plain": [
       "<Figure size 432x288 with 1 Axes>"
      ]
     },
     "metadata": {},
     "output_type": "display_data"
    },
    {
     "name": "stdout",
     "output_type": "stream",
     "text": [
      "prediction: 7 true label: 2\n"
     ]
    },
    {
     "data": {
      "image/png": "[encoded data removed]",
      "text/plain": [
       "<Figure size 432x288 with 1 Axes>"
      ]
     },
     "metadata": {},
     "output_type": "display_data"
    },
    {
     "name": "stdout",
     "output_type": "stream",
     "text": [
      "prediction: 7 true label: 8\n"
     ]
    },
    {
     "data": {
      "image/png": "[encoded data removed]",
      "text/plain": [
       "<Figure size 432x288 with 1 Axes>"
      ]
     },
     "metadata": {},
     "output_type": "display_data"
    },
    {
     "name": "stdout",
     "output_type": "stream",
     "text": [
      "prediction: 9 true label: 7\n"
     ]
    },
    {
     "data": {
      "image/png": "[encoded data removed]",
      "text/plain": [
       "<Figure size 432x288 with 1 Axes>"
      ]
     },
     "metadata": {},
     "output_type": "display_data"
    },
    {
     "name": "stdout",
     "output_type": "stream",
     "text": [
      "prediction: 5 true label: 3\n"
     ]
    },
    {
     "data": {
      "image/png": "[encoded data removed]",
      "text/plain": [
       "<Figure size 432x288 with 1 Axes>"
      ]
     },
     "metadata": {},
     "output_type": "display_data"
    },
    {
     "name": "stdout",
     "output_type": "stream",
     "text": [
      "prediction: 8 true label: 9\n"
     ]
    },
    {
     "data": {
      "image/png": "[encoded data removed]",
      "text/plain": [
       "<Figure size 432x288 with 1 Axes>"
      ]
     },
     "metadata": {},
     "output_type": "display_data"
    },
    {
     "name": "stdout",
     "output_type": "stream",
     "text": [
      "prediction: 0 true label: 8\n"
     ]
    },
    {
     "data": {
      "image/png": "[encoded data removed]",
      "text/plain": [
       "<Figure size 432x288 with 1 Axes>"
      ]
     },
     "metadata": {},
     "output_type": "display_data"
    },
    {
     "name": "stdout",
     "output_type": "stream",
     "text": [
      "prediction: 4 true label: 9\n"
     ]
    },
    {
     "data": {
      "image/png": "[encoded data removed]",
      "text/plain": [
       "<Figure size 432x288 with 1 Axes>"
      ]
     },
     "metadata": {},
     "output_type": "display_data"
    },
    {
     "name": "stdout",
     "output_type": "stream",
     "text": [
      "prediction: 5 true label: 6\n"
     ]
    },
    {
     "data": {
      "image/png": "[encoded data removed]",
      "text/plain": [
       "<Figure size 432x288 with 1 Axes>"
      ]
     },
     "metadata": {},
     "output_type": "display_data"
    },
    {
     "name": "stdout",
     "output_type": "stream",
     "text": [
      "prediction: 2 true label: 7\n"
     ]
    },
    {
     "data": {
      "image/png": "[encoded data removed]",
      "text/plain": [
       "<Figure size 432x288 with 1 Axes>"
      ]
     },
     "metadata": {},
     "output_type": "display_data"
    },
    {
     "name": "stdout",
     "output_type": "stream",
     "text": [
      "prediction: 3 true label: 5\n"
     ]
    },
    {
     "data": {
      "image/png": "[encoded data removed]",
      "text/plain": [
       "<Figure size 432x288 with 1 Axes>"
      ]
     },
     "metadata": {},
     "output_type": "display_data"
    },
    {
     "name": "stdout",
     "output_type": "stream",
     "text": [
      "prediction: 8 true label: 3\n"
     ]
    },
    {
     "data": {
      "image/png": "[encoded data removed]",
      "text/plain": [
       "<Figure size 432x288 with 1 Axes>"
      ]
     },
     "metadata": {},
     "output_type": "display_data"
    },
    {
     "name": "stdout",
     "output_type": "stream",
     "text": [
      "prediction: 8 true label: 3\n"
     ]
    },
    {
     "data": {
      "image/png": "[encoded data removed]",
      "text/plain": [
       "<Figure size 432x288 with 1 Axes>"
      ]
     },
     "metadata": {},
     "output_type": "display_data"
    },
    {
     "name": "stdout",
     "output_type": "stream",
     "text": [
      "prediction: 9 true label: 5\n"
     ]
    },
    {
     "data": {
      "image/png": "[encoded data removed]",
      "text/plain": [
       "<Figure size 432x288 with 1 Axes>"
      ]
     },
     "metadata": {},
     "output_type": "display_data"
    },
    {
     "name": "stdout",
     "output_type": "stream",
     "text": [
      "prediction: 5 true label: 9\n"
     ]
    },
    {
     "data": {
      "image/png": "[encoded data removed]",
      "text/plain": [
       "<Figure size 432x288 with 1 Axes>"
      ]
     },
     "metadata": {},
     "output_type": "display_data"
    },
    {
     "name": "stdout",
     "output_type": "stream",
     "text": [
      "prediction: 7 true label: 9\n"
     ]
    },
    {
     "data": {
      "image/png": "[encoded data removed]",
      "text/plain": [
       "<Figure size 432x288 with 1 Axes>"
      ]
     },
     "metadata": {},
     "output_type": "display_data"
    },
    {
     "name": "stdout",
     "output_type": "stream",
     "text": [
      "prediction: 1 true label: 7\n"
     ]
    },
    {
     "data": {
      "image/png": "[encoded data removed]",
      "text/plain": [
       "<Figure size 432x288 with 1 Axes>"
      ]
     },
     "metadata": {},
     "output_type": "display_data"
    },
    {
     "name": "stdout",
     "output_type": "stream",
     "text": [
      "prediction: 7 true label: 0\n"
     ]
    },
    {
     "data": {
      "image/png": "[encoded data removed]",
      "text/plain": [
       "<Figure size 432x288 with 1 Axes>"
      ]
     },
     "metadata": {},
     "output_type": "display_data"
    },
    {
     "name": "stdout",
     "output_type": "stream",
     "text": [
      "prediction: 2 true label: 8\n"
     ]
    },
    {
     "data": {
      "image/png": "[encoded data removed]",
      "text/plain": [
       "<Figure size 432x288 with 1 Axes>"
      ]
     },
     "metadata": {},
     "output_type": "display_data"
    },
    {
     "name": "stdout",
     "output_type": "stream",
     "text": [
      "prediction: 8 true label: 0\n"
     ]
    },
    {
     "data": {
      "image/png": "[encoded data removed]",
      "text/plain": [
       "<Figure size 432x288 with 1 Axes>"
      ]
     },
     "metadata": {},
     "output_type": "display_data"
    },
    {
     "name": "stdout",
     "output_type": "stream",
     "text": [
      "prediction: 6 true label: 1\n"
     ]
    },
    {
     "data": {
      "image/png": "[encoded data removed]",
      "text/plain": [
       "<Figure size 432x288 with 1 Axes>"
      ]
     },
     "metadata": {},
     "output_type": "display_data"
    },
    {
     "name": "stdout",
     "output_type": "stream",
     "text": [
      "prediction: 6 true label: 0\n"
     ]
    },
    {
     "data": {
      "image/png": "[encoded data removed]",
      "text/plain": [
       "<Figure size 432x288 with 1 Axes>"
      ]
     },
     "metadata": {},
     "output_type": "display_data"
    },
    {
     "name": "stdout",
     "output_type": "stream",
     "text": [
      "prediction: 8 true label: 4\n"
     ]
    },
    {
     "data": {
      "image/png": "[encoded data removed]",
      "text/plain": [
       "<Figure size 432x288 with 1 Axes>"
      ]
     },
     "metadata": {},
     "output_type": "display_data"
    },
    {
     "name": "stdout",
     "output_type": "stream",
     "text": [
      "prediction: 8 true label: 2\n"
     ]
    },
    {
     "data": {
      "image/png": "[encoded data removed]",
      "text/plain": [
       "<Figure size 432x288 with 1 Axes>"
      ]
     },
     "metadata": {},
     "output_type": "display_data"
    },
    {
     "name": "stdout",
     "output_type": "stream",
     "text": [
      "prediction: 9 true label: 3\n"
     ]
    },
    {
     "data": {
      "image/png": "[encoded data removed]",
      "text/plain": [
       "<Figure size 432x288 with 1 Axes>"
      ]
     },
     "metadata": {},
     "output_type": "display_data"
    },
    {
     "name": "stdout",
     "output_type": "stream",
     "text": [
      "prediction: 2 true label: 7\n"
     ]
    },
    {
     "data": {
      "image/png": "[encoded data removed]",
      "text/plain": [
       "<Figure size 432x288 with 1 Axes>"
      ]
     },
     "metadata": {},
     "output_type": "display_data"
    },
    {
     "name": "stdout",
     "output_type": "stream",
     "text": [
      "prediction: 2 true label: 7\n"
     ]
    },
    {
     "data": {
      "image/png": "[encoded data removed]",
      "text/plain": [
       "<Figure size 432x288 with 1 Axes>"
      ]
     },
     "metadata": {},
     "output_type": "display_data"
    },
    {
     "name": "stdout",
     "output_type": "stream",
     "text": [
      "prediction: 8 true label: 1\n"
     ]
    },
    {
     "data": {
      "image/png": "[encoded data removed]",
      "text/plain": [
       "<Figure size 432x288 with 1 Axes>"
      ]
     },
     "metadata": {},
     "output_type": "display_data"
    },
    {
     "name": "stdout",
     "output_type": "stream",
     "text": [
      "prediction: 4 true label: 9\n"
     ]
    },
    {
     "data": {
      "image/png": "[encoded data removed]",
      "text/plain": [
       "<Figure size 432x288 with 1 Axes>"
      ]
     },
     "metadata": {},
     "output_type": "display_data"
    },
    {
     "name": "stdout",
     "output_type": "stream",
     "text": [
      "prediction: 1 true label: 0\n"
     ]
    },
    {
     "data": {
      "image/png": "[encoded data removed]",
      "text/plain": [
       "<Figure size 432x288 with 1 Axes>"
      ]
     },
     "metadata": {},
     "output_type": "display_data"
    },
    {
     "name": "stdout",
     "output_type": "stream",
     "text": [
      "prediction: 7 true label: 9\n"
     ]
    },
    {
     "data": {
      "image/png": "[encoded data removed]",
      "text/plain": [
       "<Figure size 432x288 with 1 Axes>"
      ]
     },
     "metadata": {},
     "output_type": "display_data"
    },
    {
     "name": "stdout",
     "output_type": "stream",
     "text": [
      "prediction: 7 true label: 4\n"
     ]
    },
    {
     "data": {
      "image/png": "[encoded data removed]",
      "text/plain": [
       "<Figure size 432x288 with 1 Axes>"
      ]
     },
     "metadata": {},
     "output_type": "display_data"
    },
    {
     "name": "stdout",
     "output_type": "stream",
     "text": [
      "prediction: 7 true label: 9\n"
     ]
    },
    {
     "data": {
      "image/png": "[encoded data removed]",
      "text/plain": [
       "<Figure size 432x288 with 1 Axes>"
      ]
     },
     "metadata": {},
     "output_type": "display_data"
    },
    {
     "name": "stdout",
     "output_type": "stream",
     "text": [
      "prediction: 6 true label: 5\n"
     ]
    },
    {
     "data": {
      "image/png": "[encoded data removed]",
      "text/plain": [
       "<Figure size 432x288 with 1 Axes>"
      ]
     },
     "metadata": {},
     "output_type": "display_data"
    },
    {
     "name": "stdout",
     "output_type": "stream",
     "text": [
      "prediction: 9 true label: 4\n"
     ]
    }
   ],
   "source": [
    "import matplotlib.pyplot as plt\n",
    "prediction = sess.run(y_conv, {x: mnist.test.images, keep_prob: 1.0})\n",
    "true_label = mnist.test.labels\n",
    "for i in range(10000):\n",
    "    if prediction[i].argmax()!=true_label[i].argmax():\n",
    "        plt.imshow(mnist.test.images[i].reshape(28, 28))\n",
    "        plt.gray()\n",
    "        plt.show()\n",
    "        print('prediction:', prediction[i].argmax(), 'true label:', true_label[i].argmax())"
   ]
  },
  {
   "cell_type": "markdown",
   "metadata": {},
   "source": [
    "## CNN for CIFAR-1042 classification"
   ]
  },
  {
   "cell_type": "code",
   "execution_count": 5,
   "metadata": {},
   "outputs": [
    {
     "name": "stderr",
     "output_type": "stream",
     "text": [
      "/usr/local/lib/python3.6/site-packages/h5py/__init__.py:36: FutureWarning: Conversion of the second argument of issubdtype from `float` to `np.floating` is deprecated. In future, it will be treated as `np.float64 == np.dtype(float).type`.\n",
      "  from ._conv import register_converters as _register_converters\n"
     ]
    }
   ],
   "source": [
    "import cifar10, cifar10_input\n",
    "import tensorflow as tf\n",
    "import numpy as np\n",
    "import time"
   ]
  },
  {
   "cell_type": "code",
   "execution_count": 6,
   "metadata": {},
   "outputs": [],
   "source": [
    "max_steps = 5000\n",
    "batch_size = 128\n",
    "data_dir = './cifar10_data/cifar-10-batches-bin'\n",
    "\n",
    "def variable_with_weight_loss(shape, stddev, wl):\n",
    "    var = tf.Variable(tf.truncated_normal(shape, stddev=stddev), dtype=tf.float32)\n",
    "    if wl is not None:\n",
    "        weight_loss = tf.multiply(tf.nn.l2_loss(var), wl, name='weight_loss')\n",
    "        tf.add_to_collection('losses', weight_loss)\n",
    "    return var\n",
    "\n",
    "def loss(logits, labels):\n",
    "    labels = tf.cast(labels, tf.int64)\n",
    "    # softmax + cross entropy\n",
    "    cross_entropy = tf.nn.sparse_softmax_cross_entropy_with_logits(logits=logits, labels=labels, name='cross_entropy_per_example')\n",
    "    cross_entropy_mean = tf.reduce_mean(cross_entropy, name='cross_entropy')\n",
    "    tf.add_to_collection('losses', cross_entropy_mean)\n",
    "    return tf.add_n(tf.get_collection('losses'), name='total_loss')"
   ]
  },
  {
   "cell_type": "code",
   "execution_count": 7,
   "metadata": {},
   "outputs": [
    {
     "name": "stdout",
     "output_type": "stream",
     "text": [
      "Filling queue with 20000 CIFAR images before starting to train. This will take a few minutes.\n"
     ]
    }
   ],
   "source": [
    "images_train, labels_train = cifar10_input.distorted_inputs(data_dir=data_dir, batch_size=batch_size)\n",
    "images_test, labels_test = cifar10_input.inputs(eval_data=True, data_dir=data_dir, batch_size=batch_size)"
   ]
  },
  {
   "cell_type": "code",
   "execution_count": 8,
   "metadata": {},
   "outputs": [
    {
     "data": {
      "text/plain": [
       "[<Thread(QueueRunnerThread-input_producer-input_producer/input_producer_EnqueueMany, started daemon 123145394999296)>,\n",
       " <Thread(QueueRunnerThread-shuffle_batch/random_shuffle_queue-shuffle_batch/random_shuffle_queue_enqueue, started daemon 123145400254464)>,\n",
       " <Thread(QueueRunnerThread-shuffle_batch/random_shuffle_queue-shuffle_batch/random_shuffle_queue_enqueue, started daemon 123145405509632)>,\n",
       " <Thread(QueueRunnerThread-shuffle_batch/random_shuffle_queue-shuffle_batch/random_shuffle_queue_enqueue, started daemon 123145410764800)>,\n",
       " <Thread(QueueRunnerThread-shuffle_batch/random_shuffle_queue-shuffle_batch/random_shuffle_queue_enqueue, started daemon 123145416019968)>,\n",
       " <Thread(QueueRunnerThread-shuffle_batch/random_shuffle_queue-shuffle_batch/random_shuffle_queue_enqueue, started daemon 123145421275136)>,\n",
       " <Thread(QueueRunnerThread-shuffle_batch/random_shuffle_queue-shuffle_batch/random_shuffle_queue_enqueue, started daemon 123145426530304)>,\n",
       " <Thread(QueueRunnerThread-shuffle_batch/random_shuffle_queue-shuffle_batch/random_shuffle_queue_enqueue, started daemon 123145431785472)>,\n",
       " <Thread(QueueRunnerThread-shuffle_batch/random_shuffle_queue-shuffle_batch/random_shuffle_queue_enqueue, started daemon 123145437040640)>,\n",
       " <Thread(QueueRunnerThread-shuffle_batch/random_shuffle_queue-shuffle_batch/random_shuffle_queue_enqueue, started daemon 123145442295808)>,\n",
       " <Thread(QueueRunnerThread-shuffle_batch/random_shuffle_queue-shuffle_batch/random_shuffle_queue_enqueue, started daemon 123145447550976)>,\n",
       " <Thread(QueueRunnerThread-shuffle_batch/random_shuffle_queue-shuffle_batch/random_shuffle_queue_enqueue, started daemon 123145452806144)>,\n",
       " <Thread(QueueRunnerThread-shuffle_batch/random_shuffle_queue-shuffle_batch/random_shuffle_queue_enqueue, started daemon 123145458061312)>,\n",
       " <Thread(QueueRunnerThread-shuffle_batch/random_shuffle_queue-shuffle_batch/random_shuffle_queue_enqueue, started daemon 123145463316480)>,\n",
       " <Thread(QueueRunnerThread-shuffle_batch/random_shuffle_queue-shuffle_batch/random_shuffle_queue_enqueue, started daemon 123145468571648)>,\n",
       " <Thread(QueueRunnerThread-shuffle_batch/random_shuffle_queue-shuffle_batch/random_shuffle_queue_enqueue, started daemon 123145473826816)>,\n",
       " <Thread(QueueRunnerThread-shuffle_batch/random_shuffle_queue-shuffle_batch/random_shuffle_queue_enqueue, started daemon 123145479081984)>,\n",
       " <Thread(QueueRunnerThread-input/input_producer-input/input_producer/input_producer_EnqueueMany, started daemon 123145484337152)>,\n",
       " <Thread(QueueRunnerThread-batch/fifo_queue-batch/fifo_queue_enqueue, started daemon 123145489592320)>,\n",
       " <Thread(QueueRunnerThread-batch/fifo_queue-batch/fifo_queue_enqueue, started daemon 123145494847488)>,\n",
       " <Thread(QueueRunnerThread-batch/fifo_queue-batch/fifo_queue_enqueue, started daemon 123145500102656)>,\n",
       " <Thread(QueueRunnerThread-batch/fifo_queue-batch/fifo_queue_enqueue, started daemon 123145505357824)>,\n",
       " <Thread(QueueRunnerThread-batch/fifo_queue-batch/fifo_queue_enqueue, started daemon 123145510612992)>,\n",
       " <Thread(QueueRunnerThread-batch/fifo_queue-batch/fifo_queue_enqueue, started daemon 123145515868160)>,\n",
       " <Thread(QueueRunnerThread-batch/fifo_queue-batch/fifo_queue_enqueue, started daemon 123145521123328)>,\n",
       " <Thread(QueueRunnerThread-batch/fifo_queue-batch/fifo_queue_enqueue, started daemon 123145526378496)>,\n",
       " <Thread(QueueRunnerThread-batch/fifo_queue-batch/fifo_queue_enqueue, started daemon 123145531633664)>,\n",
       " <Thread(QueueRunnerThread-batch/fifo_queue-batch/fifo_queue_enqueue, started daemon 123145536888832)>,\n",
       " <Thread(QueueRunnerThread-batch/fifo_queue-batch/fifo_queue_enqueue, started daemon 123145542144000)>,\n",
       " <Thread(QueueRunnerThread-batch/fifo_queue-batch/fifo_queue_enqueue, started daemon 123145547399168)>,\n",
       " <Thread(QueueRunnerThread-batch/fifo_queue-batch/fifo_queue_enqueue, started daemon 123145552654336)>,\n",
       " <Thread(QueueRunnerThread-batch/fifo_queue-batch/fifo_queue_enqueue, started daemon 123145557909504)>,\n",
       " <Thread(QueueRunnerThread-batch/fifo_queue-batch/fifo_queue_enqueue, started daemon 123145563164672)>,\n",
       " <Thread(QueueRunnerThread-batch/fifo_queue-batch/fifo_queue_enqueue, started daemon 123145568419840)>]"
      ]
     },
     "execution_count": 8,
     "metadata": {},
     "output_type": "execute_result"
    }
   ],
   "source": [
    "image_holder = tf.placeholder(tf.float32, [batch_size, 24, 24,3])\n",
    "label_holder = tf.placeholder(tf.int32, [batch_size])\n",
    "\n",
    "weight_1 = variable_with_weight_loss([5, 5, 3, 64], stddev=0.05, wl=0.0)\n",
    "kernel_1 = tf.nn.conv2d(image_holder, weight_1, [1, 1, 1, 1], padding='SAME')\n",
    "bias_1 = tf.Variable(tf.constant(0.0, shape=[64]))\n",
    "conv_1 = tf.nn.relu(tf.nn.bias_add(kernel_1, bias_1))\n",
    "pool_1 = tf.nn.max_pool(conv_1, ksize=[1, 3, 3, 1], strides=[1,2,2,1], padding='SAME')\n",
    "norm_1 = tf.nn.lrn(pool_1, 4, bias=1.0, alpha=0.001 / 9.0, beta=0.75)\n",
    "\n",
    "weight_2 = variable_with_weight_loss([5, 5, 64, 64], stddev=0.05, wl=0)\n",
    "kernel_2 = tf.nn.conv2d(norm_1, weight_2, [1, 1, 1, 1], padding='SAME')\n",
    "bias_2 = tf.Variable(tf.constant(0.1, shape=[64]))\n",
    "conv_2 = tf.nn.relu(tf.nn.bias_add(kernel_2, bias_2))\n",
    "norm_2 = tf.nn.lrn(conv_2, 4, bias=1.0, alpha=0.001 / 9.0, beta=0.75)\n",
    "pool_2 = tf.nn.max_pool(norm_2, ksize=[1, 3, 3, 1], strides=[1,2,2,1], padding='SAME')\n",
    "\n",
    "reshape = tf.reshape(pool_1, shape=[batch_size, -1])\n",
    "dim = reshape.get_shape()[1].value\n",
    "weight_3 = variable_with_weight_loss([dim, 384], stddev=0.04, wl= 0.004)\n",
    "bias_3 = tf.Variable(tf.constant(0.1, shape=[384]))\n",
    "local_3 = tf.nn.relu(tf.matmul(reshape, weight_3) + bias_3)\n",
    "\n",
    "weight_4 = variable_with_weight_loss([384, 192], stddev=0.04, wl= 0.004)\n",
    "bias_4 = tf.Variable(tf.constant(0.1, shape=[192]))\n",
    "local_4 = tf.nn.relu(tf.matmul(local_3, weight_4) + bias_4)\n",
    "\n",
    "weight_5 = variable_with_weight_loss([192, 10], stddev=1 / 192, wl= 0.0)\n",
    "bias_5 = tf.Variable(tf.constant(0.1, shape=[10]))\n",
    "logits = tf.nn.relu(tf.matmul(local_4, weight_5) + bias_5)\n",
    "\n",
    "loss = loss(logits, label_holder)\n",
    "train_op = tf.train.AdamOptimizer(1e-3).minimize(loss)\n",
    "top_k_op = tf.nn.in_top_k(logits, label_holder, 1)\n",
    "\n",
    "sess = tf.InteractiveSession()\n",
    "tf.global_variables_initializer().run()\n",
    "\n",
    "tf.train.start_queue_runners()"
   ]
  },
  {
   "cell_type": "code",
   "execution_count": 9,
   "metadata": {
    "scrolled": false
   },
   "outputs": [
    {
     "name": "stdout",
     "output_type": "stream",
     "text": [
      "step 0, loss 11.26 (789.0 examples/sec; 0.162 sec/batch)\n",
      "step 10, loss 7.82 (1095.3 examples/sec; 0.117 sec/batch)\n",
      "step 20, loss 5.62 (1097.7 examples/sec; 0.117 sec/batch)\n",
      "step 30, loss 4.29 (1105.6 examples/sec; 0.116 sec/batch)\n",
      "step 40, loss 3.45 (1123.0 examples/sec; 0.114 sec/batch)\n",
      "step 50, loss 2.92 (1118.9 examples/sec; 0.114 sec/batch)\n",
      "step 60, loss 2.67 (1147.9 examples/sec; 0.112 sec/batch)\n",
      "step 70, loss 2.53 (1070.1 examples/sec; 0.120 sec/batch)\n",
      "step 80, loss 2.22 (1098.8 examples/sec; 0.116 sec/batch)\n",
      "step 90, loss 2.17 (1096.0 examples/sec; 0.117 sec/batch)\n",
      "step 100, loss 2.26 (1083.2 examples/sec; 0.118 sec/batch)\n",
      "step 110, loss 2.36 (1104.4 examples/sec; 0.116 sec/batch)\n",
      "step 120, loss 2.25 (1160.2 examples/sec; 0.110 sec/batch)\n",
      "step 130, loss 2.21 (1016.7 examples/sec; 0.126 sec/batch)\n",
      "step 140, loss 1.99 (1103.9 examples/sec; 0.116 sec/batch)\n",
      "step 150, loss 2.10 (1117.4 examples/sec; 0.115 sec/batch)\n",
      "step 160, loss 2.11 (1098.2 examples/sec; 0.117 sec/batch)\n",
      "step 170, loss 2.07 (1102.6 examples/sec; 0.116 sec/batch)\n",
      "step 180, loss 2.09 (1103.9 examples/sec; 0.116 sec/batch)\n",
      "step 190, loss 2.17 (1085.2 examples/sec; 0.118 sec/batch)\n",
      "step 200, loss 2.12 (1131.7 examples/sec; 0.113 sec/batch)\n",
      "step 210, loss 1.98 (1149.9 examples/sec; 0.111 sec/batch)\n",
      "step 220, loss 2.12 (1078.1 examples/sec; 0.119 sec/batch)\n",
      "step 230, loss 1.96 (1121.1 examples/sec; 0.114 sec/batch)\n",
      "step 240, loss 2.03 (1073.1 examples/sec; 0.119 sec/batch)\n",
      "step 250, loss 2.08 (1075.9 examples/sec; 0.119 sec/batch)\n",
      "step 260, loss 1.97 (1090.4 examples/sec; 0.117 sec/batch)\n",
      "step 270, loss 2.01 (1116.8 examples/sec; 0.115 sec/batch)\n",
      "step 280, loss 1.98 (1103.2 examples/sec; 0.116 sec/batch)\n",
      "step 290, loss 1.95 (1077.4 examples/sec; 0.119 sec/batch)\n",
      "step 300, loss 1.93 (1073.7 examples/sec; 0.119 sec/batch)\n",
      "step 310, loss 1.82 (1047.5 examples/sec; 0.122 sec/batch)\n",
      "step 320, loss 2.00 (1137.3 examples/sec; 0.113 sec/batch)\n",
      "step 330, loss 2.04 (1154.0 examples/sec; 0.111 sec/batch)\n",
      "step 340, loss 1.96 (1131.4 examples/sec; 0.113 sec/batch)\n",
      "step 350, loss 1.94 (1103.2 examples/sec; 0.116 sec/batch)\n",
      "step 360, loss 1.98 (1149.2 examples/sec; 0.111 sec/batch)\n",
      "step 370, loss 1.97 (1084.5 examples/sec; 0.118 sec/batch)\n",
      "step 380, loss 2.01 (1162.6 examples/sec; 0.110 sec/batch)\n",
      "step 390, loss 1.92 (1155.6 examples/sec; 0.111 sec/batch)\n",
      "step 400, loss 2.04 (1120.5 examples/sec; 0.114 sec/batch)\n",
      "step 410, loss 2.04 (1107.2 examples/sec; 0.116 sec/batch)\n",
      "step 420, loss 1.91 (1093.9 examples/sec; 0.117 sec/batch)\n",
      "step 430, loss 1.98 (1130.5 examples/sec; 0.113 sec/batch)\n",
      "step 440, loss 1.88 (1075.5 examples/sec; 0.119 sec/batch)\n",
      "step 450, loss 1.79 (1097.6 examples/sec; 0.117 sec/batch)\n",
      "step 460, loss 1.82 (1126.0 examples/sec; 0.114 sec/batch)\n",
      "step 470, loss 1.93 (1140.6 examples/sec; 0.112 sec/batch)\n",
      "step 480, loss 2.00 (1099.6 examples/sec; 0.116 sec/batch)\n",
      "step 490, loss 1.83 (1137.5 examples/sec; 0.113 sec/batch)\n",
      "step 500, loss 1.96 (1036.9 examples/sec; 0.123 sec/batch)\n",
      "step 510, loss 1.89 (1084.0 examples/sec; 0.118 sec/batch)\n",
      "step 520, loss 1.92 (1105.2 examples/sec; 0.116 sec/batch)\n",
      "step 530, loss 2.01 (1162.5 examples/sec; 0.110 sec/batch)\n",
      "step 540, loss 1.83 (1070.3 examples/sec; 0.120 sec/batch)\n",
      "step 550, loss 1.78 (1055.5 examples/sec; 0.121 sec/batch)\n",
      "step 560, loss 1.70 (992.6 examples/sec; 0.129 sec/batch)\n",
      "step 570, loss 1.95 (1150.4 examples/sec; 0.111 sec/batch)\n",
      "step 580, loss 1.83 (1092.5 examples/sec; 0.117 sec/batch)\n",
      "step 590, loss 1.78 (1106.8 examples/sec; 0.116 sec/batch)\n",
      "step 600, loss 1.92 (1176.8 examples/sec; 0.109 sec/batch)\n",
      "step 610, loss 1.96 (1105.8 examples/sec; 0.116 sec/batch)\n",
      "step 620, loss 1.93 (1107.3 examples/sec; 0.116 sec/batch)\n",
      "step 630, loss 1.90 (1116.9 examples/sec; 0.115 sec/batch)\n",
      "step 640, loss 1.97 (1104.1 examples/sec; 0.116 sec/batch)\n",
      "step 650, loss 1.84 (1108.4 examples/sec; 0.115 sec/batch)\n",
      "step 660, loss 2.03 (1131.4 examples/sec; 0.113 sec/batch)\n",
      "step 670, loss 1.93 (1164.9 examples/sec; 0.110 sec/batch)\n",
      "step 680, loss 1.89 (1106.2 examples/sec; 0.116 sec/batch)\n",
      "step 690, loss 1.80 (1096.1 examples/sec; 0.117 sec/batch)\n",
      "step 700, loss 1.90 (1106.4 examples/sec; 0.116 sec/batch)\n",
      "step 710, loss 1.82 (1107.0 examples/sec; 0.116 sec/batch)\n",
      "step 720, loss 1.79 (1087.1 examples/sec; 0.118 sec/batch)\n",
      "step 730, loss 1.89 (1095.4 examples/sec; 0.117 sec/batch)\n",
      "step 740, loss 1.94 (1105.4 examples/sec; 0.116 sec/batch)\n",
      "step 750, loss 1.74 (1039.1 examples/sec; 0.123 sec/batch)\n",
      "step 760, loss 1.84 (1086.8 examples/sec; 0.118 sec/batch)\n",
      "step 770, loss 1.88 (1212.9 examples/sec; 0.106 sec/batch)\n",
      "step 780, loss 1.87 (1154.6 examples/sec; 0.111 sec/batch)\n",
      "step 790, loss 1.83 (1139.2 examples/sec; 0.112 sec/batch)\n",
      "step 800, loss 1.91 (1124.1 examples/sec; 0.114 sec/batch)\n",
      "step 810, loss 1.80 (1125.7 examples/sec; 0.114 sec/batch)\n",
      "step 820, loss 1.80 (1125.3 examples/sec; 0.114 sec/batch)\n",
      "step 830, loss 1.76 (1075.8 examples/sec; 0.119 sec/batch)\n",
      "step 840, loss 1.88 (1169.3 examples/sec; 0.109 sec/batch)\n",
      "step 850, loss 1.91 (1139.5 examples/sec; 0.112 sec/batch)\n",
      "step 860, loss 1.75 (1116.6 examples/sec; 0.115 sec/batch)\n",
      "step 870, loss 1.80 (1161.4 examples/sec; 0.110 sec/batch)\n",
      "step 880, loss 1.65 (1139.5 examples/sec; 0.112 sec/batch)\n",
      "step 890, loss 1.69 (1090.7 examples/sec; 0.117 sec/batch)\n",
      "step 900, loss 1.67 (1105.7 examples/sec; 0.116 sec/batch)\n",
      "step 910, loss 1.76 (1102.3 examples/sec; 0.116 sec/batch)\n",
      "step 920, loss 1.76 (1113.7 examples/sec; 0.115 sec/batch)\n",
      "step 930, loss 1.73 (1106.4 examples/sec; 0.116 sec/batch)\n",
      "step 940, loss 1.66 (1101.4 examples/sec; 0.116 sec/batch)\n",
      "step 950, loss 1.83 (1160.1 examples/sec; 0.110 sec/batch)\n",
      "step 960, loss 1.77 (1097.8 examples/sec; 0.117 sec/batch)\n",
      "step 970, loss 1.86 (1090.2 examples/sec; 0.117 sec/batch)\n",
      "step 980, loss 1.86 (1079.1 examples/sec; 0.119 sec/batch)\n",
      "step 990, loss 1.77 (1077.1 examples/sec; 0.119 sec/batch)\n",
      "step 1000, loss 1.83 (1086.2 examples/sec; 0.118 sec/batch)\n",
      "step 1010, loss 1.88 (1148.0 examples/sec; 0.111 sec/batch)\n",
      "step 1020, loss 1.73 (1132.6 examples/sec; 0.113 sec/batch)\n",
      "step 1030, loss 1.87 (1151.2 examples/sec; 0.111 sec/batch)\n",
      "step 1040, loss 2.02 (1112.6 examples/sec; 0.115 sec/batch)\n",
      "step 1050, loss 1.92 (1127.3 examples/sec; 0.114 sec/batch)\n",
      "step 1060, loss 2.07 (1117.6 examples/sec; 0.115 sec/batch)\n",
      "step 1070, loss 1.90 (1132.4 examples/sec; 0.113 sec/batch)\n",
      "step 1080, loss 1.83 (1139.4 examples/sec; 0.112 sec/batch)\n",
      "step 1090, loss 1.84 (1136.2 examples/sec; 0.113 sec/batch)\n",
      "step 1100, loss 1.55 (1140.0 examples/sec; 0.112 sec/batch)\n",
      "step 1110, loss 1.87 (1215.7 examples/sec; 0.105 sec/batch)\n",
      "step 1120, loss 1.85 (1147.0 examples/sec; 0.112 sec/batch)\n",
      "step 1130, loss 1.78 (1136.6 examples/sec; 0.113 sec/batch)\n",
      "step 1140, loss 1.98 (1179.8 examples/sec; 0.108 sec/batch)\n",
      "step 1150, loss 1.84 (1106.5 examples/sec; 0.116 sec/batch)\n",
      "step 1160, loss 1.74 (1137.9 examples/sec; 0.112 sec/batch)\n",
      "step 1170, loss 1.68 (1133.3 examples/sec; 0.113 sec/batch)\n",
      "step 1180, loss 1.76 (1131.3 examples/sec; 0.113 sec/batch)\n",
      "step 1190, loss 1.55 (1111.3 examples/sec; 0.115 sec/batch)\n",
      "step 1200, loss 1.71 (1127.0 examples/sec; 0.114 sec/batch)\n",
      "step 1210, loss 1.61 (1062.3 examples/sec; 0.120 sec/batch)\n",
      "step 1220, loss 1.76 (1133.3 examples/sec; 0.113 sec/batch)\n",
      "step 1230, loss 1.68 (1141.8 examples/sec; 0.112 sec/batch)\n",
      "step 1240, loss 1.80 (1132.4 examples/sec; 0.113 sec/batch)\n",
      "step 1250, loss 1.72 (1141.6 examples/sec; 0.112 sec/batch)\n",
      "step 1260, loss 1.76 (1157.9 examples/sec; 0.111 sec/batch)\n",
      "step 1270, loss 1.64 (1095.9 examples/sec; 0.117 sec/batch)\n",
      "step 1280, loss 1.71 (1117.6 examples/sec; 0.115 sec/batch)\n",
      "step 1290, loss 1.90 (1091.9 examples/sec; 0.117 sec/batch)\n",
      "step 1300, loss 1.91 (1112.9 examples/sec; 0.115 sec/batch)\n",
      "step 1310, loss 1.72 (1083.0 examples/sec; 0.118 sec/batch)\n",
      "step 1320, loss 1.81 (1090.1 examples/sec; 0.117 sec/batch)\n",
      "step 1330, loss 1.58 (1137.1 examples/sec; 0.113 sec/batch)\n",
      "step 1340, loss 1.69 (1131.4 examples/sec; 0.113 sec/batch)\n",
      "step 1350, loss 1.66 (1171.3 examples/sec; 0.109 sec/batch)\n",
      "step 1360, loss 1.70 (1145.9 examples/sec; 0.112 sec/batch)\n",
      "step 1370, loss 1.64 (1177.2 examples/sec; 0.109 sec/batch)\n",
      "step 1380, loss 1.82 (1118.8 examples/sec; 0.114 sec/batch)\n"
     ]
    },
    {
     "name": "stdout",
     "output_type": "stream",
     "text": [
      "step 1390, loss 1.72 (1126.4 examples/sec; 0.114 sec/batch)\n",
      "step 1400, loss 1.82 (1124.8 examples/sec; 0.114 sec/batch)\n",
      "step 1410, loss 1.81 (1016.8 examples/sec; 0.126 sec/batch)\n",
      "step 1420, loss 1.71 (1093.4 examples/sec; 0.117 sec/batch)\n",
      "step 1430, loss 1.71 (1123.7 examples/sec; 0.114 sec/batch)\n",
      "step 1440, loss 1.63 (1077.9 examples/sec; 0.119 sec/batch)\n",
      "step 1450, loss 1.69 (1138.2 examples/sec; 0.112 sec/batch)\n",
      "step 1460, loss 1.76 (1136.5 examples/sec; 0.113 sec/batch)\n",
      "step 1470, loss 1.73 (1113.5 examples/sec; 0.115 sec/batch)\n",
      "step 1480, loss 1.72 (1117.7 examples/sec; 0.115 sec/batch)\n",
      "step 1490, loss 1.73 (1151.6 examples/sec; 0.111 sec/batch)\n",
      "step 1500, loss 1.70 (1139.9 examples/sec; 0.112 sec/batch)\n",
      "step 1510, loss 1.72 (1103.6 examples/sec; 0.116 sec/batch)\n",
      "step 1520, loss 1.77 (1125.7 examples/sec; 0.114 sec/batch)\n",
      "step 1530, loss 1.77 (1120.0 examples/sec; 0.114 sec/batch)\n",
      "step 1540, loss 1.80 (1138.3 examples/sec; 0.112 sec/batch)\n",
      "step 1550, loss 1.64 (1140.8 examples/sec; 0.112 sec/batch)\n",
      "step 1560, loss 1.80 (1097.5 examples/sec; 0.117 sec/batch)\n",
      "step 1570, loss 1.64 (1179.2 examples/sec; 0.109 sec/batch)\n",
      "step 1580, loss 1.91 (1341.7 examples/sec; 0.095 sec/batch)\n",
      "step 1590, loss 1.75 (1124.8 examples/sec; 0.114 sec/batch)\n",
      "step 1600, loss 1.69 (1126.0 examples/sec; 0.114 sec/batch)\n",
      "step 1610, loss 1.63 (1143.3 examples/sec; 0.112 sec/batch)\n",
      "step 1620, loss 1.73 (1125.9 examples/sec; 0.114 sec/batch)\n",
      "step 1630, loss 1.93 (1121.4 examples/sec; 0.114 sec/batch)\n",
      "step 1640, loss 1.88 (1135.8 examples/sec; 0.113 sec/batch)\n",
      "step 1650, loss 1.58 (1106.1 examples/sec; 0.116 sec/batch)\n",
      "step 1660, loss 1.53 (1133.6 examples/sec; 0.113 sec/batch)\n",
      "step 1670, loss 1.93 (1106.6 examples/sec; 0.116 sec/batch)\n",
      "step 1680, loss 1.87 (1115.6 examples/sec; 0.115 sec/batch)\n",
      "step 1690, loss 1.57 (1097.1 examples/sec; 0.117 sec/batch)\n",
      "step 1700, loss 1.63 (1153.6 examples/sec; 0.111 sec/batch)\n",
      "step 1710, loss 1.47 (1095.4 examples/sec; 0.117 sec/batch)\n",
      "step 1720, loss 1.70 (1169.4 examples/sec; 0.109 sec/batch)\n",
      "step 1730, loss 1.87 (1068.6 examples/sec; 0.120 sec/batch)\n",
      "step 1740, loss 1.75 (1125.5 examples/sec; 0.114 sec/batch)\n",
      "step 1750, loss 1.76 (1084.0 examples/sec; 0.118 sec/batch)\n",
      "step 1760, loss 1.76 (1101.0 examples/sec; 0.116 sec/batch)\n",
      "step 1770, loss 1.86 (1174.9 examples/sec; 0.109 sec/batch)\n",
      "step 1780, loss 1.60 (1135.4 examples/sec; 0.113 sec/batch)\n",
      "step 1790, loss 1.60 (1115.4 examples/sec; 0.115 sec/batch)\n",
      "step 1800, loss 1.76 (1206.3 examples/sec; 0.106 sec/batch)\n",
      "step 1810, loss 1.73 (1083.0 examples/sec; 0.118 sec/batch)\n",
      "step 1820, loss 1.75 (1150.8 examples/sec; 0.111 sec/batch)\n",
      "step 1830, loss 1.55 (1120.7 examples/sec; 0.114 sec/batch)\n",
      "step 1840, loss 1.61 (1110.7 examples/sec; 0.115 sec/batch)\n",
      "step 1850, loss 1.61 (1152.2 examples/sec; 0.111 sec/batch)\n",
      "step 1860, loss 1.76 (1070.6 examples/sec; 0.120 sec/batch)\n",
      "step 1870, loss 1.75 (1178.0 examples/sec; 0.109 sec/batch)\n",
      "step 1880, loss 1.70 (1126.2 examples/sec; 0.114 sec/batch)\n",
      "step 1890, loss 1.73 (1100.5 examples/sec; 0.116 sec/batch)\n",
      "step 1900, loss 1.81 (1128.0 examples/sec; 0.113 sec/batch)\n",
      "step 1910, loss 1.85 (1191.7 examples/sec; 0.107 sec/batch)\n",
      "step 1920, loss 1.73 (1119.2 examples/sec; 0.114 sec/batch)\n",
      "step 1930, loss 1.72 (1114.2 examples/sec; 0.115 sec/batch)\n",
      "step 1940, loss 1.67 (1109.2 examples/sec; 0.115 sec/batch)\n",
      "step 1950, loss 1.91 (1163.7 examples/sec; 0.110 sec/batch)\n",
      "step 1960, loss 1.60 (1128.6 examples/sec; 0.113 sec/batch)\n",
      "step 1970, loss 1.81 (1129.0 examples/sec; 0.113 sec/batch)\n",
      "step 1980, loss 1.71 (1126.3 examples/sec; 0.114 sec/batch)\n",
      "step 1990, loss 1.59 (1145.8 examples/sec; 0.112 sec/batch)\n",
      "step 2000, loss 1.72 (1130.0 examples/sec; 0.113 sec/batch)\n",
      "step 2010, loss 1.46 (1148.3 examples/sec; 0.111 sec/batch)\n",
      "step 2020, loss 1.63 (1128.7 examples/sec; 0.113 sec/batch)\n",
      "step 2030, loss 1.69 (1110.0 examples/sec; 0.115 sec/batch)\n",
      "step 2040, loss 1.65 (1092.7 examples/sec; 0.117 sec/batch)\n",
      "step 2050, loss 1.88 (1151.5 examples/sec; 0.111 sec/batch)\n",
      "step 2060, loss 1.78 (1121.0 examples/sec; 0.114 sec/batch)\n",
      "step 2070, loss 1.94 (1136.1 examples/sec; 0.113 sec/batch)\n",
      "step 2080, loss 1.84 (1111.7 examples/sec; 0.115 sec/batch)\n",
      "step 2090, loss 1.78 (1077.2 examples/sec; 0.119 sec/batch)\n",
      "step 2100, loss 1.84 (1119.4 examples/sec; 0.114 sec/batch)\n",
      "step 2110, loss 1.71 (1143.3 examples/sec; 0.112 sec/batch)\n",
      "step 2120, loss 1.72 (1106.1 examples/sec; 0.116 sec/batch)\n",
      "step 2130, loss 1.78 (1119.2 examples/sec; 0.114 sec/batch)\n",
      "step 2140, loss 1.79 (1044.4 examples/sec; 0.123 sec/batch)\n",
      "step 2150, loss 1.76 (1053.7 examples/sec; 0.121 sec/batch)\n",
      "step 2160, loss 1.82 (1093.7 examples/sec; 0.117 sec/batch)\n",
      "step 2170, loss 1.68 (1143.6 examples/sec; 0.112 sec/batch)\n",
      "step 2180, loss 1.67 (1108.5 examples/sec; 0.115 sec/batch)\n",
      "step 2190, loss 1.71 (1121.6 examples/sec; 0.114 sec/batch)\n",
      "step 2200, loss 1.64 (1096.7 examples/sec; 0.117 sec/batch)\n",
      "step 2210, loss 1.72 (1115.7 examples/sec; 0.115 sec/batch)\n",
      "step 2220, loss 1.61 (1162.9 examples/sec; 0.110 sec/batch)\n",
      "step 2230, loss 1.72 (1159.7 examples/sec; 0.110 sec/batch)\n",
      "step 2240, loss 1.55 (1092.6 examples/sec; 0.117 sec/batch)\n",
      "step 2250, loss 1.89 (1113.5 examples/sec; 0.115 sec/batch)\n",
      "step 2260, loss 1.64 (1115.5 examples/sec; 0.115 sec/batch)\n",
      "step 2270, loss 1.68 (1129.9 examples/sec; 0.113 sec/batch)\n",
      "step 2280, loss 1.62 (1094.6 examples/sec; 0.117 sec/batch)\n",
      "step 2290, loss 1.65 (1131.0 examples/sec; 0.113 sec/batch)\n",
      "step 2300, loss 1.98 (1138.7 examples/sec; 0.112 sec/batch)\n",
      "step 2310, loss 1.72 (1107.3 examples/sec; 0.116 sec/batch)\n",
      "step 2320, loss 1.61 (1136.0 examples/sec; 0.113 sec/batch)\n",
      "step 2330, loss 1.74 (1122.2 examples/sec; 0.114 sec/batch)\n",
      "step 2340, loss 1.81 (1172.8 examples/sec; 0.109 sec/batch)\n",
      "step 2350, loss 1.79 (1129.2 examples/sec; 0.113 sec/batch)\n",
      "step 2360, loss 1.81 (1116.2 examples/sec; 0.115 sec/batch)\n",
      "step 2370, loss 1.66 (1120.7 examples/sec; 0.114 sec/batch)\n",
      "step 2380, loss 1.71 (1102.8 examples/sec; 0.116 sec/batch)\n",
      "step 2390, loss 1.68 (1137.6 examples/sec; 0.113 sec/batch)\n",
      "step 2400, loss 1.71 (1206.3 examples/sec; 0.106 sec/batch)\n",
      "step 2410, loss 1.62 (1112.9 examples/sec; 0.115 sec/batch)\n",
      "step 2420, loss 1.64 (1122.5 examples/sec; 0.114 sec/batch)\n",
      "step 2430, loss 1.78 (1155.4 examples/sec; 0.111 sec/batch)\n",
      "step 2440, loss 1.90 (1077.2 examples/sec; 0.119 sec/batch)\n",
      "step 2450, loss 1.69 (1070.4 examples/sec; 0.120 sec/batch)\n",
      "step 2460, loss 1.94 (1079.0 examples/sec; 0.119 sec/batch)\n",
      "step 2470, loss 1.54 (1107.7 examples/sec; 0.116 sec/batch)\n",
      "step 2480, loss 1.62 (1127.2 examples/sec; 0.114 sec/batch)\n",
      "step 2490, loss 1.63 (1153.8 examples/sec; 0.111 sec/batch)\n",
      "step 2500, loss 1.61 (1119.3 examples/sec; 0.114 sec/batch)\n",
      "step 2510, loss 1.64 (1125.6 examples/sec; 0.114 sec/batch)\n",
      "step 2520, loss 1.61 (1081.7 examples/sec; 0.118 sec/batch)\n",
      "step 2530, loss 1.73 (1147.0 examples/sec; 0.112 sec/batch)\n",
      "step 2540, loss 1.66 (1146.7 examples/sec; 0.112 sec/batch)\n",
      "step 2550, loss 1.69 (1109.9 examples/sec; 0.115 sec/batch)\n",
      "step 2560, loss 1.79 (1079.8 examples/sec; 0.119 sec/batch)\n",
      "step 2570, loss 1.69 (1093.8 examples/sec; 0.117 sec/batch)\n",
      "step 2580, loss 1.65 (1091.1 examples/sec; 0.117 sec/batch)\n",
      "step 2590, loss 1.74 (1083.1 examples/sec; 0.118 sec/batch)\n",
      "step 2600, loss 1.71 (1065.6 examples/sec; 0.120 sec/batch)\n",
      "step 2610, loss 1.76 (1115.5 examples/sec; 0.115 sec/batch)\n",
      "step 2620, loss 1.70 (1078.9 examples/sec; 0.119 sec/batch)\n",
      "step 2630, loss 1.71 (1120.5 examples/sec; 0.114 sec/batch)\n",
      "step 2640, loss 1.82 (1131.4 examples/sec; 0.113 sec/batch)\n",
      "step 2650, loss 1.66 (1115.3 examples/sec; 0.115 sec/batch)\n",
      "step 2660, loss 1.79 (1164.0 examples/sec; 0.110 sec/batch)\n",
      "step 2670, loss 1.62 (1135.7 examples/sec; 0.113 sec/batch)\n",
      "step 2680, loss 1.63 (1085.1 examples/sec; 0.118 sec/batch)\n",
      "step 2690, loss 1.75 (1110.1 examples/sec; 0.115 sec/batch)\n",
      "step 2700, loss 1.75 (1141.6 examples/sec; 0.112 sec/batch)\n",
      "step 2710, loss 1.80 (1116.6 examples/sec; 0.115 sec/batch)\n",
      "step 2720, loss 1.76 (1131.8 examples/sec; 0.113 sec/batch)\n",
      "step 2730, loss 1.66 (1116.9 examples/sec; 0.115 sec/batch)\n",
      "step 2740, loss 1.84 (1099.1 examples/sec; 0.116 sec/batch)\n",
      "step 2750, loss 1.72 (1154.5 examples/sec; 0.111 sec/batch)\n"
     ]
    },
    {
     "name": "stdout",
     "output_type": "stream",
     "text": [
      "step 2760, loss 1.57 (1100.3 examples/sec; 0.116 sec/batch)\n",
      "step 2770, loss 1.86 (1132.3 examples/sec; 0.113 sec/batch)\n",
      "step 2780, loss 1.81 (1128.6 examples/sec; 0.113 sec/batch)\n",
      "step 2790, loss 1.60 (1170.7 examples/sec; 0.109 sec/batch)\n",
      "step 2800, loss 1.80 (1111.8 examples/sec; 0.115 sec/batch)\n",
      "step 2810, loss 1.64 (1144.3 examples/sec; 0.112 sec/batch)\n",
      "step 2820, loss 1.64 (1118.9 examples/sec; 0.114 sec/batch)\n",
      "step 2830, loss 1.62 (1146.7 examples/sec; 0.112 sec/batch)\n",
      "step 2840, loss 1.65 (1117.1 examples/sec; 0.115 sec/batch)\n",
      "step 2850, loss 1.71 (1080.4 examples/sec; 0.118 sec/batch)\n",
      "step 2860, loss 1.66 (1121.7 examples/sec; 0.114 sec/batch)\n",
      "step 2870, loss 1.73 (1124.6 examples/sec; 0.114 sec/batch)\n",
      "step 2880, loss 1.68 (1155.4 examples/sec; 0.111 sec/batch)\n",
      "step 2890, loss 1.50 (1148.4 examples/sec; 0.111 sec/batch)\n",
      "step 2900, loss 1.75 (1126.7 examples/sec; 0.114 sec/batch)\n",
      "step 2910, loss 1.64 (1119.9 examples/sec; 0.114 sec/batch)\n",
      "step 2920, loss 1.62 (1093.0 examples/sec; 0.117 sec/batch)\n",
      "step 2930, loss 1.81 (1117.7 examples/sec; 0.115 sec/batch)\n",
      "step 2940, loss 1.74 (1145.5 examples/sec; 0.112 sec/batch)\n",
      "step 2950, loss 1.89 (1098.0 examples/sec; 0.117 sec/batch)\n",
      "step 2960, loss 1.54 (1104.8 examples/sec; 0.116 sec/batch)\n",
      "step 2970, loss 1.72 (1117.4 examples/sec; 0.115 sec/batch)\n",
      "step 2980, loss 1.70 (1117.0 examples/sec; 0.115 sec/batch)\n",
      "step 2990, loss 1.81 (1110.0 examples/sec; 0.115 sec/batch)\n",
      "step 3000, loss 1.81 (1128.8 examples/sec; 0.113 sec/batch)\n",
      "step 3010, loss 1.77 (1077.9 examples/sec; 0.119 sec/batch)\n",
      "step 3020, loss 1.53 (1070.4 examples/sec; 0.120 sec/batch)\n",
      "step 3030, loss 1.69 (1139.2 examples/sec; 0.112 sec/batch)\n",
      "step 3040, loss 1.65 (1106.1 examples/sec; 0.116 sec/batch)\n",
      "step 3050, loss 1.48 (1135.5 examples/sec; 0.113 sec/batch)\n",
      "step 3060, loss 1.53 (1102.0 examples/sec; 0.116 sec/batch)\n",
      "step 3070, loss 1.68 (1062.5 examples/sec; 0.120 sec/batch)\n",
      "step 3080, loss 1.71 (1099.8 examples/sec; 0.116 sec/batch)\n",
      "step 3090, loss 1.85 (1107.9 examples/sec; 0.116 sec/batch)\n",
      "step 3100, loss 1.75 (1111.3 examples/sec; 0.115 sec/batch)\n",
      "step 3110, loss 1.41 (1093.1 examples/sec; 0.117 sec/batch)\n",
      "step 3120, loss 1.56 (1175.6 examples/sec; 0.109 sec/batch)\n",
      "step 3130, loss 1.74 (1142.0 examples/sec; 0.112 sec/batch)\n",
      "step 3140, loss 1.64 (1132.7 examples/sec; 0.113 sec/batch)\n",
      "step 3150, loss 1.42 (1097.5 examples/sec; 0.117 sec/batch)\n",
      "step 3160, loss 1.61 (1126.7 examples/sec; 0.114 sec/batch)\n",
      "step 3170, loss 1.64 (1100.6 examples/sec; 0.116 sec/batch)\n",
      "step 3180, loss 1.64 (1123.2 examples/sec; 0.114 sec/batch)\n",
      "step 3190, loss 1.65 (1084.7 examples/sec; 0.118 sec/batch)\n",
      "step 3200, loss 1.75 (1194.8 examples/sec; 0.107 sec/batch)\n",
      "step 3210, loss 1.54 (1167.2 examples/sec; 0.110 sec/batch)\n",
      "step 3220, loss 1.68 (1149.3 examples/sec; 0.111 sec/batch)\n",
      "step 3230, loss 1.65 (1061.8 examples/sec; 0.121 sec/batch)\n",
      "step 3240, loss 1.67 (1109.0 examples/sec; 0.115 sec/batch)\n",
      "step 3250, loss 1.82 (1089.0 examples/sec; 0.118 sec/batch)\n",
      "step 3260, loss 1.64 (1147.2 examples/sec; 0.112 sec/batch)\n",
      "step 3270, loss 1.67 (1110.2 examples/sec; 0.115 sec/batch)\n",
      "step 3280, loss 1.77 (1146.2 examples/sec; 0.112 sec/batch)\n",
      "step 3290, loss 1.61 (1134.0 examples/sec; 0.113 sec/batch)\n",
      "step 3300, loss 1.58 (1116.5 examples/sec; 0.115 sec/batch)\n",
      "step 3310, loss 1.57 (1119.7 examples/sec; 0.114 sec/batch)\n",
      "step 3320, loss 1.66 (1147.9 examples/sec; 0.112 sec/batch)\n",
      "step 3330, loss 1.64 (1095.1 examples/sec; 0.117 sec/batch)\n",
      "step 3340, loss 1.78 (1074.4 examples/sec; 0.119 sec/batch)\n",
      "step 3350, loss 1.67 (1117.7 examples/sec; 0.115 sec/batch)\n",
      "step 3360, loss 1.52 (1107.7 examples/sec; 0.116 sec/batch)\n",
      "step 3370, loss 1.59 (1134.0 examples/sec; 0.113 sec/batch)\n",
      "step 3380, loss 1.73 (1143.3 examples/sec; 0.112 sec/batch)\n",
      "step 3390, loss 1.73 (1120.7 examples/sec; 0.114 sec/batch)\n",
      "step 3400, loss 1.61 (1147.8 examples/sec; 0.112 sec/batch)\n",
      "step 3410, loss 1.76 (1153.1 examples/sec; 0.111 sec/batch)\n",
      "step 3420, loss 1.67 (1112.5 examples/sec; 0.115 sec/batch)\n",
      "step 3430, loss 1.66 (1139.1 examples/sec; 0.112 sec/batch)\n",
      "step 3440, loss 1.84 (1131.7 examples/sec; 0.113 sec/batch)\n",
      "step 3450, loss 1.58 (1108.2 examples/sec; 0.115 sec/batch)\n",
      "step 3460, loss 1.65 (1135.4 examples/sec; 0.113 sec/batch)\n",
      "step 3470, loss 1.58 (1098.7 examples/sec; 0.117 sec/batch)\n",
      "step 3480, loss 1.68 (1156.3 examples/sec; 0.111 sec/batch)\n",
      "step 3490, loss 1.63 (1155.5 examples/sec; 0.111 sec/batch)\n",
      "step 3500, loss 1.63 (1117.1 examples/sec; 0.115 sec/batch)\n",
      "step 3510, loss 1.61 (1102.1 examples/sec; 0.116 sec/batch)\n",
      "step 3520, loss 1.68 (1121.3 examples/sec; 0.114 sec/batch)\n",
      "step 3530, loss 1.65 (1198.5 examples/sec; 0.107 sec/batch)\n",
      "step 3540, loss 1.59 (1108.3 examples/sec; 0.115 sec/batch)\n",
      "step 3550, loss 1.50 (1182.9 examples/sec; 0.108 sec/batch)\n",
      "step 3560, loss 1.83 (1095.0 examples/sec; 0.117 sec/batch)\n",
      "step 3570, loss 1.75 (1160.2 examples/sec; 0.110 sec/batch)\n",
      "step 3580, loss 1.63 (1126.6 examples/sec; 0.114 sec/batch)\n",
      "step 3590, loss 1.52 (1101.6 examples/sec; 0.116 sec/batch)\n",
      "step 3600, loss 1.56 (1108.6 examples/sec; 0.115 sec/batch)\n",
      "step 3610, loss 1.58 (1118.7 examples/sec; 0.114 sec/batch)\n",
      "step 3620, loss 1.60 (1091.0 examples/sec; 0.117 sec/batch)\n",
      "step 3630, loss 1.83 (1134.5 examples/sec; 0.113 sec/batch)\n",
      "step 3640, loss 1.55 (1101.8 examples/sec; 0.116 sec/batch)\n",
      "step 3650, loss 1.69 (1126.0 examples/sec; 0.114 sec/batch)\n",
      "step 3660, loss 1.50 (1100.1 examples/sec; 0.116 sec/batch)\n",
      "step 3670, loss 1.64 (1147.6 examples/sec; 0.112 sec/batch)\n",
      "step 3680, loss 1.75 (1170.5 examples/sec; 0.109 sec/batch)\n",
      "step 3690, loss 1.66 (1127.6 examples/sec; 0.114 sec/batch)\n",
      "step 3700, loss 1.76 (1105.6 examples/sec; 0.116 sec/batch)\n",
      "step 3710, loss 1.62 (1106.0 examples/sec; 0.116 sec/batch)\n",
      "step 3720, loss 1.64 (1134.5 examples/sec; 0.113 sec/batch)\n",
      "step 3730, loss 1.74 (1092.6 examples/sec; 0.117 sec/batch)\n",
      "step 3740, loss 1.68 (1125.6 examples/sec; 0.114 sec/batch)\n",
      "step 3750, loss 1.61 (1130.0 examples/sec; 0.113 sec/batch)\n",
      "step 3760, loss 1.63 (1143.7 examples/sec; 0.112 sec/batch)\n",
      "step 3770, loss 1.70 (1062.2 examples/sec; 0.121 sec/batch)\n",
      "step 3780, loss 1.66 (1123.9 examples/sec; 0.114 sec/batch)\n",
      "step 3790, loss 1.60 (1119.1 examples/sec; 0.114 sec/batch)\n",
      "step 3800, loss 1.58 (1099.4 examples/sec; 0.116 sec/batch)\n",
      "step 3810, loss 1.53 (1107.3 examples/sec; 0.116 sec/batch)\n",
      "step 3820, loss 1.54 (1121.0 examples/sec; 0.114 sec/batch)\n",
      "step 3830, loss 1.60 (1100.7 examples/sec; 0.116 sec/batch)\n",
      "step 3840, loss 1.54 (1161.4 examples/sec; 0.110 sec/batch)\n",
      "step 3850, loss 1.63 (1123.6 examples/sec; 0.114 sec/batch)\n",
      "step 3860, loss 1.69 (1115.6 examples/sec; 0.115 sec/batch)\n",
      "step 3870, loss 1.51 (1082.1 examples/sec; 0.118 sec/batch)\n",
      "step 3880, loss 1.63 (1073.3 examples/sec; 0.119 sec/batch)\n",
      "step 3890, loss 1.61 (1100.7 examples/sec; 0.116 sec/batch)\n",
      "step 3900, loss 1.48 (1071.9 examples/sec; 0.119 sec/batch)\n",
      "step 3910, loss 1.67 (1111.4 examples/sec; 0.115 sec/batch)\n",
      "step 3920, loss 1.51 (1165.6 examples/sec; 0.110 sec/batch)\n",
      "step 3930, loss 1.83 (1126.9 examples/sec; 0.114 sec/batch)\n",
      "step 3940, loss 1.39 (1111.3 examples/sec; 0.115 sec/batch)\n",
      "step 3950, loss 1.70 (1117.0 examples/sec; 0.115 sec/batch)\n",
      "step 3960, loss 1.53 (1090.9 examples/sec; 0.117 sec/batch)\n",
      "step 3970, loss 1.54 (1207.5 examples/sec; 0.106 sec/batch)\n",
      "step 3980, loss 1.49 (1155.0 examples/sec; 0.111 sec/batch)\n",
      "step 3990, loss 1.67 (1123.0 examples/sec; 0.114 sec/batch)\n",
      "step 4000, loss 1.63 (1150.8 examples/sec; 0.111 sec/batch)\n",
      "step 4010, loss 1.55 (1058.5 examples/sec; 0.121 sec/batch)\n",
      "step 4020, loss 1.70 (1012.9 examples/sec; 0.126 sec/batch)\n",
      "step 4030, loss 1.65 (1112.2 examples/sec; 0.115 sec/batch)\n",
      "step 4040, loss 1.55 (1119.0 examples/sec; 0.114 sec/batch)\n",
      "step 4050, loss 1.47 (1158.3 examples/sec; 0.111 sec/batch)\n",
      "step 4060, loss 1.58 (1179.8 examples/sec; 0.108 sec/batch)\n",
      "step 4070, loss 1.68 (1167.1 examples/sec; 0.110 sec/batch)\n",
      "step 4080, loss 1.55 (1148.3 examples/sec; 0.111 sec/batch)\n",
      "step 4090, loss 1.64 (1151.5 examples/sec; 0.111 sec/batch)\n",
      "step 4100, loss 1.60 (1126.4 examples/sec; 0.114 sec/batch)\n",
      "step 4110, loss 1.63 (1142.7 examples/sec; 0.112 sec/batch)\n",
      "step 4120, loss 1.62 (1179.1 examples/sec; 0.109 sec/batch)\n"
     ]
    },
    {
     "name": "stdout",
     "output_type": "stream",
     "text": [
      "step 4130, loss 1.62 (1157.6 examples/sec; 0.111 sec/batch)\n",
      "step 4140, loss 1.61 (1113.5 examples/sec; 0.115 sec/batch)\n",
      "step 4150, loss 1.72 (1112.4 examples/sec; 0.115 sec/batch)\n",
      "step 4160, loss 1.57 (1097.4 examples/sec; 0.117 sec/batch)\n",
      "step 4170, loss 1.66 (1105.3 examples/sec; 0.116 sec/batch)\n",
      "step 4180, loss 1.57 (1107.0 examples/sec; 0.116 sec/batch)\n",
      "step 4190, loss 1.61 (1073.0 examples/sec; 0.119 sec/batch)\n",
      "step 4200, loss 1.42 (1134.6 examples/sec; 0.113 sec/batch)\n",
      "step 4210, loss 1.69 (1157.0 examples/sec; 0.111 sec/batch)\n",
      "step 4220, loss 1.75 (1188.1 examples/sec; 0.108 sec/batch)\n",
      "step 4230, loss 1.69 (1139.1 examples/sec; 0.112 sec/batch)\n",
      "step 4240, loss 1.70 (1149.8 examples/sec; 0.111 sec/batch)\n",
      "step 4250, loss 1.50 (1153.6 examples/sec; 0.111 sec/batch)\n",
      "step 4260, loss 1.73 (1155.5 examples/sec; 0.111 sec/batch)\n",
      "step 4270, loss 1.64 (1088.5 examples/sec; 0.118 sec/batch)\n",
      "step 4280, loss 1.69 (1133.7 examples/sec; 0.113 sec/batch)\n",
      "step 4290, loss 1.73 (1108.0 examples/sec; 0.116 sec/batch)\n",
      "step 4300, loss 1.64 (1103.5 examples/sec; 0.116 sec/batch)\n",
      "step 4310, loss 1.49 (1115.4 examples/sec; 0.115 sec/batch)\n",
      "step 4320, loss 1.68 (1165.9 examples/sec; 0.110 sec/batch)\n",
      "step 4330, loss 1.47 (1124.2 examples/sec; 0.114 sec/batch)\n",
      "step 4340, loss 1.57 (1154.8 examples/sec; 0.111 sec/batch)\n",
      "step 4350, loss 1.32 (1122.2 examples/sec; 0.114 sec/batch)\n",
      "step 4360, loss 1.46 (1119.4 examples/sec; 0.114 sec/batch)\n",
      "step 4370, loss 1.46 (1090.3 examples/sec; 0.117 sec/batch)\n",
      "step 4380, loss 1.52 (1137.0 examples/sec; 0.113 sec/batch)\n",
      "step 4390, loss 1.75 (1122.3 examples/sec; 0.114 sec/batch)\n",
      "step 4400, loss 1.61 (1130.8 examples/sec; 0.113 sec/batch)\n",
      "step 4410, loss 1.58 (1139.7 examples/sec; 0.112 sec/batch)\n",
      "step 4420, loss 1.53 (1084.4 examples/sec; 0.118 sec/batch)\n",
      "step 4430, loss 1.72 (1100.2 examples/sec; 0.116 sec/batch)\n",
      "step 4440, loss 1.69 (1127.4 examples/sec; 0.114 sec/batch)\n",
      "step 4450, loss 1.53 (1084.0 examples/sec; 0.118 sec/batch)\n",
      "step 4460, loss 1.68 (1072.9 examples/sec; 0.119 sec/batch)\n",
      "step 4470, loss 1.65 (1078.5 examples/sec; 0.119 sec/batch)\n",
      "step 4480, loss 1.56 (1079.0 examples/sec; 0.119 sec/batch)\n",
      "step 4490, loss 1.58 (1136.4 examples/sec; 0.113 sec/batch)\n",
      "step 4500, loss 1.67 (965.6 examples/sec; 0.133 sec/batch)\n",
      "step 4510, loss 1.67 (1061.2 examples/sec; 0.121 sec/batch)\n",
      "step 4520, loss 1.50 (1049.6 examples/sec; 0.122 sec/batch)\n",
      "step 4530, loss 1.84 (993.6 examples/sec; 0.129 sec/batch)\n",
      "step 4540, loss 1.52 (1174.4 examples/sec; 0.109 sec/batch)\n",
      "step 4550, loss 1.59 (1155.4 examples/sec; 0.111 sec/batch)\n",
      "step 4560, loss 1.78 (1120.1 examples/sec; 0.114 sec/batch)\n",
      "step 4570, loss 1.70 (1112.2 examples/sec; 0.115 sec/batch)\n",
      "step 4580, loss 1.69 (1153.4 examples/sec; 0.111 sec/batch)\n",
      "step 4590, loss 1.64 (1127.5 examples/sec; 0.114 sec/batch)\n",
      "step 4600, loss 1.61 (1099.1 examples/sec; 0.116 sec/batch)\n",
      "step 4610, loss 1.60 (1166.4 examples/sec; 0.110 sec/batch)\n",
      "step 4620, loss 1.72 (1051.8 examples/sec; 0.122 sec/batch)\n",
      "step 4630, loss 1.66 (1032.4 examples/sec; 0.124 sec/batch)\n",
      "step 4640, loss 1.63 (890.8 examples/sec; 0.144 sec/batch)\n",
      "step 4650, loss 1.73 (1129.7 examples/sec; 0.113 sec/batch)\n",
      "step 4660, loss 1.56 (1113.8 examples/sec; 0.115 sec/batch)\n",
      "step 4670, loss 1.54 (1119.7 examples/sec; 0.114 sec/batch)\n",
      "step 4680, loss 1.63 (1105.0 examples/sec; 0.116 sec/batch)\n",
      "step 4690, loss 1.68 (1070.2 examples/sec; 0.120 sec/batch)\n",
      "step 4700, loss 1.73 (1145.1 examples/sec; 0.112 sec/batch)\n",
      "step 4710, loss 1.66 (1111.1 examples/sec; 0.115 sec/batch)\n",
      "step 4720, loss 1.55 (1124.9 examples/sec; 0.114 sec/batch)\n",
      "step 4730, loss 1.75 (1136.8 examples/sec; 0.113 sec/batch)\n",
      "step 4740, loss 1.51 (1120.0 examples/sec; 0.114 sec/batch)\n",
      "step 4750, loss 1.57 (1180.5 examples/sec; 0.108 sec/batch)\n",
      "step 4760, loss 1.52 (1096.5 examples/sec; 0.117 sec/batch)\n",
      "step 4770, loss 1.73 (1022.7 examples/sec; 0.125 sec/batch)\n",
      "step 4780, loss 1.67 (980.2 examples/sec; 0.131 sec/batch)\n",
      "step 4790, loss 1.59 (956.9 examples/sec; 0.134 sec/batch)\n",
      "step 4800, loss 1.45 (1110.0 examples/sec; 0.115 sec/batch)\n",
      "step 4810, loss 1.57 (1116.0 examples/sec; 0.115 sec/batch)\n",
      "step 4820, loss 1.75 (1150.7 examples/sec; 0.111 sec/batch)\n",
      "step 4830, loss 1.67 (1124.1 examples/sec; 0.114 sec/batch)\n",
      "step 4840, loss 1.70 (1169.2 examples/sec; 0.109 sec/batch)\n",
      "step 4850, loss 1.47 (1098.6 examples/sec; 0.117 sec/batch)\n",
      "step 4860, loss 1.68 (1042.4 examples/sec; 0.123 sec/batch)\n",
      "step 4870, loss 1.58 (1119.8 examples/sec; 0.114 sec/batch)\n",
      "step 4880, loss 1.64 (1110.7 examples/sec; 0.115 sec/batch)\n",
      "step 4890, loss 1.69 (1148.6 examples/sec; 0.111 sec/batch)\n",
      "step 4900, loss 1.60 (1043.9 examples/sec; 0.123 sec/batch)\n",
      "step 4910, loss 1.36 (1089.9 examples/sec; 0.117 sec/batch)\n",
      "step 4920, loss 1.63 (1092.6 examples/sec; 0.117 sec/batch)\n",
      "step 4930, loss 1.73 (1112.4 examples/sec; 0.115 sec/batch)\n",
      "step 4940, loss 1.60 (1080.8 examples/sec; 0.118 sec/batch)\n",
      "step 4950, loss 1.47 (1140.9 examples/sec; 0.112 sec/batch)\n",
      "step 4960, loss 1.81 (1126.6 examples/sec; 0.114 sec/batch)\n",
      "step 4970, loss 1.68 (1127.3 examples/sec; 0.114 sec/batch)\n",
      "step 4980, loss 1.68 (1111.0 examples/sec; 0.115 sec/batch)\n",
      "step 4990, loss 1.48 (1104.3 examples/sec; 0.116 sec/batch)\n"
     ]
    }
   ],
   "source": [
    "for step in range(max_steps):\n",
    "    start_time = time.time()\n",
    "    image_batch, label_batch = sess.run([images_train, labels_train])\n",
    "    _, loss_value = sess.run([train_op, loss], feed_dict={image_holder: image_batch, label_holder: label_batch})\n",
    "    duration = time.time() - start_time\n",
    "    \n",
    "    if step % 10 == 0:\n",
    "        examples_per_sec = batch_size / duration\n",
    "        sec_per_batch = float(duration)\n",
    "        \n",
    "        format_str = ('step %d, loss %.2f (%.1f examples/sec; %.3f sec/batch)')\n",
    "        print(format(format_str % (step, loss_value, examples_per_sec, sec_per_batch)))"
   ]
  },
  {
   "cell_type": "code",
   "execution_count": 13,
   "metadata": {
    "scrolled": false
   },
   "outputs": [
    {
     "name": "stdout",
     "output_type": "stream",
     "text": [
      "precision @ 1 = 0.551\n"
     ]
    }
   ],
   "source": [
    "num_examples = 10000\n",
    "import math\n",
    "num_iter = int(math.ceil(num_examples / batch_size))\n",
    "true_count = 0\n",
    "total_sample_count = num_iter * batch_size\n",
    "i = 0\n",
    "while i < num_iter:\n",
    "    image_batch, label_batch = sess.run([images_test, labels_test])\n",
    "    prediction = sess.run([top_k_op], feed_dict={image_holder: image_batch, label_holder: label_batch})\n",
    "    true_count += np.sum(prediction)\n",
    "    i += 1\n",
    "#     print(prediction)\n",
    "    \n",
    "precision = true_count / total_sample_count\n",
    "print('precision @ 1 = %.3f' % precision)"
   ]
  },
  {
   "cell_type": "code",
   "execution_count": null,
   "metadata": {},
   "outputs": [],
   "source": []
  }
 ],
 "metadata": {
  "kernelspec": {
   "display_name": "Python 3",
   "language": "python",
   "name": "python3"
  },
  "language_info": {
   "codemirror_mode": {
    "name": "ipython",
    "version": 3
   },
   "file_extension": ".py",
   "mimetype": "text/x-python",
   "name": "python",
   "nbconvert_exporter": "python",
   "pygments_lexer": "ipython3",
   "version": "3.6.5"
  }
 },
 "nbformat": 4,
 "nbformat_minor": 2
}
